{
 "cells": [
  {
   "cell_type": "code",
   "execution_count": 1,
   "id": "ce4980db",
   "metadata": {},
   "outputs": [],
   "source": [
    "import cv2"
   ]
  },
  {
   "cell_type": "code",
   "execution_count": 2,
   "id": "7c51cfe2",
   "metadata": {},
   "outputs": [],
   "source": [
    "img = cv2.imread('1.png')"
   ]
  },
  {
   "cell_type": "code",
   "execution_count": 3,
   "id": "94560d5b",
   "metadata": {},
   "outputs": [
    {
     "data": {
      "text/plain": [
       "-1"
      ]
     },
     "execution_count": 3,
     "metadata": {},
     "output_type": "execute_result"
    }
   ],
   "source": [
    "# Show image\n",
    "cv2.imshow('Original Image', img) \n",
    "cv2.waitKey(0)"
   ]
  },
  {
   "cell_type": "code",
   "execution_count": 5,
   "id": "73cf8ea0",
   "metadata": {},
   "outputs": [
    {
     "data": {
      "text/plain": [
       "(199, 198, 3)"
      ]
     },
     "execution_count": 5,
     "metadata": {},
     "output_type": "execute_result"
    }
   ],
   "source": [
    "img.shape"
   ]
  },
  {
   "cell_type": "markdown",
   "id": "e8d066bd",
   "metadata": {},
   "source": [
    "## Rotate Image"
   ]
  },
  {
   "cell_type": "code",
   "execution_count": 8,
   "id": "5d523602",
   "metadata": {},
   "outputs": [],
   "source": [
    "angle, scale = 90, 0.5\n",
    "height, width = img.shape[0:2]\n",
    "rotationMatrix = cv2.getRotationMatrix2D((width/2, height/2), angle, scale)"
   ]
  },
  {
   "cell_type": "code",
   "execution_count": 9,
   "id": "1fb15409",
   "metadata": {},
   "outputs": [],
   "source": [
    "rotatedImage = cv2.warpAffine(img, rotationMatrix, (width, height))"
   ]
  },
  {
   "cell_type": "code",
   "execution_count": 10,
   "id": "816753e9",
   "metadata": {},
   "outputs": [
    {
     "data": {
      "text/plain": [
       "-1"
      ]
     },
     "execution_count": 10,
     "metadata": {},
     "output_type": "execute_result"
    }
   ],
   "source": [
    "cv2.imshow('Rotated Image', rotatedImage)\n",
    "cv2.waitKey(0)"
   ]
  },
  {
   "cell_type": "markdown",
   "id": "7ffce8d5",
   "metadata": {},
   "source": [
    "## Crop an Image"
   ]
  },
  {
   "cell_type": "code",
   "execution_count": 11,
   "id": "d4b10517",
   "metadata": {},
   "outputs": [],
   "source": [
    "height, width = img.shape[0:2]"
   ]
  },
  {
   "cell_type": "code",
   "execution_count": 12,
   "id": "34215b94",
   "metadata": {},
   "outputs": [],
   "source": [
    "startRow = int(height*.15)\n",
    "startCol = int(width*.15)\n",
    "endRow = int(height*.85)\n",
    "endCol = int(width*.85)"
   ]
  },
  {
   "cell_type": "code",
   "execution_count": 13,
   "id": "77084c5a",
   "metadata": {},
   "outputs": [],
   "source": [
    "croppedImage = img[startRow:endRow, startCol:endCol]"
   ]
  },
  {
   "cell_type": "code",
   "execution_count": 14,
   "id": "05f66e9c",
   "metadata": {},
   "outputs": [
    {
     "data": {
      "text/plain": [
       "-1"
      ]
     },
     "execution_count": 14,
     "metadata": {},
     "output_type": "execute_result"
    }
   ],
   "source": [
    "cv2.imshow('Original Image', img)\n",
    "cv2.imshow('Cropped Image', croppedImage)\n",
    "cv2.waitKey(0)"
   ]
  },
  {
   "cell_type": "markdown",
   "id": "7b646b8f",
   "metadata": {},
   "source": [
    "## Resize an Image"
   ]
  },
  {
   "cell_type": "code",
   "execution_count": 16,
   "id": "f670c611",
   "metadata": {},
   "outputs": [
    {
     "data": {
      "text/plain": [
       "-1"
      ]
     },
     "execution_count": 16,
     "metadata": {},
     "output_type": "execute_result"
    }
   ],
   "source": [
    "# using the resize method with axis values:\n",
    "resizedImg = cv2.resize(img, (0,0), fx=0.75, fy=0.75)\n",
    "cv2.imshow('Resized Image', resizedImg)\n",
    "cv2.waitKey(0)"
   ]
  },
  {
   "cell_type": "code",
   "execution_count": 19,
   "id": "4f4a0ef6",
   "metadata": {},
   "outputs": [
    {
     "data": {
      "text/plain": [
       "-1"
      ]
     },
     "execution_count": 19,
     "metadata": {},
     "output_type": "execute_result"
    }
   ],
   "source": [
    "# using the row and column values to resize the image:\n",
    "width, height = 550, 450\n",
    "newImg = cv2.resize(img, (width, height))\n",
    "cv2.imshow('Resized Image', newImg)\n",
    "cv2.waitKey(0)"
   ]
  },
  {
   "cell_type": "markdown",
   "id": "f385f8e6",
   "metadata": {},
   "source": [
    "## Make an image blurry \n",
    "### Gaussian Blur"
   ]
  },
  {
   "cell_type": "code",
   "execution_count": 22,
   "id": "64ffb2b7",
   "metadata": {},
   "outputs": [
    {
     "data": {
      "text/plain": [
       "-1"
      ]
     },
     "execution_count": 22,
     "metadata": {},
     "output_type": "execute_result"
    }
   ],
   "source": [
    "gaussan_blur_image = cv2.GaussianBlur(img, (7,7), 0)\n",
    "cv2.imshow('Original Image', img)\n",
    "cv2.imshow('Blur Image', gaussan_blur_image)\n",
    "cv2.waitKey(0)"
   ]
  },
  {
   "cell_type": "markdown",
   "id": "1f361b12",
   "metadata": {},
   "source": [
    "### Median Blur\n"
   ]
  },
  {
   "cell_type": "code",
   "execution_count": 23,
   "id": "ad7eb192",
   "metadata": {},
   "outputs": [
    {
     "data": {
      "text/plain": [
       "-1"
      ]
     },
     "execution_count": 23,
     "metadata": {},
     "output_type": "execute_result"
    }
   ],
   "source": [
    "median_blur_image = cv2.medianBlur(img,5)\n",
    "cv2.imshow('Original Image', img)\n",
    "cv2.imshow('Blur Image', median_blur_image)\n",
    "cv2.waitKey(0)"
   ]
  },
  {
   "cell_type": "code",
   "execution_count": 24,
   "id": "7b2dc988",
   "metadata": {},
   "outputs": [
    {
     "data": {
      "text/plain": [
       "-1"
      ]
     },
     "execution_count": 24,
     "metadata": {},
     "output_type": "execute_result"
    }
   ],
   "source": [
    "# Compare\n",
    "cv2.imshow('Gaussan Blur Image', gaussan_blur_image)\n",
    "cv2.imshow('Median Blur Image', median_blur_image)\n",
    "cv2.waitKey(0)"
   ]
  },
  {
   "cell_type": "markdown",
   "id": "53fd2e74",
   "metadata": {},
   "source": [
    "## Detect Edges"
   ]
  },
  {
   "cell_type": "code",
   "execution_count": 30,
   "id": "927b17e8",
   "metadata": {},
   "outputs": [
    {
     "data": {
      "text/plain": [
       "-1"
      ]
     },
     "execution_count": 30,
     "metadata": {},
     "output_type": "execute_result"
    }
   ],
   "source": [
    "edge_img = cv2.Canny(img, 100, 200)\n",
    "cv2.imshow(\"Detected Edges\", edge_img)\n",
    "cv2.waitKey(0)"
   ]
  },
  {
   "cell_type": "markdown",
   "id": "a865a70d",
   "metadata": {},
   "source": [
    "## Convert image to grayscale"
   ]
  },
  {
   "cell_type": "code",
   "execution_count": 31,
   "id": "bf1f8aa7",
   "metadata": {},
   "outputs": [
    {
     "data": {
      "text/plain": [
       "-1"
      ]
     },
     "execution_count": 31,
     "metadata": {},
     "output_type": "execute_result"
    }
   ],
   "source": [
    "gray_img = cv2.cvtColor(img, cv2.COLOR_BGR2GRAY)\n",
    "cv2.imshow(\"Gray Scale Image\", gray_img)\n",
    "cv2.waitKey(0)"
   ]
  },
  {
   "cell_type": "markdown",
   "id": "5eef92d0",
   "metadata": {},
   "source": [
    "## Extracting text from Image (OCR)"
   ]
  },
  {
   "cell_type": "code",
   "execution_count": null,
   "id": "b82584bf",
   "metadata": {},
   "outputs": [],
   "source": [
    "pip install pytesseract"
   ]
  },
  {
   "cell_type": "code",
   "execution_count": 2,
   "id": "2f67c96c",
   "metadata": {},
   "outputs": [],
   "source": [
    "import pytesseract"
   ]
  },
  {
   "cell_type": "code",
   "execution_count": 3,
   "id": "1ce016a9",
   "metadata": {},
   "outputs": [],
   "source": [
    "# install Google Tesseract-OCR from this path\n",
    "# https://digi.bib.uni-mannheim.de/tesseract/tesseract-ocr-setup-3.05.02-20180621.exe\n",
    "\n",
    "    # Set the path of the Tesseract-OCR executable file:\n",
    "pytesseract.pytesseract.tesseract_cmd = r'C:\\Program Files (x86)\\Tesseract-OCR\\tesseract'"
   ]
  },
  {
   "cell_type": "code",
   "execution_count": 8,
   "id": "8e2180ca",
   "metadata": {},
   "outputs": [
    {
     "name": "stdout",
     "output_type": "stream",
     "text": [
      "I‘ Cugmax Image 7 D X\n",
      "\n",
      " \n",
      "\n",
      "LikeGeeks.com is a website\n",
      "which contains articles about\n",
      "Linux, programming, web\n",
      "development, iOS, Python and\n",
      "other tech tips.\n",
      "\n",
      "\n"
     ]
    }
   ],
   "source": [
    "print(pytesseract.image_to_string('sample.png'))\n",
    "\n",
    "# https://likegeeks.com/python-image-processing/#Extracting_text_from_Image_OCR"
   ]
  },
  {
   "cell_type": "code",
   "execution_count": null,
   "id": "7a2333d8",
   "metadata": {},
   "outputs": [],
   "source": []
  }
 ],
 "metadata": {
  "kernelspec": {
   "display_name": "Python 3 (ipykernel)",
   "language": "python",
   "name": "python3"
  },
  "language_info": {
   "codemirror_mode": {
    "name": "ipython",
    "version": 3
   },
   "file_extension": ".py",
   "mimetype": "text/x-python",
   "name": "python",
   "nbconvert_exporter": "python",
   "pygments_lexer": "ipython3",
   "version": "3.10.0"
  }
 },
 "nbformat": 4,
 "nbformat_minor": 5
}
