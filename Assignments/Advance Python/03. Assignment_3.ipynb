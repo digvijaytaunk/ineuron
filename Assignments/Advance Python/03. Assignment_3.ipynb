{
 "cells": [
  {
   "cell_type": "markdown",
   "id": "088087fc",
   "metadata": {},
   "source": [
    "# Assignment 03"
   ]
  },
  {
   "cell_type": "markdown",
   "id": "663379b5",
   "metadata": {},
   "source": [
    "#### Q1. What is the concept of an abstract superclass?\n",
    "**Ans.** \n",
    "An abstract superclass in Python is a class that defines a common interface for its subclasses, but cannot be instantiated itself. The purpose of an abstract superclass is to provide a blueprint for creating more specialized subclasses, and to enforce a common structure or interface that must be implemented by all of its subclasses.\n",
    "\n",
    "In Python, an abstract superclass is created using the \"abc\" (Abstract Base Class) module, which provides tools for defining and using abstract classes. An abstract class is defined by subclassing the \"ABC\" (Abstract Base Class) class, and marking methods with the \"@abstractmethod\" decorator to indicate that they must be overridden by subclasses.\n",
    "\n",
    "Here is an example of how to define an abstract superclass in Python:\n",
    "\n",
    "```python\n",
    "from abc import ABC, abstractmethod\n",
    "\n",
    "class Shape(ABC):\n",
    "    @abstractmethod\n",
    "    def area(self):\n",
    "        pass\n",
    "\n",
    "class Triangle(Shape):\n",
    "    def __init__(self, base, height):\n",
    "        self.base = base\n",
    "        self.height = height\n",
    "    \n",
    "    def area(self):\n",
    "        return 0.5 * self.base * self.height\n",
    "\n",
    "```\n",
    "\n",
    "In this example, the `Shape` class is an abstract superclass that defines an interface for calculating the area of a shape. The `Triangle` class is a subclass of `Shape` that implements the `area` method, and thus provides a concrete implementation of the abstract interface defined by the superclass. Attempting to instantiate the `Shape` class directly will result in a `TypeError`, as it is not meant to be used directly."
   ]
  },
  {
   "cell_type": "markdown",
   "id": "f5813dbd",
   "metadata": {},
   "source": [
    "#### Q2. What happens when a class statement&#39;s top level contains a basic assignment statement?\n",
    "**Ans.** \n",
    "When a class statement's top level (i.e., outside of any method definitions) contains a basic assignment statement, the assignment statement will define a class attribute with the specified name and value. A class attribute is a variable that belongs to the class, rather than to any individual instance of the class.\n",
    "\n",
    "Here's an example:\n",
    "\n",
    "```python\n",
    "class MyClass:\n",
    "    x = 42\n",
    "    def print_x(self):\n",
    "        print(self.x)\n",
    "\n",
    "obj = MyClass()\n",
    "obj.print_x() # prints 42\n",
    "\n",
    "```\n",
    "In this example, the class `MyClass` has a class attribute `x` with the value `42`. The method `print_x` retrieves the value of `x` using the `self.x` notation, which refers to the `x` attribute of the instance to which the method is called. When the method is called on the instance `obj` of the `MyClass` class, the value `42` is printed.\n",
    "\n",
    "It's important to note that all instances of a class share the same class attributes, so changes to a class attribute will affect all instances of the class."
   ]
  },
  {
   "cell_type": "markdown",
   "id": "16e4db49",
   "metadata": {},
   "source": [
    "#### Q3. Why does a class need to manually call a superclass&#39;s __init__ method?\n",
    "**Ans.** \n",
    "A class in Python does not need to manually call a superclass's `__init__` method, but doing so can be useful in certain circumstances. When a subclass is created, its `__init__` method is automatically called when an instance of the subclass is created. However, the superclass's `__init__` method is not automatically called.\n",
    "\n",
    "If a subclass needs to inherit the state or behavior of its superclass, it may be necessary to call the superclass's `__init__` method in order to initialize that state or behavior. This allows the subclass to extend or modify the behavior of the superclass's `__init__` method, while still preserving the basic state or behavior defined by the superclass.\n",
    "\n",
    "Here's an example that demonstrates this concept:\n",
    "\n",
    "```python\n",
    "class Animal:\n",
    "    def __init__(self, species):\n",
    "        self.species = species\n",
    "\n",
    "class Dog(Animal):\n",
    "    def __init__(self, breed):\n",
    "        Animal.__init__(self, 'dog')\n",
    "        self.breed = breed\n",
    "\n",
    "dog = Dog('Labrador')\n",
    "print(dog.species) # outputs 'dog'\n",
    "print(dog.breed) # outputs 'Labrador'\n",
    "\n",
    "```\n",
    "In this example, the `Dog` class inherits from the `Animal` class. The `Dog` class has its own `__init__` method, which calls the `__init__` method of the `Animal` class using the `Animal.__init__` notation. This allows the `Dog` class to initialize the `species` attribute of the `Animal` class, while also initializing its own `breed` attribute."
   ]
  },
  {
   "cell_type": "markdown",
   "id": "333f5006",
   "metadata": {},
   "source": [
    "#### Q4. How can you augment, instead of completely replacing, an inherited method?\n",
    "**Ans.** \n",
    "To augment, instead of completely replacing, an inherited method, you can define a new method with the same name in the subclass and use the `super()` function to call the superclass's implementation of the method.\n",
    "\n",
    "The `super()` function returns a temporary object of the superclass, which allows you to call its methods. By using `super()` to call the superclass's implementation of a method, you can execute the superclass's code and then add your own additional behavior.\n",
    "\n",
    "Here's an example that demonstrates this concept:\n",
    "\n",
    "```python\n",
    "class Shape:\n",
    "    def __init__(self, x, y):\n",
    "        self.x = x\n",
    "        self.y = y\n",
    "        \n",
    "    def area(self):\n",
    "        return 0\n",
    "\n",
    "class Rectangle(Shape):\n",
    "    def __init__(self, x, y, width, height):\n",
    "        super().__init__(x, y)\n",
    "        self.width = width\n",
    "        self.height = height\n",
    "        \n",
    "    def area(self):\n",
    "        return self.width * self.height + super().area()\n",
    "\n",
    "```\n",
    "In this example, the `Rectangle` class extends the `Shape` class and adds a new implementation of the `area` method. The `area` method in the `Rectangle` class first calls the `area` method in the `Shape` class using `super().area()`, and then adds its own behavior by returning the product of `width` and `height`. This allows the `Rectangle` class to augment, rather than completely replace, the behavior of the `area` method inherited from the `Shape` class."
   ]
  },
  {
   "cell_type": "markdown",
   "id": "313c73d5",
   "metadata": {},
   "source": [
    "#### Q5. How is the local scope of a class different from that of a function?\n",
    "**Ans.** \n",
    "The local scope of a class is different from that of a function in several ways:\n",
    "\n",
    "1. Class scope lasts longer: The local scope of a class is defined at the time the class is defined, and remains in memory for the entire lifetime of the program, unless the class is explicitly deleted. The local scope of a function, on the other hand, is created each time the function is called and disappears once the function returns.\n",
    "\n",
    "2. Class scope is shared: The local scope of a class is shared by all instances of that class. Each instance of a class has access to the same class-level variables, methods, and functions. The local scope of a function, on the other hand, is unique to each call to the function and is not shared between calls.\n",
    "\n",
    "3. Class scope can be accessed from outside the class: The local scope of a class can be accessed from outside the class using dot notation (e.g. `class_name.class_variable`). The local scope of a function, on the other hand, can only be accessed from within the function.\n",
    "\n",
    "4. Class scope can persist beyond instance lifetime: Class-level variables and attributes persist beyond the lifetime of an instance, as long as the class itself remains in memory. Function-level variables and attributes, on the other hand, are destroyed when the function returns.\n",
    "\n",
    "In summary, the local scope of a class is different from that of a function in terms of duration, sharing, accessibility, and persistence."
   ]
  },
  {
   "cell_type": "code",
   "execution_count": null,
   "id": "d2453a3e",
   "metadata": {},
   "outputs": [],
   "source": []
  }
 ],
 "metadata": {
  "kernelspec": {
   "display_name": "Python 3 (ipykernel)",
   "language": "python",
   "name": "python3"
  },
  "language_info": {
   "codemirror_mode": {
    "name": "ipython",
    "version": 3
   },
   "file_extension": ".py",
   "mimetype": "text/x-python",
   "name": "python",
   "nbconvert_exporter": "python",
   "pygments_lexer": "ipython3",
   "version": "3.10.0"
  }
 },
 "nbformat": 4,
 "nbformat_minor": 5
}
