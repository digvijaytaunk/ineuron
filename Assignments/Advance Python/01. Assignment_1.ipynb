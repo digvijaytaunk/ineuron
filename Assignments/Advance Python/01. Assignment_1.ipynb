{
 "cells": [
  {
   "cell_type": "markdown",
   "id": "1f0ac621",
   "metadata": {},
   "source": [
    "# Assignment 01"
   ]
  },
  {
   "cell_type": "markdown",
   "id": "606ac25d",
   "metadata": {},
   "source": [
    "#### Q1. What is the purpose of Python&#39;s OOP?\n",
    "\n",
    "**Ans.** Object-oriented programming (OOP) is a computer programming model that organizes software design around data, or objects, rather than functions and logic. An object can be defined as a data field that has unique attributes and behavior.\n",
    " * The concept of OOP in Python focuses on creating reusable code. This concept is also known as DRY (Don't Repeat Yourself).\n",
    " * OOP language allows to break the program into the bit-sized problems that can be solved easily (one object at a time)\n",
    " * OOP helps in boosting programmer's productivity, better quality of software and lesser maintenance cost.\n",
    " * OOP systems can be easily upgraded from small to large systems.\n",
    " * By using inheritance, we can eliminate redundant code and extend the use of existing classes.\n",
    " * Everything in python is treated as an object in OOP.\n",
    " * The principle of data hiding helps the programmer to build secure programs which cannot be invaded by the code in other parts of the program.\n",
    " "
   ]
  },
  {
   "cell_type": "markdown",
   "id": "5699b4a6",
   "metadata": {},
   "source": [
    "#### Q2. Where does an inheritance search look for an attribute?\n",
    " \n",
    "**Ans.** Python searches the first occurrence of attribute by looking in object then in all classes above it, from bottom to top to all super classes and left to right.\n"
   ]
  },
  {
   "cell_type": "markdown",
   "id": "880ccaaa",
   "metadata": {},
   "source": [
    "#### Q3. How do you distinguish between a class object and an instance object?\n",
    "\n",
    "**Ans.** The differences between a class object and an instance object are:\n",
    " 1. The class is the blue print whereas the Object is an actual thing that is built based on the 'blue print'.\n",
    " 2. A Class is created once like blue print. And many objects can be created using a class.\n",
    " 3. Class object is used by calling its name whereas instance object is called by an instance name created by any class.\n",
    " Ex. \n",
    " \n",
    " For class object `Animal -> Animal.speak()`, \n",
    " \n",
    " For Instance object `dog = Animal(); dog.speak()`\n",
    " "
   ]
  },
  {
   "cell_type": "markdown",
   "id": "a03c67af",
   "metadata": {},
   "source": [
    "\n",
    "#### Q4. What makes the first argument in a class’s method function special?\n",
    "\n",
    "**Ans.** First argument `self` is used in instance object which refers to object itself.\n",
    "\n",
    "\n",
    "#### Q5. What is the purpose of the __init__ method?\n",
    "\n",
    "**Ans.** `__init__` is a inbuilt method in python class acts as a constructor in object oriented programing. This method is called when a new object is instantiated from a class.\n",
    "\n",
    "\n",
    "#### Q6. What is the process for creating a class instance?\n",
    "\n",
    "**Ans.** To create a class instance, we call a class by its name and pass the `__init__` args which are needed to instantiat it.\n",
    "\n",
    "Ex. `dog = Animal('dog')` \n",
    "\n",
    "\n",
    "#### Q7. What is the process for creating a class?\n",
    "\n",
    "**Ans.** To create a class definition, `class` keyword is used followed by name of the class.\n",
    "\n",
    "Ex. \n",
    "\n",
    "``` python\n",
    "class Animal:\n",
    "    pass\n",
    "\n",
    "```\n",
    "\n",
    "#### Q8. How would you define the superclasses of a class?\n",
    "\n",
    "**Ans.**  The class from which the subclass is derived is called a superclass (also a base class or a parent class). A class that is derived from Super class is called a subclass (also a derived class, extended class, or child class).\n",
    "\n",
    "Ex. \n",
    "``` Python\n",
    "class AnimalBase:\n",
    "    pass\n",
    "\n",
    "class Cow(AnimalBase):\n",
    "    pass\n",
    "```"
   ]
  },
  {
   "cell_type": "code",
   "execution_count": null,
   "id": "6c295c27",
   "metadata": {},
   "outputs": [],
   "source": []
  }
 ],
 "metadata": {
  "kernelspec": {
   "display_name": "Python 3 (ipykernel)",
   "language": "python",
   "name": "python3"
  },
  "language_info": {
   "codemirror_mode": {
    "name": "ipython",
    "version": 3
   },
   "file_extension": ".py",
   "mimetype": "text/x-python",
   "name": "python",
   "nbconvert_exporter": "python",
   "pygments_lexer": "ipython3",
   "version": "3.10.5"
  }
 },
 "nbformat": 4,
 "nbformat_minor": 5
}