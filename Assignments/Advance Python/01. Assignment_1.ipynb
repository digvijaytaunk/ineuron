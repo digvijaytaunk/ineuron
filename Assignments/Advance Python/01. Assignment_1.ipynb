{
 "cells": [
  {
   "cell_type": "markdown",
   "id": "a03c67af",
   "metadata": {},
   "source": [
    "#### Q1. What is the purpose of Python&#39;s OOP?\n",
    "\n",
    "#### Ans.\n",
    "\n",
    "#### Q2. Where does an inheritance search look for an attribute?\n",
    "\n",
    "#### Ans.\n",
    "\n",
    "\n",
    "#### Q3. How do you distinguish between a class object and an instance object?\n",
    "\n",
    "#### Ans.\n",
    "\n",
    "\n",
    "#### Q4. What makes the first argument in a class’s method function special?\n",
    "\n",
    "#### Ans.\n",
    "\n",
    "\n",
    "#### Q5. What is the purpose of the __init__ method?\n",
    "\n",
    "#### Ans.\n",
    "\n",
    "\n",
    "#### Q6. What is the process for creating a class instance?\n",
    "\n",
    "#### Ans.\n",
    "\n",
    "\n",
    "#### Q7. What is the process for creating a class?\n",
    "\n",
    "#### Ans.\n",
    "\n",
    "\n",
    "#### Q8. How would you define the superclasses of a class?\n",
    "\n",
    "#### Ans."
   ]
  },
  {
   "cell_type": "code",
   "execution_count": null,
   "id": "6c295c27",
   "metadata": {},
   "outputs": [],
   "source": []
  }
 ],
 "metadata": {
  "kernelspec": {
   "display_name": "Python 3 (ipykernel)",
   "language": "python",
   "name": "python3"
  },
  "language_info": {
   "codemirror_mode": {
    "name": "ipython",
    "version": 3
   },
   "file_extension": ".py",
   "mimetype": "text/x-python",
   "name": "python",
   "nbconvert_exporter": "python",
   "pygments_lexer": "ipython3",
   "version": "3.10.0"
  }
 },
 "nbformat": 4,
 "nbformat_minor": 5
}
