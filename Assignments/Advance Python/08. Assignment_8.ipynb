{
 "cells": [
  {
   "cell_type": "markdown",
   "id": "593d35db",
   "metadata": {},
   "source": [
    "# Assignment 8"
   ]
  },
  {
   "cell_type": "markdown",
   "id": "887c8050",
   "metadata": {},
   "source": [
    "#### Q1. What are the two latest user-defined exception constraints in Python 3.X?\n",
    "**Ans.** \n",
    "\n",
    "`raise` and `assert` are the two latest user-defined exception constraints in Python 3.X\n"
   ]
  },
  {
   "cell_type": "markdown",
   "id": "5d2cd9d6",
   "metadata": {},
   "source": [
    "#### Q2. How are class-based exceptions that have been raised matched to handlers?\n",
    "**Ans.** \n",
    "\n",
    "When an exception is raised in Python, the interpreter searches for an exception handler that can handle that exception. If a suitable handler is found, it is executed to handle the exception.\n",
    "\n",
    "For class-based exceptions, the search for a handler proceeds as follows:\n",
    "\n",
    "1. The interpreter looks for an `except` clause that specifies the exact class of the exception that was raised. For example, if the exception raised is of type `MyException`, the interpreter will look for an `except MyException` clause.\n",
    "\n",
    "2. If no exact match is found, the interpreter looks for an `except` clause that specifies a base class of the exception that was raised. For example, if `MyException` is a subclass of `BaseException`, the interpreter will look for an `except BaseException` clause.\n",
    "\n",
    "3. If no matching `except` clause is found, the interpreter will propagate the exception up the call stack until it reaches an appropriate handler. If no handler is found, the interpreter will terminate the program and print a traceback.\n",
    "\n",
    "It's important to note that the order of `except` clauses matters. If a more general `except` clause (e.g., `except Exception:`) comes before a more specific one (e.g., `except MyException:`), the more general clause will catch the exception first, and the more specific one will never be executed.\n"
   ]
  },
  {
   "cell_type": "markdown",
   "id": "85de5f5a",
   "metadata": {},
   "source": [
    "#### Q3. Describe two methods for attaching context information to exception artefacts.\n",
    "**Ans.** \n",
    "\n",
    "Attaching context information to exception artifacts can be useful for providing additional information about the circumstances that led to an exception being raised. Here are two common methods for attaching context information:\n",
    "\n",
    "1. Using the `args` attribute: The `args` attribute of an exception object is a tuple that contains any arguments that were passed to the exception constructor. You can add additional context information to this tuple by including it as an argument when you raise the exception. For example:\n",
    "\n",
    "```python\n",
    "try:\n",
    "    # some code that might raise an exception\n",
    "except SomeException as e:\n",
    "    # add additional context information to the exception's args tuple\n",
    "    e.args += ('Additional context information',)\n",
    "    raise\n",
    "\n",
    "```\n",
    "When the exception is caught, the additional context information will be included in the `args` tuple.\n",
    "\n",
    "2. Subclassing exceptions: Another approach is to define a custom exception class that includes additional attributes to hold context information. For example:\n",
    "\n",
    "```python\n",
    "class MyException(Exception):\n",
    "    def __init__(self, message, context=None):\n",
    "        super().__init__(message)\n",
    "        self.context = context\n",
    "\n",
    "try:\n",
    "    # some code that might raise an exception\n",
    "except SomeException as e:\n",
    "    # create a new MyException object with additional context information\n",
    "    raise MyException('An error occurred', context='Additional context information')\n",
    "\n",
    "```\n",
    "When the `MyException` object is raised, the `context` attribute will hold the additional context information, which can be accessed by the exception handler."
   ]
  },
  {
   "cell_type": "markdown",
   "id": "0681da66",
   "metadata": {},
   "source": [
    "#### Q4. Describe two methods for specifying the text of an exception object&#39;s error message.\n",
    "**Ans.** \n",
    "Here are two methods for specifying the text of an exception object's error message in Python:\n",
    "\n",
    "1. Using the exception constructor: Most built-in exceptions in Python allow you to specify an error message when you create an instance of the exception. You can do this by passing the message as a string argument to the exception constructor. For example:\n",
    "\n",
    "```python\n",
    "try:\n",
    "    # some code that might raise an exception\n",
    "except ValueError as e:\n",
    "    # create a new ValueError object with a custom error message\n",
    "    raise ValueError('Invalid input: ' + str(e))\n",
    "\n",
    "```\n",
    "In this example, we're catching a `ValueError` exception and creating a new `ValueError` object with a custom error message that includes the original exception's error message.\n",
    "\n",
    "2. Overriding the exception's `__str__` method: All exceptions in Python are subclasses of the built-in `BaseException` class, which includes a default `__str__` method that returns a string representation of the exception object. You can override this method in your custom exception classes to specify the text of the error message. For example:\n",
    "\n",
    "```python\n",
    "class MyException(Exception):\n",
    "    def __init__(self, message):\n",
    "        super().__init__(message)\n",
    "    \n",
    "    def __str__(self):\n",
    "        return 'MyException: ' + str(self.args[0])\n",
    "\n",
    "try:\n",
    "    # some code that might raise a MyException\n",
    "except MyException as e:\n",
    "    # the error message will be the string returned by the MyException object's __str__ method\n",
    "    raise MyException('An error occurred')\n",
    "\n",
    "```\n",
    "\n",
    "In this example, we've defined a custom `MyException` class that overrides the default `__str__` method to include the class name and the error message. When a `MyException` object is raised, its `__str__` method will be called to generate the error message.\n"
   ]
  },
  {
   "cell_type": "markdown",
   "id": "78117d36",
   "metadata": {},
   "source": [
    "#### Q5. Why do you no longer use string-based exceptions?\n",
    "**Ans.** \n",
    "As an AI language model, I don't \"use\" exceptions directly, but I can provide information on why string-based exceptions are generally not recommended in Python.\n",
    "\n",
    "In older versions of Python, it was possible to raise string-based exceptions, like this:\n",
    "\n",
    "```python\n",
    "raise \"Something went wrong\"\n",
    "\n",
    "```\n",
    "\n",
    "However, this approach has been deprecated and is no longer recommended. Instead, exceptions should be represented as objects that inherit from the `BaseException` class, like this:\n",
    "\n",
    "```python\n",
    "class MyException(Exception):\n",
    "    pass\n",
    "\n",
    "raise MyException(\"Something went wrong\")\n",
    "\n",
    "\n",
    "```\n",
    "The primary reasons for this change are:\n",
    "\n",
    "1. Improved clarity and maintainability: When exceptions are represented as objects, it's easier to understand the type and source of the exception, and it's easier to define and document custom exceptions that are specific to your application.\n",
    "\n",
    "2. Better handling and traceback information: When an exception is raised as an object, the traceback information that's generated when the exception is caught includes information about the type of the exception and the line number where it was raised, making it easier to debug issues.\n",
    "\n",
    "3. Future-proofing: The string-based approach to exceptions was never officially documented or standardized, and it could be removed or changed in future versions of Python. By using object-based exceptions, you can be sure that your code will continue to work as expected in future versions of Python."
   ]
  },
  {
   "cell_type": "code",
   "execution_count": null,
   "id": "38af9aca",
   "metadata": {},
   "outputs": [],
   "source": []
  }
 ],
 "metadata": {
  "kernelspec": {
   "display_name": "Python 3 (ipykernel)",
   "language": "python",
   "name": "python3"
  },
  "language_info": {
   "codemirror_mode": {
    "name": "ipython",
    "version": 3
   },
   "file_extension": ".py",
   "mimetype": "text/x-python",
   "name": "python",
   "nbconvert_exporter": "python",
   "pygments_lexer": "ipython3",
   "version": "3.7.8"
  }
 },
 "nbformat": 4,
 "nbformat_minor": 5
}
