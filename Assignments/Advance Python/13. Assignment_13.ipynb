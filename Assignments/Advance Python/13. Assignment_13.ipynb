{
 "cells": [
  {
   "cell_type": "markdown",
   "id": "593d35db",
   "metadata": {},
   "source": [
    "# Assignment 13"
   ]
  },
  {
   "cell_type": "markdown",
   "id": "887c8050",
   "metadata": {},
   "source": [
    "#### Q1. Can you create a programme or function that employs both positive and negative indexing? Is there any repercussion if you do so?\n",
    "**Ans.** \n",
    "\n",
    "```python\n",
    "def first_and_last_chars(s):\n",
    "    first = s[0]\n",
    "    last = s[-1]\n",
    "    return first, last\n",
    "\n",
    "```\n"
   ]
  },
  {
   "cell_type": "markdown",
   "id": "5d2cd9d6",
   "metadata": {},
   "source": [
    "#### Q2.What is the most effective way of starting with 1,000 elements in a Python list? Assume that all elements should be set to the same value.\n",
    "**Ans.** \n",
    "```python\n",
    "\n",
    "my_list = [0] * 1000\n",
    "\n",
    "```"
   ]
  },
  {
   "cell_type": "markdown",
   "id": "85de5f5a",
   "metadata": {},
   "source": [
    "#### Q3. How do you slice a list to get any other part while missing the rest? (For example, suppose you want to make a new list with the elements first, third, fifth, seventh, and so on.)\n",
    "**Ans.** \n",
    "\n",
    "```python\n",
    "my_list = [1, 2, 3, 4, 5, 6, 7, 8, 9, 10]\n",
    "new_list = my_list[::2]\n",
    "print(new_list)\n",
    "\n",
    "```\n",
    "This code will output:\n",
    "\n",
    "```python\n",
    "[1, 3, 5, 7, 9]\n",
    "```\n"
   ]
  },
  {
   "cell_type": "markdown",
   "id": "669c827e",
   "metadata": {},
   "source": [
    "#### Q4.Explain the distinctions between indexing and slicing.\n",
    "**Ans.** \n",
    "\n",
    "Indexing and slicing are both ways to access specific elements in a Python list, tuple, or string, but they differ in their syntax and the type of result they produce.\n",
    "\n",
    "Indexing is used to retrieve a single element from a sequence, by specifying the index of the element within square brackets. For example, to retrieve the second element of a list `my_list`, you would use the indexing expression `my_list[1]`, since Python uses zero-based indexing. The result of indexing is a single element of the sequence.\n",
    "\n",
    "Slicing, on the other hand, is used to retrieve a range of elements from a sequence, by specifying the start and end indices of the range separated by a colon within square brackets. For example, to retrieve a slice of the first three elements of a list `my_list`, you would use the slicing expression `my_list[0:3]`. The result of slicing is a new sequence that includes all the elements within the specified range.\n",
    "\n",
    "Slicing can also include an optional third parameter, the step value, to specify how many elements to skip between each selected element. For example, to retrieve every other element of a list `my_list`, you could use the slicing expression `my_list[::2]`.\n",
    "\n",
    "In summary, indexing retrieves a single element from a sequence, while slicing retrieves a range of elements as a new sequence.\n",
    "\n"
   ]
  },
  {
   "cell_type": "markdown",
   "id": "7b0d74e1",
   "metadata": {},
   "source": [
    "#### Q5.What happens if one of the slicing expression&#39;s indexes is out of range?\n",
    "**Ans.** \n",
    "\n",
    "For `my_list = [1, 2, 3, 4, 5]` If we try to access an index that is out of range, like this: `my_list[5]\n",
    "` Python will raise an `IndexError` Error or if we try yo access `my_list[-6:-3]` it will raise `IndexError: list index out of range` error."
   ]
  },
  {
   "cell_type": "markdown",
   "id": "12b7dc4a",
   "metadata": {},
   "source": [
    "#### Q6.If you pass a list to a function, and if you want the function to be able to change the values of the list—so that the list is different after the function returns—what action should you avoid?\n",
    "**Ans.** \n",
    "\n",
    "If you want a function to be able to change the values of a list so that the list is different after the function returns, you should avoid reassigning the list parameter to a new list. In other words, you should not create a new list with the same variable name as the parameter and assign it to the parameter variable, like this:\n",
    "\n",
    "```python\n",
    "def my_function(my_list):\n",
    "    my_list = [1, 2, 3]  # This creates a new list and reassigns the variable my_list to it\n",
    "\n",
    "    ```\n",
    "This reassignment creates a new list with the same name as the parameter, effectively replacing the original list. Any changes made to this new list inside the function will not affect the original list that was passed in as an argument.\n",
    "\n",
    "Instead, you should modify the original list directly, by accessing its elements through their indices or by using built-in list methods that modify the list in place. For example, you could append an element to the list like this: \n",
    "\n",
    "```python\n",
    "def my_function(my_list):\n",
    "    my_list.append(4)  # This appends a new element to the original list\n",
    "\n",
    "```\n",
    "Any changes made to the original list inside the function will be visible outside the function, since the parameter variable still refers to the same list object."
   ]
  },
  {
   "cell_type": "markdown",
   "id": "684ac4a8",
   "metadata": {},
   "source": [
    "#### Q7.What is the concept of an unbalanced matrix?\n",
    "**Ans.** \n",
    "In Unbalanced Matrix number of rows is not same as number of columns."
   ]
  },
  {
   "cell_type": "markdown",
   "id": "9664c80e",
   "metadata": {},
   "source": [
    "#### Q8. Why is it necessary to use either list comprehension or a loop to create arbitrarily large matrices?\n",
    "**Ans.** \n",
    "\n",
    "It is necessary to use list comprehension or a loop to create arbitrarily large matrices because these constructs allow for the generation of many elements with minimal code duplication.\n",
    "\n",
    "A matrix is typically represented in Python as a list of lists, where each inner list represents a row of the matrix. The length of each inner list represents the number of columns in the matrix, and the length of the outer list represents the number of rows in the matrix. To create a matrix with a specific number of rows and columns, you need to create a list of lists with the appropriate dimensions.\n",
    "\n",
    "For example, to create a 3x3 matrix with all elements set to zero, you could use list comprehension like this:\n",
    "\n",
    "```python\n",
    "matrix = [[0 for j in range(3)] for i in range(3)]\n",
    "\n",
    "```\n",
    "This creates a list of three lists, each containing three zeros. The outer loop (`for i in range(3)`) runs three times, creating a new inner list on each iteration. The inner loop (`for j in range(3)`) runs three times for each outer loop iteration, creating a new zero on each iteration.\n",
    "\n",
    "You could also use nested loops to create the same matrix, like this:\n",
    "\n",
    "```python\n",
    "matrix = []\n",
    "for i in range(3):\n",
    "    row = []\n",
    "    for j in range(3):\n",
    "        row.append(0)\n",
    "    matrix.append(row)\n",
    "\n",
    "```\n",
    "This code is equivalent to the previous example, but uses explicit loops instead of list comprehension.\n",
    "\n",
    "Either way, it is necessary to use some form of looping construct to generate the elements of the matrix, since there is no way to create a list of a given length without some kind of repetition. List comprehension and loops allow you to generate many elements with minimal code duplication and in a concise and readable manner, making them well-suited to creating arbitrarily large matrices."
   ]
  },
  {
   "cell_type": "code",
   "execution_count": null,
   "id": "288faad6",
   "metadata": {},
   "outputs": [],
   "source": []
  }
 ],
 "metadata": {
  "kernelspec": {
   "display_name": "Python 3 (ipykernel)",
   "language": "python",
   "name": "python3"
  },
  "language_info": {
   "codemirror_mode": {
    "name": "ipython",
    "version": 3
   },
   "file_extension": ".py",
   "mimetype": "text/x-python",
   "name": "python",
   "nbconvert_exporter": "python",
   "pygments_lexer": "ipython3",
   "version": "3.10.5"
  }
 },
 "nbformat": 4,
 "nbformat_minor": 5
}
