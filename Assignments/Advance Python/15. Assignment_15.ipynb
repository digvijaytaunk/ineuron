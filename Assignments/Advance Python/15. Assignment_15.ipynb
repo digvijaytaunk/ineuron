{
 "cells": [
  {
   "cell_type": "markdown",
   "id": "593d35db",
   "metadata": {},
   "source": [
    "# Assignment 15"
   ]
  },
  {
   "cell_type": "markdown",
   "id": "887c8050",
   "metadata": {},
   "source": [
    "#### Q1. What are the new features added in Python 3.8 version?\n",
    "**Ans.** \n",
    "\n",
    "1. Walrus operator (`:=`): This new operator allows you to assign values to variables as part of an expression. For example, you can use it to simplify code that checks whether a value is None or not:\n",
    "\n",
    "```python\n",
    "if (x := some_function()) is not None:\n",
    "    print(x)\n",
    "\n",
    "```\n",
    "2. F-strings support `=` for self-documenting expressions and debugging: F-strings now support the `=` operator to allow for self-documenting expressions and debugging.\n",
    "\n",
    "3. Faster and more consistent dictionary ordering: In Python 3.8, dictionaries are guaranteed to maintain the order in which items were added. Additionally, dictionary operations have been optimized to be faster and more consistent.\n",
    "\n",
    "4. Improved `typing` module: The `typing` module has been enhanced with several new types, including `TypedDict`, `final`, and `Literal`.\n",
    "\n",
    "```python\n",
    "\n",
    "```\n",
    "\n"
   ]
  },
  {
   "cell_type": "markdown",
   "id": "5d2cd9d6",
   "metadata": {},
   "source": [
    "#### Q2. What is monkey patching in Python?\n",
    "**Ans.** \n",
    "\n",
    "Monkey patching in Python is the practice of modifying or extending the behavior of a module, class, or object at runtime by redefining its attributes or methods. This can be useful in situations where you want to modify the behavior of an existing piece of code without modifying its source code.\n",
    "\n",
    "For example, suppose you have a third-party library that you want to use, but it doesn't quite behave the way you need it to. You could modify the library's source code to make the necessary changes, but this can be difficult if you're not familiar with the codebase, or if you don't want to maintain a fork of the library. Instead, you can use monkey patching to modify the library's behavior at runtime.\n",
    "\n",
    "Here's an example of how you might use monkey patching to modify the behavior of a class:\n",
    "\n",
    "```python \n",
    "# Define a class\n",
    "class MyClass:\n",
    "    def my_method(self):\n",
    "        print(\"Hello, world!\")\n",
    "\n",
    "# Create an instance of the class\n",
    "obj = MyClass()\n",
    "\n",
    "# Define a new method to monkey patch the class\n",
    "def new_method(self):\n",
    "    print(\"Goodbye, world!\")\n",
    "\n",
    "# Monkey patch the class\n",
    "MyClass.my_method = new_method\n",
    "\n",
    "# Call the method on the object\n",
    "obj.my_method()  # Output: Goodbye, world!\n",
    "\n",
    "```\n",
    "\n",
    "In this example, we defined a class `MyClass` with a method `my_method` that prints \"Hello, world!\". We then defined a new method `new_method` that prints \"Goodbye, world!\", and we monkey patched `MyClass` to use `new_method` instead of `my_method`. When we called `obj.my_method()`, we got the output \"Goodbye, world!\" instead of \"Hello, world!\".\n"
   ]
  },
  {
   "cell_type": "markdown",
   "id": "85de5f5a",
   "metadata": {},
   "source": [
    "#### Q3. What is the difference between a shallow copy and deep copy?\n",
    "**Ans.** \n",
    "\n",
    "The Differences between a Shallow Copy and deep copy are as follows:\n",
    "\n",
    "When an object is copied using `copy()`, it is called shallow copy as changes made in copied object will also make corresponding changes in original object, because both the objects will be referencing same address location.\n",
    "\n",
    "When an object is copied using `deepcopy()`, it is called deep copy as changes made in copied object will not make corresponding changes in original object, because both the objects will not be referencing same address location.\n",
    "\n",
    "\n"
   ]
  },
  {
   "cell_type": "markdown",
   "id": "669c827e",
   "metadata": {},
   "source": [
    "#### Q4. What is the maximum possible length of an identifier?\n",
    "**Ans.** \n",
    "\n",
    "The maximum possible length of an identifier (variable name, function name, etc.) in Python is technically unlimited. However, in practice, it's a good idea to keep identifier names reasonably short and descriptive to make your code more readable and maintainable.\n",
    "\n",
    "According to the Python documentation, an identifier can be any length and can contain letters, digits, and underscores, but must start with a letter or underscore (not a digit). Additionally, Python is case-sensitive, so `my_variable` and `My_Variable` are considered two different identifiers.\n",
    "\n",
    "Here's an example of a valid, but very long, identifier in Python:\n",
    "```python\n",
    "this_is_a_very_long_identifier_that_should_probably_be_shorter_but_is_technically_valid_and_legible_to_python_programmers = 42\n",
    "\n",
    "```"
   ]
  },
  {
   "cell_type": "markdown",
   "id": "7b0d74e1",
   "metadata": {},
   "source": [
    "#### Q5. What is generator comprehension?\n",
    "**Ans.** \n",
    "Generator comprehension is a concise way of creating a generator object in Python. It is similar to list comprehension, but instead of creating a list, it creates a generator object that yields values one at a time.\n",
    "\n",
    "Generator comprehension has the following syntax:\n",
    "\n",
    "```python\n",
    "(expression for variable in iterable if condition)\n",
    "\n",
    "```\n",
    "\n",
    "Here, expression is any valid Python expression that generates a value, variable is the loop variable that takes on each value in iterable, and condition is an optional condition that filters which values are included.\n",
    "\n",
    "Here's an example of generator comprehension that creates a generator object that yields the squares of the first five integers:\n",
    "\n",
    "```python\n",
    "squares = (x ** 2 for x in range(1, 6))\n",
    "\n",
    "```\n",
    "\n",
    "In this example, the expression `x ** 2` generates the square of each value of `x` in the range `1` to `5`, and the resulting generator object `squares` yields these values one at a time as it is iterated over.\n",
    "\n",
    "Generator comprehension is useful when you want to generate a sequence of values on-the-fly, without creating a potentially large list in memory. Because generator comprehension only yields values one at a time, it can be more memory-efficient than list comprehension or traditional loops, especially when working with large or infinite sequences."
   ]
  },
  {
   "cell_type": "code",
   "execution_count": null,
   "id": "9071859d",
   "metadata": {},
   "outputs": [],
   "source": []
  }
 ],
 "metadata": {
  "kernelspec": {
   "display_name": "Python 3 (ipykernel)",
   "language": "python",
   "name": "python3"
  },
  "language_info": {
   "codemirror_mode": {
    "name": "ipython",
    "version": 3
   },
   "file_extension": ".py",
   "mimetype": "text/x-python",
   "name": "python",
   "nbconvert_exporter": "python",
   "pygments_lexer": "ipython3",
   "version": "3.10.5"
  }
 },
 "nbformat": 4,
 "nbformat_minor": 5
}
