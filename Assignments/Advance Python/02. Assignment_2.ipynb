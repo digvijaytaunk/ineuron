{
 "cells": [
  {
   "cell_type": "markdown",
   "id": "6ec979bb",
   "metadata": {},
   "source": [
    "# Assignment 02"
   ]
  },
  {
   "cell_type": "markdown",
   "id": "a03c67af",
   "metadata": {},
   "source": [
    "#### Q1. What is the relationship between classes and modules?\n",
    "\n",
    "**Ans.** Classes are blueprints that allow you to create instances with attributes and bound functionality. Classes support inheritance, metaclasses, and descriptors. Classes may generate instances (objects), and have per instance state (instance variables).\n",
    "\n",
    "A module in python is simply a way to organize the code, and it contains either python classes or just functions. If you need those classes or functions in your project, you just import them. For instance, the `math` module in python contains just a bunch of functions, and you just call those needed (`math.sin`). \n"
   ]
  },
  {
   "cell_type": "markdown",
   "id": "9f0da84c",
   "metadata": {},
   "source": [
    "#### Q2. How do you make instances and classes?\n",
    "**Ans.**\n",
    "For creating a class instance, we call a class by its name and pass the arguments that are needed in its `__init__` method accepts.\n",
    "\n",
    "For creating a class, we use the **class** keyword. Class keyword is followed by classname and colon.\n",
    "\n",
    "```Python\n",
    "# Class definition\n",
    "class Vehicle:\n",
    "    def __init__(self, name, engine_capacity):\n",
    "        self.name = name\n",
    "        self.engine_capacity = engine_capacity\n",
    "       \n",
    "        \n",
    "# Creating class instance\n",
    "nexon = Vehicle('Nexon', 1497)\n",
    "\n",
    "```\n",
    "\n"
   ]
  },
  {
   "cell_type": "markdown",
   "id": "42a410da",
   "metadata": {},
   "source": [
    "#### Q3. Where and how should be class attributes created?\n",
    "**Ans.** Class attributes belongs to the class itself. These attributes are shared among all the instances of the class. Hence these attributes are usually created/defined in the top of class definiation outside all methods.\n",
    "\n",
    "\n",
    "Example: In the below code we are defining a class attribute called `no_of_wheels` which will be shared by all the instances of the class `Car`.\n",
    "\n",
    "```python\n",
    "class Car:\n",
    "    no_of_wheels = 4;               # this is a class attribute\n",
    "    def __init__(self,color,price,engine):\n",
    "        self.color = color          # all this are instance attributes\n",
    "        self.price = price\n",
    "        self.engine = engine\n",
    "```"
   ]
  },
  {
   "cell_type": "markdown",
   "id": "7f86325e",
   "metadata": {},
   "source": [
    "#### Q4. Where and how are instance attributes created?\n",
    "**Ans.**\n",
    "Instances attributes are passed to the class when an object of the class is created. Unlike class attributes, instance attributes are not shared by all objects of the classs. instead each object maintains its own copy of instance attributes at object level. Whereas incase of class attributes all instances of class refer to a single copy. Usually instance attributes are defined within the `__init__` method of class.\n",
    "\n",
    "**Example**: In the below sample code we are creating a class `Car` with instance varaibles `color`, `price`, `engine` which will be provided when an instance of class `Car` is created.\n",
    "\n",
    "```python\n",
    "class Car:\n",
    "    def __init__(self,color,price,engine):\n",
    "        self.color = color         \n",
    "        self.price = price\n",
    "        self.engine = engine\n",
    "        \n",
    "\n",
    "i20 = Car('Red', 2000000, 'Petrol')\n",
    "mg = Car('Black', 2500000, 'electric')\n",
    "```"
   ]
  },
  {
   "cell_type": "markdown",
   "id": "c27738f5",
   "metadata": {},
   "source": [
    "#### Q5. What does the term &quot;self&quot; in a Python class mean?\n",
    "**Ans.**\n",
    "The term `self` in a Python class refers to the instance of the object that is being operated on. It is a reference to the current object and is automatically passed to instance methods as the first argument. The use of \"self\" is a convention that helps to differentiate instance methods and instance variables from class-level methods and variables.\n",
    "\n",
    "For example, consider the following code:\n",
    "\n",
    "```python\n",
    "class Person:\n",
    "    def __init__(self, name, age):\n",
    "        self.name = name\n",
    "        self.age = age\n",
    "\n",
    "    def say_hello(self):\n",
    "        print(\"Hello, my name is \" + self.name)\n",
    "\n",
    "p = Person(\"John Doe\", 30)\n",
    "p.say_hello()\n",
    "\n",
    "```\n",
    "In this code, the `Person` class has an instance method `say_hello` that prints a message using the `name` attribute of the object. The use of \"self\" as the first argument in the `say_hello` method allows the method to access the instance attributes of the object. When the `say_hello` method is called on the `p` object, the self argument is automatically set to `p`, so the method has access to the `name` and `age` attributes of the `p` object."
   ]
  },
  {
   "cell_type": "markdown",
   "id": "95f5e581",
   "metadata": {},
   "source": [
    "#### Q6. How does a Python class handle operator overloading?\n",
    "**Ans.**\n",
    "In Python, operator overloading can be achieved by defining special methods in a class. These methods have a special name that starts with `__` and ends with `__`, such as `__add__` or `__eq__`, and they determine the behavior of the corresponding operator when used with instances of the class.\n",
    "\n",
    "For example, consider the following code:\n",
    "```python\n",
    "class Point:\n",
    "    def __init__(self, x, y):\n",
    "        self.x = x\n",
    "        self.y = y\n",
    "\n",
    "    def __add__(self, other):\n",
    "        return Point(self.x + other.x, self.y + other.y)\n",
    "\n",
    "    def __eq__(self, other):\n",
    "        return self.x == other.x and self.y == other.y\n",
    "\n",
    "p1 = Point(1, 2)\n",
    "p2 = Point(3, 4)\n",
    "p3 = p1 + p2\n",
    "print(p3.x, p3.y)\n",
    "print(p1 == p2)\n",
    "\n",
    "```\n",
    "In this code, the `Point` class has two special methods, `__add__` and `__eq__`, which define the behavior of the `+` and `==` operators when used with instances of the class. The `__add__` method returns a new `Point` instance that is the sum of two `Point` instances, while the `__eq__` method returns `True` if two `Point` instances have the same `x` and `y` values, and `False` otherwise.\n",
    "\n",
    "By defining these special methods, the `Point` class can handle operator overloading, allowing instances of the class to be used in expressions with the `+` and `==` operators."
   ]
  },
  {
   "cell_type": "markdown",
   "id": "737440b4",
   "metadata": {},
   "source": [
    "#### Q7. When do you consider allowing operator overloading of your classes?\n",
    "**Ans.**\n",
    "Whether or not to allow operator overloading in your classes depends on several factors and the design decisions you make for your application. Here are some of the factors you may want to consider:\n",
    "\n",
    "1. Readability and intuitiveness: Operator overloading can make your code more readable and intuitive, especially if the operator symbols correspond to a natural operation for the objects being manipulated.\n",
    "\n",
    "2. Consistency with built-in types: If your class is intended to represent a mathematical or numerical concept, it may make sense to allow operator overloading so that instances of the class behave similarly to built-in numeric types.\n",
    "\n",
    "3. Complexity: Operator overloading can add complexity to your class, and you may need to spend extra time considering the behavior of each operator and making sure it behaves correctly in all situations.\n",
    "\n",
    "4. Maintenance: Operator overloading can make your code harder to maintain, as it can be difficult to keep track of all the different operations that are defined for a class.\n",
    "\n",
    "In general, it is a good idea to only allow operator overloading if it helps to make your code more readable, intuitive, and consistent with the expected behavior of the objects being manipulated. If you are unsure whether operator overloading is appropriate for your class, it may be best to err on the side of caution and not allow it."
   ]
  },
  {
   "cell_type": "markdown",
   "id": "ffa849a8",
   "metadata": {},
   "source": [
    "#### Q8. What is the most popular form of operator overloading?\n",
    "**Ans.**\n",
    "It is difficult to say which form of operator overloading is the most popular, as it depends on the programming language and the context in which the operator overloading is used. However, some of the most commonly overloaded operators in many programming languages include:\n",
    "\n",
    "1. Arithmetic operators (e.g. `+`, `-`, `*`, `/`, etc.) for mathematical or numerical objects.\n",
    "\n",
    "2. Comparison operators (e.g. `==`, `!=`, `<`, `>`, etc.) for objects that can be compared for equality or ordered.\n",
    "\n",
    "3. Indexing operators (e.g. `[]`) for objects that behave like arrays or collections.\n",
    "\n",
    "4. Assignment operators (e.g. `=`, `+=`, `-=`, etc.) for objects that can be assigned values or updated.\n",
    "\n",
    "5. Stream operators (e.g. `<<`, `>>`) for objects that can be written to or read from streams.\n",
    "\n",
    "In general, the popularity of operator overloading depends on the domain and the requirements of the application. Some domains, such as mathematics, finance, or computer graphics, may make heavy use of operator overloading, while other domains may have little or no use for it."
   ]
  },
  {
   "cell_type": "markdown",
   "id": "b328b403",
   "metadata": {},
   "source": [
    "#### Q9. What are the two most important concepts to grasp in order to comprehend Python OOP code?\n",
    "**Ans.**\n",
    "The two most important concepts to grasp in order to comprehend Python OOP (Object-Oriented Programming) code are:\n",
    "\n",
    "1. Classes and objects: A class defines a blueprint for creating objects, while an object is an instance of a class that contains its own data and behavior. Understanding the distinction between classes and objects, and how objects inherit attributes and methods from their classes, is crucial for understanding Python OOP.\n",
    "\n",
    "2. Encapsulation: Encapsulation is the practice of hiding the internal details of an object from the outside world, and exposing only a public interface for interacting with the object. This is achieved through the use of methods and data members that are designated as private or protected. Understanding the principle of encapsulation and how it is used to enforce data hiding and data abstraction is essential for writing robust, maintainable OOP code.\n",
    "\n",
    "By grasping these two concepts, you will be able to understand how classes and objects are defined and used in Python, and how the properties and behavior of objects are managed through encapsulation and inheritance."
   ]
  },
  {
   "cell_type": "code",
   "execution_count": null,
   "id": "2e1e212c",
   "metadata": {},
   "outputs": [],
   "source": []
  }
 ],
 "metadata": {
  "kernelspec": {
   "display_name": "Python 3 (ipykernel)",
   "language": "python",
   "name": "python3"
  },
  "language_info": {
   "codemirror_mode": {
    "name": "ipython",
    "version": 3
   },
   "file_extension": ".py",
   "mimetype": "text/x-python",
   "name": "python",
   "nbconvert_exporter": "python",
   "pygments_lexer": "ipython3",
   "version": "3.10.0"
  }
 },
 "nbformat": 4,
 "nbformat_minor": 5
}
