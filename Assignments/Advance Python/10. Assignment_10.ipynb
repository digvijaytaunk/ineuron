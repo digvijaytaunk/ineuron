{
 "cells": [
  {
   "cell_type": "markdown",
   "id": "593d35db",
   "metadata": {},
   "source": [
    "# Assignment 10"
   ]
  },
  {
   "cell_type": "markdown",
   "id": "887c8050",
   "metadata": {},
   "source": [
    "#### Q1. What is the difference between __getattr__ and __getattribute__?\n",
    "**Ans.** \n",
    "\n",
    "Both `__getattr__` and `__getattribute__` are methods in Python classes that are used to implement attribute access. However, there is an important difference between them:\n",
    "\n",
    "1. `__getattr__` is called only when an attribute is not found by looking up the instance's dictionary, i.e., when the attribute is not present as an instance variable. It takes the name of the attribute as an argument and returns the attribute value or raises an `AttributeError` if the attribute is not found. This method is commonly used to implement dynamic attributes that are computed or fetched on-the-fly, or to provide default values for missing attributes.\n",
    "\n",
    "2. `__getattribute__`, on the other hand, is called for every attribute access, regardless of whether the attribute is present in the instance dictionary or not. It takes the name of the attribute as an argument and returns the attribute value or raises an `AttributeError` if the attribute is not found. This method is commonly used for implementing \"magic\" attributes, such as `__slots__` or `__weakref__`, or for implementing security or tracing mechanisms.\n",
    "\n",
    "The key difference is that `__getattribute__` is a \"magic\" method that is called for every attribute access, while `__getattr__` is only called when the attribute is not found through the usual attribute lookup mechanism. This means that `__getattribute__` is more powerful and more flexible, but also more dangerous, as it can override the normal behavior of attribute access and cause infinite recursion or other unexpected effects. On the other hand, `__getattr__` is safer and simpler, but more limited in what it can do."
   ]
  },
  {
   "cell_type": "markdown",
   "id": "5d2cd9d6",
   "metadata": {},
   "source": [
    "#### Q2. What is the difference between properties and descriptors?\n",
    "**Ans.** \n",
    "Properties and descriptors are two related but distinct features in Python that are used to implement computed attributes or \"virtual\" attributes. Here is a brief summary of their differences:\n",
    "\n",
    "1. Properties are a simple and convenient way to implement read-only or read-write attributes that are computed on-the-fly from other attributes or methods of the object. They are defined using the `@property` decorator and optionally the `@<name>.setter` and `@<name>.deleter` decorators, which allow you to define the corresponding setter and deleter methods. Properties are accessed and modified like ordinary instance variables, but their value is computed dynamically when they are accessed.\n",
    "\n",
    "2. Descriptors are a more general and powerful way to implement computed attributes or \"virtual\" attributes, which can have arbitrary get, set, and delete behavior. They are defined as a separate class with `__get__`, `__set__`, and/or `__delete__` methods, which are called when the descriptor is accessed, assigned to, or deleted from the object. Descriptors are typically used as a building block for more complex APIs or frameworks, such as the `@cached_property` decorator in Django, the `@lazyproperty` decorator in Flask, or the `@property` decorator in Python's built-in `datetime` module. \n",
    "\n",
    "The key difference between properties and descriptors is that properties are a simpler and more limited mechanism for computed attributes that are computed on-the-fly from other attributes or methods, while descriptors are a more flexible and general mechanism for computed attributes that can have arbitrary get, set, and delete behavior. Properties are a convenient and idiomatic way to implement simple and common use cases, such as computed attributes, while descriptors are a more low-level and powerful mechanism that can be used to build more complex and custom APIs or frameworks.\n"
   ]
  },
  {
   "cell_type": "markdown",
   "id": "85de5f5a",
   "metadata": {},
   "source": [
    "#### Q3. What are the key differences in functionality between __getattr__ and __getattribute__, as well as properties and descriptors?\n",
    "**Ans.** \n",
    "\n",
    "`__getattr__` and `__getattribute__` are special methods in Python that allow you to control access to object attributes.\n",
    "\n",
    "`__getattribute__` is called every time an attribute is accessed, while `__getattr__` is only called when an attribute is not found in the object's `__dict__` or in any of its parent classes. In other words, `__getattribute__` is a catch-all for all attribute access, whereas `__getattr__` is a catch-all for attribute access that fails to find a match.\n",
    "\n",
    "Properties and descriptors are two other ways to control access to object attributes in Python.\n",
    "\n",
    "A property is a special kind of attribute that is accessed like a regular attribute, but its access is controlled by getter, setter, and deleter methods. You can define properties using the property built-in function. Properties are defined at the class level and apply to all instances of the class.\n",
    "\n",
    "A descriptor is an object that defines one or more of the following special methods: `__get__`, `__set__`, and `__delete__`. If an object defines a `__get__` method, it is considered a read-only descriptor. If it defines both `__get__` and `__set__` methods, it is considered a read-write descriptor. Descriptors can be used to enforce constraints or calculate values on the fly.\n",
    "\n",
    "In summary, properties are a simple way to control attribute access and are defined at the class level. Descriptors are more powerful and flexible, allowing you to define complex behavior for attribute access, but they can be harder to understand and use. `__getattr__` and `__getattribute__` are catch-all methods for attribute access that provide a way to handle missing attributes or all attributes, respectively.\n",
    "\n"
   ]
  },
  {
   "cell_type": "code",
   "execution_count": null,
   "id": "4b0b84c8",
   "metadata": {},
   "outputs": [],
   "source": []
  }
 ],
 "metadata": {
  "kernelspec": {
   "display_name": "Python 3 (ipykernel)",
   "language": "python",
   "name": "python3"
  },
  "language_info": {
   "codemirror_mode": {
    "name": "ipython",
    "version": 3
   },
   "file_extension": ".py",
   "mimetype": "text/x-python",
   "name": "python",
   "nbconvert_exporter": "python",
   "pygments_lexer": "ipython3",
   "version": "3.7.8"
  }
 },
 "nbformat": 4,
 "nbformat_minor": 5
}
