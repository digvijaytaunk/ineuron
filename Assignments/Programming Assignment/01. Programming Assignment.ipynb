{
 "cells": [
  {
   "cell_type": "markdown",
   "id": "f4f7cfc4",
   "metadata": {},
   "source": [
    "# Programming Assignment - 1"
   ]
  },
  {
   "cell_type": "markdown",
   "id": "a03c67af",
   "metadata": {},
   "source": [
    "#### 1. Write a Python program to print &quot;Hello Python&quot;?\n",
    "\n",
    "#### Ans."
   ]
  },
  {
   "cell_type": "code",
   "execution_count": 2,
   "id": "7202ec01",
   "metadata": {},
   "outputs": [
    {
     "name": "stdout",
     "output_type": "stream",
     "text": [
      "Helo Python\n"
     ]
    }
   ],
   "source": [
    "def hello():\n",
    "    return 'Hello Python'\n",
    "\n",
    "print(hello())"
   ]
  },
  {
   "cell_type": "markdown",
   "id": "d77637a4",
   "metadata": {},
   "source": [
    "#### 2. Write a Python program to do arithmetical operations addition and division.?\n",
    "\n",
    "#### Ans."
   ]
  },
  {
   "cell_type": "code",
   "execution_count": 32,
   "id": "d49e3f34",
   "metadata": {},
   "outputs": [
    {
     "name": "stdout",
     "output_type": "stream",
     "text": [
      "Addition is 15\n",
      "Division by Zero not possible\n"
     ]
    }
   ],
   "source": [
    "def add(num1, num2):\n",
    "    return num1 + num2\n",
    "\n",
    "def divide(num1, num2):\n",
    "    if num2 == 0:\n",
    "        raise ZeroDivisionError # 'Dinominator cannot be 0'\n",
    "    return num1 / num2\n",
    "\n",
    "\n",
    "addition = add(5,10)\n",
    "print(f\"Addition is {addition}\")\n",
    "\n",
    "try:\n",
    "    res = divide(1,0)\n",
    "    print(f\"Division is {res}\")\n",
    "except Exception as ex:\n",
    "    print(\"Division by Zero not possible\")\n",
    "    \n"
   ]
  },
  {
   "cell_type": "markdown",
   "id": "43084f8e",
   "metadata": {},
   "source": [
    "#### 3. Write a Python program to find the area of a triangle?\n",
    "\n",
    "#### Ans."
   ]
  },
  {
   "cell_type": "code",
   "execution_count": 3,
   "id": "6ece8d43",
   "metadata": {},
   "outputs": [
    {
     "data": {
      "text/plain": [
       "100.0"
      ]
     },
     "execution_count": 3,
     "metadata": {},
     "output_type": "execute_result"
    }
   ],
   "source": [
    "def area_of_triangle(base, height):\n",
    "    \"\"\"\n",
    "    Returns area of triangle measured by 0.5 * base * height\n",
    "    \"\"\"\n",
    "    return 0.5 * base * height\n",
    "\n",
    "\n",
    "area_of_triangle(10, 20)"
   ]
  },
  {
   "cell_type": "markdown",
   "id": "a4543caa",
   "metadata": {},
   "source": [
    "#### 4. Write a Python program to swap two variables?\n",
    "\n",
    "#### Ans."
   ]
  },
  {
   "cell_type": "code",
   "execution_count": 5,
   "id": "5a6704c8",
   "metadata": {},
   "outputs": [
    {
     "name": "stdout",
     "output_type": "stream",
     "text": [
      "(15, 10)\n"
     ]
    }
   ],
   "source": [
    "def swap(num1, num2):\n",
    "    return num2, num1\n",
    "\n",
    "print(swap(10, 15))"
   ]
  },
  {
   "cell_type": "markdown",
   "id": "0f5e9a06",
   "metadata": {},
   "source": [
    "#### 5. Write a Python program to generate a random number?\n",
    "\n",
    "#### Ans."
   ]
  },
  {
   "cell_type": "code",
   "execution_count": 17,
   "id": "84b2e25c",
   "metadata": {},
   "outputs": [
    {
     "data": {
      "text/plain": [
       "5"
      ]
     },
     "execution_count": 17,
     "metadata": {},
     "output_type": "execute_result"
    }
   ],
   "source": [
    "import random\n",
    "def gen_random(start, end):\n",
    "    return random.randint(start, end)\n",
    "\n",
    "gen_random(0,5)"
   ]
  }
 ],
 "metadata": {
  "kernelspec": {
   "display_name": "Python 3 (ipykernel)",
   "language": "python",
   "name": "python3"
  },
  "language_info": {
   "codemirror_mode": {
    "name": "ipython",
    "version": 3
   },
   "file_extension": ".py",
   "mimetype": "text/x-python",
   "name": "python",
   "nbconvert_exporter": "python",
   "pygments_lexer": "ipython3",
   "version": "3.10.0"
  }
 },
 "nbformat": 4,
 "nbformat_minor": 5
}
