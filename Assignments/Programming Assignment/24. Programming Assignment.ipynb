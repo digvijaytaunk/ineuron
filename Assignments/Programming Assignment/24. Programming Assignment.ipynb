{
 "cells": [
  {
   "cell_type": "markdown",
   "id": "f4f7cfc4",
   "metadata": {},
   "source": [
    "# Programming Assignment - 24"
   ]
  },
  {
   "cell_type": "markdown",
   "id": "a03c67af",
   "metadata": {},
   "source": [
    "####  Question1\n",
    "Create a function that takes an integer and returns a list from 1 to the given number, where:\n",
    "\n",
    "1. If the number can be divided evenly by 4, amplify it by 10 (i.e. return 10 times the\n",
    "number).\n",
    "\n",
    "2. If the number cannot be divided evenly by 4, simply return the number.\n",
    "\n",
    "Examples\n",
    "\n",
    "amplify(4) ➞ [1, 2, 3, 40]\n",
    "\n",
    "amplify(3) ➞ [1, 2, 3]\n",
    "\n",
    "amplify(25) ➞ [1, 2, 3, 40, 5, 6, 7, 80, 9, 10, 11, 120, 13, 14, 15, 160, 17, 18, 19, 200, 21, 22, 23, 240, 25]\n",
    "\n",
    "Notes\n",
    "\n",
    "* The given integer will always be equal to or greater than 1.\n",
    "\n",
    "* Include the number (see example above).\n",
    "\n",
    "* To perform this problem with its intended purpose, try doing it with list comprehensions. If that&#39;s too difficult, just solve the challenge any way you can.\n",
    "\n",
    "\n",
    "#### Ans."
   ]
  },
  {
   "cell_type": "code",
   "execution_count": 1,
   "id": "0f5c0673",
   "metadata": {},
   "outputs": [
    {
     "name": "stdout",
     "output_type": "stream",
     "text": [
      "[1, 2, 3, 40]\n",
      "[1, 2, 3]\n",
      "[1, 2, 3, 40, 5, 6, 7, 80, 9, 10, 11, 120, 13, 14, 15, 160, 17, 18, 19, 200, 21, 22, 23, 240, 25]\n"
     ]
    }
   ],
   "source": [
    "def amplify(num):\n",
    "    return [ele * 10 if ele % 4 == 0 else ele for ele in range(1, num + 1)]\n",
    "\n",
    "            \n",
    "print(amplify(4))\n",
    "print(amplify(3))\n",
    "print(amplify(25))"
   ]
  },
  {
   "cell_type": "markdown",
   "id": "32801de1",
   "metadata": {},
   "source": [
    "#### Question2\n",
    "\n",
    "Create a function that takes a list of numbers and return the number that&#39;s unique.\n",
    "\n",
    "Examples\n",
    "\n",
    "unique([3, 3, 3, 7, 3, 3]) ➞ 7\n",
    "\n",
    "unique([0, 0, 0.77, 0, 0]) ➞ 0.77\n",
    "\n",
    "unique([0, 1, 1, 1, 1, 1, 1, 1]) ➞ 0\n",
    "\n",
    "Notes\n",
    "\n",
    "Test cases will always have exactly one unique number while all others are the same.\n",
    "\n",
    "#### Ans.\n"
   ]
  },
  {
   "cell_type": "code",
   "execution_count": 2,
   "id": "6bdf2e80",
   "metadata": {},
   "outputs": [
    {
     "name": "stdout",
     "output_type": "stream",
     "text": [
      "7\n",
      "0.77\n",
      "0\n"
     ]
    }
   ],
   "source": [
    "def unique(l):\n",
    "    s = set(l)\n",
    "    d = {i: l.count(i) for i in s}\n",
    "    min_val = min([v for v in d.values()])\n",
    "    for key, value in d.items():\n",
    "        if min_val == value:\n",
    "            return key\n",
    "\n",
    "\n",
    "\n",
    "print(unique([3, 3, 3, 7, 3, 3]))\n",
    "print(unique([0, 0, 0.77, 0, 0]))\n",
    "print(unique([0, 1, 1, 1, 1, 1, 1, 1]))"
   ]
  },
  {
   "cell_type": "markdown",
   "id": "a284d43e",
   "metadata": {},
   "source": [
    "#### Question3\n",
    "\n",
    "Your task is to create a Circle constructor that creates a circle with a radius provided by an argument. The circles constructed must have two getters getArea() (PIr^2) and getPerimeter() (2PI*r) which give both respective areas and perimeter (circumference).\n",
    "\n",
    "\n",
    "For help with this class, I have provided you with a Rectangle constructor which you can use as a base example.\n",
    "\n",
    "Examples\n",
    "\n",
    "circy = Circle(11)\n",
    "\n",
    "circy.getArea()\n",
    "\n",
    "Should return 380.132711084365\n",
    "\n",
    "circy = Circle(4.44)\n",
    "\n",
    "circy.getPerimeter()\n",
    "\n",
    "Should return 27.897342763877365\n",
    "\n",
    "Notes\n",
    "\n",
    "Round results up to the nearest integer.\n",
    "\n",
    "#### Ans."
   ]
  },
  {
   "cell_type": "code",
   "execution_count": 3,
   "id": "0d2998cf",
   "metadata": {},
   "outputs": [
    {
     "name": "stdout",
     "output_type": "stream",
     "text": [
      "Area of Circle with radius 11 = 380\n",
      "Perimeter of Circle with radius 4.44 = 28\n"
     ]
    }
   ],
   "source": [
    "import math\n",
    "\n",
    "class Circle:\n",
    "    def __init__(self, radius):\n",
    "        self.radius = radius\n",
    "        \n",
    "    def getArea(self):\n",
    "        return round(math.pi * self.radius ** 2)\n",
    "        \n",
    "    def getPerimeter(self):\n",
    "        return round(2 * math.pi * self.radius)\n",
    "    \n",
    "\n",
    "circy = Circle(11)\n",
    "print(f'Area of Circle with radius 11 = {circy.getArea()}')\n",
    "\n",
    "circy = Circle(4.44)\n",
    "print(f'Perimeter of Circle with radius 4.44 = {circy.getPerimeter()}')"
   ]
  },
  {
   "cell_type": "markdown",
   "id": "a7c045f8",
   "metadata": {},
   "source": [
    "#### Question4\n",
    "\n",
    "Create a function that takes a list of strings and return a list, sorted from shortest to longest.\n",
    "\n",
    "Examples\n",
    "\n",
    "sort_by_length([&quot;Google&quot;, &quot;Apple&quot;, &quot;Microsoft&quot;])\n",
    "➞ [&quot;Apple&quot;, &quot;Google&quot;, &quot;Microsoft&quot;]\n",
    "\n",
    "sort_by_length([&quot;Leonardo&quot;, &quot;Michelangelo&quot;, &quot;Raphael&quot;, &quot;Donatello&quot;])\n",
    "➞ [&quot;Raphael&quot;, &quot;Leonardo&quot;, &quot;Donatello&quot;, &quot;Michelangelo&quot;]\n",
    "\n",
    "sort_by_length([&quot;Turing&quot;, &quot;Einstein&quot;, &quot;Jung&quot;])\n",
    "➞ [&quot;Jung&quot;, &quot;Turing&quot;, &quot;Einstein&quot;]\n",
    "\n",
    "Notes\n",
    "\n",
    "All test cases contain lists with strings of different lengths, so you won&#39;t have to deal with multiple strings of the same length.\n",
    "\n",
    "#### Ans."
   ]
  },
  {
   "cell_type": "code",
   "execution_count": 4,
   "id": "8d9068fe",
   "metadata": {},
   "outputs": [
    {
     "name": "stdout",
     "output_type": "stream",
     "text": [
      "['Apple', 'Google', 'Microsoft']\n",
      "['Raphael', 'Leonardo', 'Donatello', 'Michelangelo']\n",
      "['Jung', 'Turing', 'Einstein']\n"
     ]
    }
   ],
   "source": [
    "def sort_by_length(input_list):\n",
    "    return sorted(input_list, key=len)\n",
    "\n",
    "print(sort_by_length([\"Google\", \"Apple\", \"Microsoft\"]))\n",
    "print(sort_by_length([\"Leonardo\", \"Michelangelo\", \"Raphael\", \"Donatello\"]))\n",
    "print(sort_by_length([\"Turing\", \"Einstein\", \"Jung\"]))"
   ]
  },
  {
   "cell_type": "markdown",
   "id": "89dfea5f",
   "metadata": {},
   "source": [
    "#### Question5\n",
    "\n",
    "Create a function that validates whether three given integers form a Pythagorean triplet. The sum of the squares of the two smallest integers must equal the square of the largest number to be validated.\n",
    "\n",
    "Examples\n",
    "\n",
    "is_triplet(3, 4, 5) ➞ True\n",
    "\n",
    "`3² + 4² = 25`\n",
    "\n",
    "`5² = 25`\n",
    "\n",
    "is_triplet(13, 5, 12) ➞ True\n",
    "\n",
    "#5² + 12² = 169\n",
    "#13² = 169\n",
    "\n",
    "is_triplet(1, 2, 3) ➞ False\n",
    "\n",
    "#1² + 2² = 5\n",
    "#3² = 9\n",
    "\n",
    "Notes\n",
    "\n",
    "Numbers may not be given in a sorted order.\n",
    "\n",
    "#### Ans."
   ]
  },
  {
   "cell_type": "code",
   "execution_count": 5,
   "id": "b09e7405",
   "metadata": {},
   "outputs": [
    {
     "name": "stdout",
     "output_type": "stream",
     "text": [
      "True\n",
      "True\n",
      "True\n",
      "False\n"
     ]
    }
   ],
   "source": [
    "def is_triplet(a, b, c):\n",
    "    sorted_l = sorted([a, b, c])\n",
    "    return sorted_l[0]**2 + sorted_l[1]**2 == sorted_l[2]**2\n",
    "\n",
    "        \n",
    "print(is_triplet(3, 4, 5))\n",
    "print(is_triplet(5, 4, 3))\n",
    "print(is_triplet(13, 5, 12))\n",
    "print(is_triplet(1, 2, 3))"
   ]
  },
  {
   "cell_type": "code",
   "execution_count": null,
   "id": "ff8969a6",
   "metadata": {},
   "outputs": [],
   "source": []
  }
 ],
 "metadata": {
  "kernelspec": {
   "display_name": "Python 3 (ipykernel)",
   "language": "python",
   "name": "python3"
  },
  "language_info": {
   "codemirror_mode": {
    "name": "ipython",
    "version": 3
   },
   "file_extension": ".py",
   "mimetype": "text/x-python",
   "name": "python",
   "nbconvert_exporter": "python",
   "pygments_lexer": "ipython3",
   "version": "3.10.5"
  }
 },
 "nbformat": 4,
 "nbformat_minor": 5
}
