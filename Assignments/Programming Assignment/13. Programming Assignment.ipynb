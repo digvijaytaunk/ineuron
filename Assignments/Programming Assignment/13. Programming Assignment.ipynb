{
 "cells": [
  {
   "cell_type": "markdown",
   "id": "f4f7cfc4",
   "metadata": {},
   "source": [
    "# Programming Assignment - 13"
   ]
  },
  {
   "cell_type": "markdown",
   "id": "a03c67af",
   "metadata": {},
   "source": [
    "#### Question 1. \n",
    "\n",
    "Write a program that calculates and prints the value according to the given formula:\n",
    "\n",
    "Q = Square root of [(2 * C * D)/H]\n",
    "\n",
    "Following are the fixed values of C and H:\n",
    "\n",
    "C is 50. H is 30.\n",
    "\n",
    "D is the variable whose values should be input to your program in a comma-separated sequence.\n",
    "\n",
    "Example\n",
    "\n",
    "Let us assume the following comma separated input sequence is given to the program:\n",
    "\n",
    "100,150,180\n",
    "\n",
    "The output of the program should be:\n",
    "\n",
    "18,22,24\n",
    "#### Ans.\n"
   ]
  },
  {
   "cell_type": "code",
   "execution_count": 1,
   "id": "0f5c0673",
   "metadata": {
    "scrolled": true
   },
   "outputs": [
    {
     "name": "stdout",
     "output_type": "stream",
     "text": [
      "Enter the input in comma separated sequence: 100,150,180\n",
      "18,22,24\n"
     ]
    }
   ],
   "source": [
    "from math import sqrt\n",
    "\n",
    "def calculate_formula(n):\n",
    "    output = []\n",
    "    C = 50\n",
    "    H = 30\n",
    "    return ','.join([str(int(sqrt((2 * C * D)/ H))) for D in n])\n",
    "\n",
    "\n",
    "\n",
    "\n",
    "input_val = eval(input(\"Enter the input in comma separated sequence: \"))\n",
    "print(calculate_formula(input_val))"
   ]
  },
  {
   "cell_type": "markdown",
   "id": "32801de1",
   "metadata": {},
   "source": [
    "#### Question 2. \n",
    "Write a program which takes 2 digits, X,Y as input and generates a 2-dimensional array. The element value in the i-th row and j-th column of the array should be i*j.\n",
    "\n",
    "Note: i=0,1.., X-1; j=0,1,¡Y-1.\n",
    "\n",
    "Example\n",
    "\n",
    "Suppose the following inputs are given to the program:\n",
    "\n",
    "3,5\n",
    "\n",
    "Then, the output of the program should be:\n",
    "\n",
    "```python\n",
    "[[0, 0, 0, 0, 0],\n",
    "\n",
    "[0, 1, 2, 3, 4],\n",
    "\n",
    "[0, 2, 4, 6, 8]]\n",
    "````\n",
    "\n",
    "#### Ans.\n"
   ]
  },
  {
   "cell_type": "code",
   "execution_count": 2,
   "id": "6bdf2e80",
   "metadata": {},
   "outputs": [
    {
     "name": "stdout",
     "output_type": "stream",
     "text": [
      "[[0, 0, 0, 0, 0], [0, 1, 2, 3, 4], [0, 2, 4, 6, 8]]\n"
     ]
    }
   ],
   "source": [
    "def array_2d(X, Y):\n",
    "    output = []\n",
    "    for i in range(X):\n",
    "        output.insert(X,[])\n",
    "        for j in range(Y):\n",
    "            output[i].append(i * j)\n",
    "    return output\n",
    "\n",
    "X = 3\n",
    "Y = 5\n",
    "\n",
    "print(array_2d(X, Y))\n"
   ]
  },
  {
   "cell_type": "markdown",
   "id": "a284d43e",
   "metadata": {},
   "source": [
    "#### Question 3. \n",
    "Write a program that accepts a comma separated sequence of words as input and prints the words in a comma-separated sequence after sorting them alphabetically.\n",
    "\n",
    "Suppose the following input is supplied to the program:\n",
    "\n",
    "without,hello,bag,world\n",
    "\n",
    "Then, the output should be:\n",
    "\n",
    "bag,hello,without,world\n",
    "\n",
    "#### Ans."
   ]
  },
  {
   "cell_type": "code",
   "execution_count": 3,
   "id": "0d2998cf",
   "metadata": {},
   "outputs": [
    {
     "name": "stdout",
     "output_type": "stream",
     "text": [
      "bag,hello,without,world\n"
     ]
    }
   ],
   "source": [
    "def sort_string(s):\n",
    "    return ','.join(sorted(s.split(',')))\n",
    "\n",
    "\n",
    "\n",
    "print(sort_string('without,hello,bag,world'))"
   ]
  },
  {
   "cell_type": "markdown",
   "id": "a7c045f8",
   "metadata": {},
   "source": [
    "#### Question 4. \n",
    "Write a program that accepts a sequence of whitespace separated words as input and prints the words after removing all duplicate words and sorting them alphanumerically.\n",
    "\n",
    "Suppose the following input is supplied to the program:\n",
    "\n",
    "hello world and practice makes perfect and hello world again\n",
    "\n",
    "Then, the output should be:\n",
    "\n",
    "again and hello makes perfect practice world\n",
    "\n",
    "#### Ans."
   ]
  },
  {
   "cell_type": "code",
   "execution_count": 4,
   "id": "3c07c8de",
   "metadata": {},
   "outputs": [
    {
     "name": "stdout",
     "output_type": "stream",
     "text": [
      "again and hello makes perfect practice world\n"
     ]
    }
   ],
   "source": [
    "def sort_string_2(space_separated_word):\n",
    "    return ' '.join(sorted(set(space_separated_word.split(' '))))\n",
    "    \n",
    "\n",
    "\n",
    "print(sort_string_2('hello world and practice makes perfect and hello world again'))\n"
   ]
  },
  {
   "cell_type": "markdown",
   "id": "89dfea5f",
   "metadata": {},
   "source": [
    "#### Question 5. \n",
    "Write a program that accepts a sentence and calculate the number of letters and digits. Suppose the following input is supplied to the program:\n",
    "\n",
    "hello world! 123\n",
    "\n",
    "Then, the output should be:\n",
    "\n",
    "LETTERS 10\n",
    "\n",
    "DIGITS 3\n",
    "#### Ans."
   ]
  },
  {
   "cell_type": "code",
   "execution_count": 5,
   "id": "bed12dd4",
   "metadata": {},
   "outputs": [
    {
     "name": "stdout",
     "output_type": "stream",
     "text": [
      "LETTERS 10 \n",
      "DIGITS 3\n"
     ]
    }
   ],
   "source": [
    "def alpha_num_count(string):\n",
    "    alphabets = len([ele for ele in string if ele.isalpha()])\n",
    "    num = len([ele for ele in string if ele.isnumeric()])\n",
    "    return alphabets, num\n",
    "\n",
    "\n",
    "# calling the function\n",
    "alphabets, num = alpha_num_count('hello world! 123')\n",
    "print(f\"LETTERS {alphabets} \\nDIGITS {num}\")"
   ]
  },
  {
   "cell_type": "markdown",
   "id": "1ace999c",
   "metadata": {},
   "source": [
    "#### Question 6. \n",
    "A website requires the users to input username and password to register. Write a program to check the validity of password input by users.\n",
    "\n",
    "Following are the criteria for checking the password:\n",
    "\n",
    "1. At least 1 letter between [a-z]\n",
    "\n",
    "2. At least 1 number between [0-9]\n",
    "\n",
    "1. At least 1 letter between [A-Z]\n",
    "\n",
    "3. At least 1 character from [$#@]\n",
    "\n",
    "4. Minimum length of transaction password: 6\n",
    "\n",
    "5. Maximum length of transaction password: 12\n",
    "\n",
    "Your program should accept a sequence of comma separated passwords and will check them according to the above criteria. Passwords that match the criteria are to be printed, each separated by a comma.\n",
    "\n",
    "Example\n",
    "\n",
    "If the following passwords are given as input to the program:\n",
    "\n",
    "ABd1234@1,a F1#,2w3E*,2We3345\n",
    "\n",
    "Then, the output of the program should be:\n",
    "\n",
    "ABd1234@1\n",
    "\n",
    "#### Ans."
   ]
  },
  {
   "cell_type": "code",
   "execution_count": 6,
   "id": "fe1c1d5a",
   "metadata": {},
   "outputs": [
    {
     "name": "stdout",
     "output_type": "stream",
     "text": [
      "['ABd1234@1']\n"
     ]
    }
   ],
   "source": [
    "def validate_password(pwd):\n",
    "    if not any(c.islower() for c in pwd):\n",
    "        return False\n",
    "    \n",
    "    if not any(c.isnumeric() for c in pwd):\n",
    "        return False\n",
    "    \n",
    "    if not any(c.isupper() for c in pwd):\n",
    "        return False\n",
    "    \n",
    "    special = '$#@'\n",
    "    if not any(c in special for c in pwd):\n",
    "        return False\n",
    "    \n",
    "    if ' ' in pwd:\n",
    "        return False\n",
    "    \n",
    "    if not 6 <= len(pwd) <= 12: \n",
    "        return False\n",
    "    \n",
    "    return True\n",
    "    \n",
    "def get_valid_passwords(lst):\n",
    "    return [pwd for pwd in lst if validate_password(pwd)]\n",
    "        \n",
    "    \n",
    "\n",
    "print(get_valid_passwords(['ABd1234@1','a F1#,2w3E*','2We3345']))"
   ]
  },
  {
   "cell_type": "code",
   "execution_count": null,
   "id": "fe41d2ba",
   "metadata": {},
   "outputs": [],
   "source": []
  }
 ],
 "metadata": {
  "kernelspec": {
   "display_name": "Python 3 (ipykernel)",
   "language": "python",
   "name": "python3"
  },
  "language_info": {
   "codemirror_mode": {
    "name": "ipython",
    "version": 3
   },
   "file_extension": ".py",
   "mimetype": "text/x-python",
   "name": "python",
   "nbconvert_exporter": "python",
   "pygments_lexer": "ipython3",
   "version": "3.10.5"
  }
 },
 "nbformat": 4,
 "nbformat_minor": 5
}
