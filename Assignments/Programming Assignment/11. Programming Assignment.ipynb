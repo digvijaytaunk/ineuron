{
 "cells": [
  {
   "cell_type": "markdown",
   "id": "f4f7cfc4",
   "metadata": {},
   "source": [
    "# Programming Assignment - 11"
   ]
  },
  {
   "cell_type": "markdown",
   "id": "a03c67af",
   "metadata": {},
   "source": [
    "#### 1. Write a Python program to find words which are greater than given length k?\n",
    "#### Ans."
   ]
  },
  {
   "cell_type": "code",
   "execution_count": 1,
   "id": "0f5c0673",
   "metadata": {
    "scrolled": true
   },
   "outputs": [
    {
     "name": "stdout",
     "output_type": "stream",
     "text": [
      "['this', 'sample', 'sentence', 'test']\n"
     ]
    }
   ],
   "source": [
    "def find_words_greater_than(lis, word_count):\n",
    "    return [ele for ele in lis if len(ele) > word_count]\n",
    "\n",
    "print(find_words_greater_than(['this', 'is', 'a', 'sample', 'sentence', 'to', 'test'], 3))    "
   ]
  },
  {
   "cell_type": "markdown",
   "id": "32801de1",
   "metadata": {},
   "source": [
    "#### 2. Write a Python program for removing i-th character from a string?\n",
    "#### Ans.\n"
   ]
  },
  {
   "cell_type": "code",
   "execution_count": 2,
   "id": "6bdf2e80",
   "metadata": {},
   "outputs": [
    {
     "name": "stdout",
     "output_type": "stream",
     "text": [
      "Divijay Taunk\n"
     ]
    }
   ],
   "source": [
    "def remove_ith_char(text, ith):\n",
    "    char_list = [c for c in text]\n",
    "    char_list.remove(text[ith])\n",
    "    return ''.join(char_list)\n",
    "\n",
    "\n",
    "print(remove_ith_char('Digvijay Taunk', 2)) "
   ]
  },
  {
   "cell_type": "markdown",
   "id": "a284d43e",
   "metadata": {},
   "source": [
    "#### 3. Write a Python program to split and join a string?\n",
    "#### Ans."
   ]
  },
  {
   "cell_type": "code",
   "execution_count": 3,
   "id": "0d2998cf",
   "metadata": {},
   "outputs": [
    {
     "name": "stdout",
     "output_type": "stream",
     "text": [
      "['this', 'is', 'sample', 'sentence', 'to', 'test']\n",
      "this is sample sentence to test\n"
     ]
    }
   ],
   "source": [
    "def split_string(text):\n",
    "    return text.split(' ')\n",
    "\n",
    "\n",
    "def join_string(lis):\n",
    "    return ' '.join(lis)\n",
    "\n",
    "\n",
    "print(split_string('this is sample sentence to test'))\n",
    "print(join_string(split_string('this is sample sentence to test')))"
   ]
  },
  {
   "cell_type": "markdown",
   "id": "a7c045f8",
   "metadata": {},
   "source": [
    "#### 4. Write a Python to check if a given string is binary string or not?\n",
    "#### Ans."
   ]
  },
  {
   "cell_type": "code",
   "execution_count": 4,
   "id": "3c07c8de",
   "metadata": {},
   "outputs": [
    {
     "name": "stdout",
     "output_type": "stream",
     "text": [
      "True\n",
      "True\n",
      "False\n",
      "False\n",
      "False\n"
     ]
    }
   ],
   "source": [
    "def check_binary_string(text):\n",
    "    s = set(text)\n",
    "    return len(s) <= 2 and ('1' in s or '0' in s)\n",
    "\n",
    "print(check_binary_string('101011110011101001'))\n",
    "print(check_binary_string('111'))\n",
    "print(check_binary_string('10101111001110564651001'))\n",
    "print(check_binary_string('2322233323233'))\n",
    "print(check_binary_string(''))"
   ]
  },
  {
   "cell_type": "markdown",
   "id": "89dfea5f",
   "metadata": {},
   "source": [
    "#### 5. Write a Python program to find uncommon words from two Strings?\n",
    "#### Ans."
   ]
  },
  {
   "cell_type": "code",
   "execution_count": 5,
   "id": "bed12dd4",
   "metadata": {},
   "outputs": [
    {
     "name": "stdout",
     "output_type": "stream",
     "text": [
      "{'black', 'white'}\n"
     ]
    }
   ],
   "source": [
    "def compare_and_find_uncommon(str1, str2):\n",
    "    in_string_1 = set(str1.split(' '))\n",
    "    in_string_2 = set(str2.split(' '))\n",
    "    out_string = (in_string_1.union(in_string_2)).difference(in_string_1.intersection(in_string_2))\n",
    "    return out_string\n",
    "\n",
    "\n",
    "\n",
    "print(compare_and_find_uncommon('black color', 'white color'))\n"
   ]
  },
  {
   "cell_type": "markdown",
   "id": "1ace999c",
   "metadata": {},
   "source": [
    "#### 6. Write a Python to find all duplicate characters in string?\n",
    "#### Ans."
   ]
  },
  {
   "cell_type": "code",
   "execution_count": 6,
   "id": "fe1c1d5a",
   "metadata": {},
   "outputs": [
    {
     "name": "stdout",
     "output_type": "stream",
     "text": [
      "['e', 't']\n"
     ]
    }
   ],
   "source": [
    "def find_duplicate_characters(text):\n",
    "    s = set(text)\n",
    "    return [e for e in s if text.count(e) > 1]\n",
    "\n",
    "\n",
    "\n",
    "print(find_duplicate_characters('some text'))\n"
   ]
  },
  {
   "cell_type": "markdown",
   "id": "d1f2e952",
   "metadata": {},
   "source": [
    "#### 7. Write a Python Program to check if a string contains any special character?\n",
    "#### Ans."
   ]
  },
  {
   "cell_type": "code",
   "execution_count": 7,
   "id": "3bd1bb7a",
   "metadata": {},
   "outputs": [
    {
     "name": "stdout",
     "output_type": "stream",
     "text": [
      "['@', '&', '%', '&', '%']\n"
     ]
    }
   ],
   "source": [
    "def find_special(text):\n",
    "    spl_chars = '[@_!#$%^&*()<>?/\\|}{~:]'\n",
    "    return [c for c in text if c in spl_chars]\n",
    "\n",
    "print(find_special('digvijay.taunk@gmail.com & mod is % & percentage is %'))"
   ]
  },
  {
   "cell_type": "code",
   "execution_count": null,
   "id": "00448428",
   "metadata": {},
   "outputs": [],
   "source": []
  }
 ],
 "metadata": {
  "kernelspec": {
   "display_name": "Python 3 (ipykernel)",
   "language": "python",
   "name": "python3"
  },
  "language_info": {
   "codemirror_mode": {
    "name": "ipython",
    "version": 3
   },
   "file_extension": ".py",
   "mimetype": "text/x-python",
   "name": "python",
   "nbconvert_exporter": "python",
   "pygments_lexer": "ipython3",
   "version": "3.10.0"
  }
 },
 "nbformat": 4,
 "nbformat_minor": 5
}
