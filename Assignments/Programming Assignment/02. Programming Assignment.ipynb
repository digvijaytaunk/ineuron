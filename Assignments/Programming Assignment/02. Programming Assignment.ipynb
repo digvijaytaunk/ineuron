{
 "cells": [
  {
   "cell_type": "markdown",
   "id": "f4f7cfc4",
   "metadata": {},
   "source": [
    "# Programming Assignment - 2"
   ]
  },
  {
   "cell_type": "markdown",
   "id": "a03c67af",
   "metadata": {},
   "source": [
    "#### 1. Write a Python program to convert kilometers to miles?\n",
    "#### Ans."
   ]
  },
  {
   "cell_type": "code",
   "execution_count": 1,
   "id": "0f5c0673",
   "metadata": {},
   "outputs": [
    {
     "name": "stdout",
     "output_type": "stream",
     "text": [
      "Enter value of kilometer to convert - 50\n",
      "50.0 km is equal to 31.069 miles.\n"
     ]
    }
   ],
   "source": [
    "import pyinputplus as pyip\n",
    "\n",
    "def km_to_miles(km):\n",
    "    \"\"\"Converts the km value to miles. Conversion factor is 1 km = 0.621371 miles\"\"\"\n",
    "    return round(km * 0.621371, 3)\n",
    "\n",
    "km = pyip.inputFloat(prompt=\"Enter value of kilometer to convert - \")\n",
    "msg = f'{km} km is equal to {km_to_miles(km)} miles.'\n",
    "print(msg)"
   ]
  },
  {
   "cell_type": "markdown",
   "id": "32801de1",
   "metadata": {},
   "source": [
    "#### 2. Write a Python program to convert Celsius to Fahrenheit?\n",
    "#### Ans.\n"
   ]
  },
  {
   "cell_type": "code",
   "execution_count": 2,
   "id": "6bdf2e80",
   "metadata": {},
   "outputs": [
    {
     "name": "stdout",
     "output_type": "stream",
     "text": [
      "Enter value of Celsius to convert - 38\n",
      "38.0 deg Celsius is equal to 100.4 deg Fahrenheit.\n"
     ]
    }
   ],
   "source": [
    "import pyinputplus as pyip\n",
    "\n",
    "def celsius_to_fahrenheit(cel):\n",
    "    \"\"\"Converts the Celsius value to Fahrenheit. Conversion factor is f = (c × 9/5) + 32\"\"\"\n",
    "    return round((cel * (9/5)) + 32, 3)\n",
    "\n",
    "\n",
    "c = pyip.inputFloat(prompt=\"Enter value of Celsius to convert - \")\n",
    "msg = f'{c} deg Celsius is equal to {celsius_to_fahrenheit(c)} deg Fahrenheit.'\n",
    "print(msg)"
   ]
  },
  {
   "cell_type": "markdown",
   "id": "a284d43e",
   "metadata": {},
   "source": [
    "#### 3. Write a Python program to display calendar?\n",
    "#### Ans."
   ]
  },
  {
   "cell_type": "code",
   "execution_count": 3,
   "id": "0d2998cf",
   "metadata": {},
   "outputs": [
    {
     "name": "stdout",
     "output_type": "stream",
     "text": [
      "    August 2022\n",
      "Mo Tu We Th Fr Sa Su\n",
      " 1  2  3  4  5  6  7\n",
      " 8  9 10 11 12 13 14\n",
      "15 16 17 18 19 20 21\n",
      "22 23 24 25 26 27 28\n",
      "29 30 31\n",
      "\n"
     ]
    }
   ],
   "source": [
    "import calendar\n",
    "   \n",
    "yy = 2022\n",
    "mm = 8\n",
    "print(calendar.month(yy, mm))"
   ]
  },
  {
   "cell_type": "markdown",
   "id": "a7c045f8",
   "metadata": {},
   "source": [
    "#### 4. Write a Python program to solve quadratic equation?\n",
    "#### Ans."
   ]
  },
  {
   "cell_type": "code",
   "execution_count": 4,
   "id": "8d9068fe",
   "metadata": {},
   "outputs": [
    {
     "name": "stdout",
     "output_type": "stream",
     "text": [
      "Enter first number - 1\n",
      "Enter second number - 5\n",
      "Enter third number - 6\n",
      "The solution are (-3+0j) and (-2+0j)\n"
     ]
    }
   ],
   "source": [
    "\"\"\"\n",
    "The standard form of a quadratic equation is:\n",
    "ax2 + bx + c = 0, where\n",
    "a, b and c are real numbers and\n",
    "a ≠ 0\n",
    "\n",
    "Solution is given by\n",
    "(-b ± (b ** 2 - 4 * a * c) ** 0.5) / (2 * a)\n",
    "\n",
    "# the discriminant is given by\n",
    "d = (b**2) - (4*a*c)\n",
    "\n",
    "\"\"\"\n",
    "\n",
    "import cmath\n",
    "\n",
    "def solve_quadratic_eq(a, b, c):\n",
    "    \n",
    "    # calculate the discriminant\n",
    "    d = (b**2) - (4*a*c)\n",
    "\n",
    "    # find two solutions\n",
    "    sol1 = (-b-cmath.sqrt(d))/(2*a)\n",
    "    sol2 = (-b+cmath.sqrt(d))/(2*a)\n",
    "    return sol1, sol2\n",
    "\n",
    "\n",
    "a = pyip.inputFloat(prompt=\"Enter first number - \")\n",
    "b = pyip.inputFloat(prompt=\"Enter second number - \")\n",
    "c = pyip.inputFloat(prompt=\"Enter third number - \")\n",
    "\n",
    "solution1, solution2 = solve_quadratic_eq(a,b,c)\n",
    "\n",
    "print('The solution are {0} and {1}'.format(solution1,solution2))\n"
   ]
  },
  {
   "cell_type": "markdown",
   "id": "89dfea5f",
   "metadata": {},
   "source": [
    "#### 5. Write a Python program to swap two variables without temp variable?\n",
    "#### Ans."
   ]
  },
  {
   "cell_type": "code",
   "execution_count": 6,
   "id": "bed12dd4",
   "metadata": {},
   "outputs": [
    {
     "name": "stdout",
     "output_type": "stream",
     "text": [
      "Enter first number - 20\n",
      "Enter second number - 30\n",
      "The swapped first no. is 30.0 and swapped second numbers is 20.0\n"
     ]
    }
   ],
   "source": [
    "def swap_2_numbers(a,b):\n",
    "    return b,a\n",
    "\n",
    "num_1 = pyip.inputFloat(prompt=\"Enter first number - \")\n",
    "num_2 = pyip.inputFloat(prompt=\"Enter second number - \")\n",
    "\n",
    "n1, n2 = swap_2_numbers(num_1, num_2)\n",
    "print('The swapped first no. is {0} and swapped second numbers is {1}'.format(n1,n2))"
   ]
  },
  {
   "cell_type": "code",
   "execution_count": null,
   "id": "c09ed599",
   "metadata": {},
   "outputs": [],
   "source": []
  }
 ],
 "metadata": {
  "kernelspec": {
   "display_name": "Python 3 (ipykernel)",
   "language": "python",
   "name": "python3"
  },
  "language_info": {
   "codemirror_mode": {
    "name": "ipython",
    "version": 3
   },
   "file_extension": ".py",
   "mimetype": "text/x-python",
   "name": "python",
   "nbconvert_exporter": "python",
   "pygments_lexer": "ipython3",
   "version": "3.10.0"
  }
 },
 "nbformat": 4,
 "nbformat_minor": 5
}
