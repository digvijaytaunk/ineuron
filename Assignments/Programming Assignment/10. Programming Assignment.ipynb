{
 "cells": [
  {
   "cell_type": "markdown",
   "id": "f4f7cfc4",
   "metadata": {},
   "source": [
    "# Programming Assignment - 10"
   ]
  },
  {
   "cell_type": "markdown",
   "id": "a03c67af",
   "metadata": {},
   "source": [
    "#### 1. Write a Python program to find sum of elements in list?\n",
    "#### Ans.\n"
   ]
  },
  {
   "cell_type": "code",
   "execution_count": 1,
   "id": "0f5c0673",
   "metadata": {
    "scrolled": true
   },
   "outputs": [
    {
     "name": "stdout",
     "output_type": "stream",
     "text": [
      "55\n"
     ]
    }
   ],
   "source": [
    "from functools import reduce\n",
    "\n",
    "def sum_of_list(lis):\n",
    "    return reduce(lambda x,y: x+y, lis)\n",
    "\n",
    "print(sum_of_list([1,2,3,4,5,6,7,8,9,10]))"
   ]
  },
  {
   "cell_type": "markdown",
   "id": "32801de1",
   "metadata": {},
   "source": [
    "#### 2. Write a Python program to Multiply all numbers in the list?\n",
    "#### Ans.\n"
   ]
  },
  {
   "cell_type": "code",
   "execution_count": 2,
   "id": "6bdf2e80",
   "metadata": {},
   "outputs": [
    {
     "name": "stdout",
     "output_type": "stream",
     "text": [
      "120\n"
     ]
    }
   ],
   "source": [
    "from functools import reduce\n",
    "\n",
    "def product_of_list(lis):\n",
    "    return reduce(lambda x,y: x*y, lis)\n",
    "\n",
    "print(product_of_list([1,2,3,4,5]))"
   ]
  },
  {
   "cell_type": "markdown",
   "id": "a284d43e",
   "metadata": {},
   "source": [
    "#### 3. Write a Python program to find smallest number in a list?\n",
    "#### Ans."
   ]
  },
  {
   "cell_type": "code",
   "execution_count": 3,
   "id": "0d2998cf",
   "metadata": {},
   "outputs": [
    {
     "name": "stdout",
     "output_type": "stream",
     "text": [
      "1\n"
     ]
    }
   ],
   "source": [
    "def find_smallest(lis):\n",
    "    return min(lis)\n",
    "\n",
    "print(find_smallest([1,2,3,4,5]))"
   ]
  },
  {
   "cell_type": "markdown",
   "id": "a7c045f8",
   "metadata": {},
   "source": [
    "#### 4. Write a Python program to find largest number in a list?\n",
    "#### Ans."
   ]
  },
  {
   "cell_type": "code",
   "execution_count": 4,
   "id": "3c07c8de",
   "metadata": {},
   "outputs": [
    {
     "name": "stdout",
     "output_type": "stream",
     "text": [
      "5\n"
     ]
    }
   ],
   "source": [
    "def find_largest(lis):\n",
    "    return max(lis)\n",
    "\n",
    "print(find_largest([1,2,3,4,5]))"
   ]
  },
  {
   "cell_type": "markdown",
   "id": "89dfea5f",
   "metadata": {},
   "source": [
    "#### 5. Write a Python program to find second largest number in a list?\n",
    "#### Ans."
   ]
  },
  {
   "cell_type": "code",
   "execution_count": 5,
   "id": "bed12dd4",
   "metadata": {},
   "outputs": [
    {
     "name": "stdout",
     "output_type": "stream",
     "text": [
      "4\n"
     ]
    }
   ],
   "source": [
    "def find_second_largest(lis):\n",
    "    return list(reversed(sorted(lis)))[1]\n",
    "\n",
    "print(find_second_largest([1,2,3,4,5]))"
   ]
  },
  {
   "cell_type": "markdown",
   "id": "1ace999c",
   "metadata": {},
   "source": [
    "#### 5. Write a Python program to find N largest elements from a list?\n",
    "#### Ans."
   ]
  },
  {
   "cell_type": "code",
   "execution_count": 6,
   "id": "fe1c1d5a",
   "metadata": {},
   "outputs": [
    {
     "name": "stdout",
     "output_type": "stream",
     "text": [
      "5\n"
     ]
    }
   ],
   "source": [
    "def find_nth_largest(lis, nth):\n",
    "    idx = len(lis)-1 if nth > len(lis)-1 else nth\n",
    "    return list(reversed(sorted(lis)))[idx]\n",
    "\n",
    "print(find_nth_largest([1,2,3,4,5], 0))"
   ]
  },
  {
   "cell_type": "markdown",
   "id": "d1f2e952",
   "metadata": {},
   "source": [
    "#### 7. Write a Python program to print even numbers in a list?\n",
    "#### Ans."
   ]
  },
  {
   "cell_type": "code",
   "execution_count": 7,
   "id": "3bd1bb7a",
   "metadata": {},
   "outputs": [
    {
     "name": "stdout",
     "output_type": "stream",
     "text": [
      "[2, 4]\n"
     ]
    }
   ],
   "source": [
    "def find_even(lis):\n",
    "    return [ele for ele in lis if ele%2 == 0]\n",
    "\n",
    "print(find_even([1,2,3,4,5]))"
   ]
  },
  {
   "cell_type": "markdown",
   "id": "3beef1f0",
   "metadata": {},
   "source": [
    "#### 8. Write a Python program to print odd numbers in a List?\n",
    "#### Ans."
   ]
  },
  {
   "cell_type": "code",
   "execution_count": 8,
   "id": "d9119550",
   "metadata": {},
   "outputs": [
    {
     "name": "stdout",
     "output_type": "stream",
     "text": [
      "[1, 3, 5]\n"
     ]
    }
   ],
   "source": [
    "def find_odd(lis):\n",
    "    return [ele for ele in lis if ele%2 != 0]\n",
    "\n",
    "print(find_odd([1,2,3,4,5]))"
   ]
  },
  {
   "cell_type": "markdown",
   "id": "1cdd087c",
   "metadata": {},
   "source": [
    "#### 9. Write a Python program to Remove empty List from List?\n",
    "#### Ans."
   ]
  },
  {
   "cell_type": "code",
   "execution_count": 9,
   "id": "e1e324f0",
   "metadata": {},
   "outputs": [
    {
     "name": "stdout",
     "output_type": "stream",
     "text": [
      "[1, 3, [1], 5]\n"
     ]
    }
   ],
   "source": [
    "def remove_empty_list_element(lis):\n",
    "    [lis.remove([]) for ele in lis if [] in lis] \n",
    "    return lis\n",
    "        \n",
    "print(remove_empty_list_element([[], 1, [], 3, [1], 5, []]))"
   ]
  },
  {
   "cell_type": "markdown",
   "id": "3148bec7",
   "metadata": {},
   "source": [
    "#### 10. Write a Python program to Cloning or Copying a list?\n",
    "#### Ans."
   ]
  },
  {
   "cell_type": "code",
   "execution_count": 10,
   "id": "d6294c3e",
   "metadata": {},
   "outputs": [
    {
     "name": "stdout",
     "output_type": "stream",
     "text": [
      "The entered list id: [1, 2, 3, 4, 5] is: 2626317958784\n",
      "The new list id: [1, 2, 3, 4, 5] is: 2626318008384\n"
     ]
    },
    {
     "data": {
      "text/plain": [
       "[1, 2, 3, 4, 5]"
      ]
     },
     "execution_count": 10,
     "metadata": {},
     "output_type": "execute_result"
    }
   ],
   "source": [
    "import copy\n",
    "\n",
    "def clone_list(lis):    \n",
    "    print(f\"The entered list id: {lis} is: {id(lis)}\")\n",
    "    cloned_list = lis.copy()\n",
    "    print(f\"The new list id: {cloned_list} is: {id(cloned_list)}\")\n",
    "    return cloned_list\n",
    "    \n",
    "    \n",
    "clone_list([1,2,3,4,5])"
   ]
  },
  {
   "cell_type": "markdown",
   "id": "8d1781a1",
   "metadata": {},
   "source": [
    "#### 11. Write a Python program to Count occurrences of an element in a list?\n",
    "#### Ans."
   ]
  },
  {
   "cell_type": "code",
   "execution_count": 11,
   "id": "0c94883e",
   "metadata": {},
   "outputs": [
    {
     "name": "stdout",
     "output_type": "stream",
     "text": [
      "2\n",
      "1\n",
      "4\n",
      "2\n"
     ]
    }
   ],
   "source": [
    "def count_occurence_in_list(lis, ele_to_count):\n",
    "    return lis.count(ele_to_count)\n",
    "\n",
    "    \n",
    "print(count_occurence_in_list([1,1,2,3,3,3,3,4,4,5,5], 1))\n",
    "print(count_occurence_in_list([1,1,2,3,3,3,3,4,4,5,5], 2))\n",
    "print(count_occurence_in_list([1,1,2,3,3,3,3,4,4,5,5], 3))\n",
    "print(count_occurence_in_list([1,1,2,3,3,3,3,4,4,5,5], 4))"
   ]
  },
  {
   "cell_type": "code",
   "execution_count": null,
   "id": "2ba58cf6",
   "metadata": {},
   "outputs": [],
   "source": []
  }
 ],
 "metadata": {
  "kernelspec": {
   "display_name": "Python 3 (ipykernel)",
   "language": "python",
   "name": "python3"
  },
  "language_info": {
   "codemirror_mode": {
    "name": "ipython",
    "version": 3
   },
   "file_extension": ".py",
   "mimetype": "text/x-python",
   "name": "python",
   "nbconvert_exporter": "python",
   "pygments_lexer": "ipython3",
   "version": "3.10.0"
  }
 },
 "nbformat": 4,
 "nbformat_minor": 5
}
