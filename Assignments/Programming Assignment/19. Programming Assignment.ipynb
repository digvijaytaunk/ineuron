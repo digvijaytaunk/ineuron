{
 "cells": [
  {
   "cell_type": "markdown",
   "id": "f4f7cfc4",
   "metadata": {},
   "source": [
    "# Programming Assignment - 19"
   ]
  },
  {
   "cell_type": "markdown",
   "id": "2b39df0e",
   "metadata": {},
   "source": [
    "#### Question1\n",
    "\n",
    "Create a function that takes a string and returns a string in which each character is repeated once.\n",
    "\n",
    "Examples\n",
    "\n",
    "double_char(&quot;String&quot;) ➞ &quot;SSttrriinngg&quot;\n",
    "\n",
    "double_char(&quot;Hello World!&quot;) ➞ &quot;HHeelllloo WWoorrlldd!!&quot;\n",
    "\n",
    "double_char(&quot;1234!_ &quot;) ➞ &quot;11223344!!__ &quot;"
   ]
  },
  {
   "cell_type": "code",
   "execution_count": 1,
   "id": "d06c91ac",
   "metadata": {},
   "outputs": [
    {
     "name": "stdout",
     "output_type": "stream",
     "text": [
      "SSttrriinngg\n",
      "HHeelllloo  WWoorrlldd!!\n",
      "11223344!!__\n"
     ]
    }
   ],
   "source": [
    "def repeat_char(text):\n",
    "    return ''.join([c*2 for c in text])\n",
    "\n",
    "\n",
    "\n",
    "print(repeat_char(\"String\"))\n",
    "print(repeat_char(\"Hello World!\"))\n",
    "print(repeat_char(\"1234!_\"))"
   ]
  },
  {
   "cell_type": "markdown",
   "id": "b0cac84d",
   "metadata": {},
   "source": [
    "#### Question2\n",
    "\n",
    "Create a function that reverses a boolean value and returns the string &quot;boolean expected&quot; if another variable type is given.\n",
    "\n",
    "Examples\n",
    "\n",
    "reverse(True) ➞ False\n",
    "\n",
    "reverse(False) ➞ True\n",
    "\n",
    "reverse(0) ➞ &quot;boolean expected&quot;\n",
    "\n",
    "reverse(None) ➞ &quot;boolean expected&quot;"
   ]
  },
  {
   "cell_type": "code",
   "execution_count": 2,
   "id": "8b558d15",
   "metadata": {},
   "outputs": [
    {
     "name": "stdout",
     "output_type": "stream",
     "text": [
      "False\n",
      "True\n",
      "Boolean Expected\n",
      "Boolean Expected\n"
     ]
    }
   ],
   "source": [
    "def reverse_bool(flag):\n",
    "    if type(flag) == bool:\n",
    "        return not flag\n",
    "    else:\n",
    "        return \"Boolean Expected\"\n",
    "\n",
    "# calling the function\n",
    "print(reverse_bool(True))\n",
    "print(reverse_bool(False))\n",
    "print(reverse_bool(0))\n",
    "print(reverse_bool(None))"
   ]
  },
  {
   "cell_type": "markdown",
   "id": "5e18188f",
   "metadata": {},
   "source": [
    "#### Question3\n",
    "\n",
    "Create a function that returns the thickness (in meters) of a piece of paper after folding it n number of times. The paper starts off with a thickness of 0.5mm.\n",
    "\n",
    "Examples\n",
    "\n",
    "num_layers(1) ➞ &quot;0.001m&quot;\n",
    "\n",
    "Paper folded once is 1mm (equal to 0.001m)\n",
    "\n",
    "num_layers(4) ➞ &quot;0.008m&quot;\n",
    "\n",
    "Paper folded 4 times is 8mm (equal to 0.008m)\n",
    "\n",
    "num_layers(21) ➞ &quot;1048.576m&quot;\n",
    "\n",
    "Paper folded 21 times is 1048576mm (equal to 1048.576m)"
   ]
  },
  {
   "cell_type": "code",
   "execution_count": 3,
   "id": "9e3589ed",
   "metadata": {},
   "outputs": [
    {
     "name": "stdout",
     "output_type": "stream",
     "text": [
      "0.001m\n",
      "0.008m\n",
      "1048.576m\n"
     ]
    }
   ],
   "source": [
    "def num_layers(num):\n",
    "    return f'{2**(num-1)/1000}m'\n",
    "    \n",
    "# calling the function\n",
    "print(num_layers(1))\n",
    "print(num_layers(4))\n",
    "print(num_layers(21))"
   ]
  },
  {
   "cell_type": "markdown",
   "id": "20dd649f",
   "metadata": {},
   "source": [
    "#### Question4\n",
    "\n",
    "Create a function that takes a single string as argument and returns an ordered list containing the indices of all capital letters in the string.\n",
    "\n",
    "Examples\n",
    "\n",
    "index_of_caps(&quot;eDaBiT&quot;) ➞ [1, 3, 5]\n",
    "\n",
    "index_of_caps(&quot;eQuINoX&quot;) ➞ [1, 3, 4, 6]\n",
    "\n",
    "index_of_caps(&quot;determine&quot;) ➞ []\n",
    "\n",
    "index_of_caps(&quot;STRIKE&quot;) ➞ [0, 1, 2, 3, 4, 5]\n",
    "\n",
    "index_of_caps(&quot;sUn&quot;) ➞ [1]"
   ]
  },
  {
   "cell_type": "code",
   "execution_count": 4,
   "id": "8bee9ae1",
   "metadata": {},
   "outputs": [
    {
     "name": "stdout",
     "output_type": "stream",
     "text": [
      "[1, 3, 4, 6]\n",
      "[]\n",
      "[0, 1, 2, 3, 4, 5]\n",
      "[1]\n"
     ]
    }
   ],
   "source": [
    "def upper_case_index(text):\n",
    "    return [idx for idx, c in enumerate(text) if c.isupper()]\n",
    "        \n",
    " \n",
    "\n",
    "print(upper_case_index(\"eQuINoX\"))\n",
    "print(upper_case_index(\"determine\"))\n",
    "print(upper_case_index(\"STRIKE\"))\n",
    "print(upper_case_index(\"sUn\"))"
   ]
  },
  {
   "cell_type": "markdown",
   "id": "73e74496",
   "metadata": {},
   "source": [
    "#### Question5\n",
    "\n",
    "Using list comprehensions, create a function that finds all even numbers from 1 to the given number.\n",
    "\n",
    "Examples\n",
    "\n",
    "find_even_nums(8) ➞ [2, 4, 6, 8]\n",
    "\n",
    "find_even_nums(4) ➞ [2, 4]\n",
    "\n",
    "find_even_nums(2) ➞ [2]"
   ]
  },
  {
   "cell_type": "code",
   "execution_count": 5,
   "id": "ce96ddb8",
   "metadata": {},
   "outputs": [
    {
     "name": "stdout",
     "output_type": "stream",
     "text": [
      "[2, 4, 6, 8]\n",
      "[2, 4]\n",
      "[2]\n"
     ]
    }
   ],
   "source": [
    "def even_upto(num):\n",
    "    return [i for i in range(1, num + 1) if i%2 == 0]\n",
    "\n",
    "\n",
    "print(even_upto(8))\n",
    "print(even_upto(4))\n",
    "print(even_upto(2))"
   ]
  },
  {
   "cell_type": "code",
   "execution_count": null,
   "id": "1b5f19db",
   "metadata": {},
   "outputs": [],
   "source": []
  }
 ],
 "metadata": {
  "kernelspec": {
   "display_name": "Python 3 (ipykernel)",
   "language": "python",
   "name": "python3"
  },
  "language_info": {
   "codemirror_mode": {
    "name": "ipython",
    "version": 3
   },
   "file_extension": ".py",
   "mimetype": "text/x-python",
   "name": "python",
   "nbconvert_exporter": "python",
   "pygments_lexer": "ipython3",
   "version": "3.10.5"
  }
 },
 "nbformat": 4,
 "nbformat_minor": 5
}
