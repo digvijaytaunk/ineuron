{
 "cells": [
  {
   "cell_type": "markdown",
   "id": "f4f7cfc4",
   "metadata": {},
   "source": [
    "# Programming Assignment - 5"
   ]
  },
  {
   "cell_type": "markdown",
   "id": "a03c67af",
   "metadata": {},
   "source": [
    "#### 1. Write a Python Program to Find LCM?\n",
    "#### Ans."
   ]
  },
  {
   "cell_type": "code",
   "execution_count": 1,
   "id": "0f5c0673",
   "metadata": {},
   "outputs": [
    {
     "name": "stdout",
     "output_type": "stream",
     "text": [
      "The L.C.M. is 12\n"
     ]
    }
   ],
   "source": [
    "def compute_lcm(x, y):\n",
    "    if x > y:\n",
    "        greater = x\n",
    "    else:\n",
    "        greater = y\n",
    "\n",
    "    while(True):\n",
    "        if((greater % x == 0) and (greater % y == 0)):\n",
    "            lcm = greater\n",
    "            break\n",
    "        greater += 1\n",
    "\n",
    "    return lcm\n",
    "\n",
    "num1 = 3\n",
    "num2 = 4\n",
    "\n",
    "print(\"The L.C.M. is\", compute_lcm(num1, num2))"
   ]
  },
  {
   "cell_type": "markdown",
   "id": "32801de1",
   "metadata": {},
   "source": [
    "#### 2. Write a Python Program to Find HCF?\n",
    "#### Ans.\n"
   ]
  },
  {
   "cell_type": "code",
   "execution_count": 2,
   "id": "6bdf2e80",
   "metadata": {},
   "outputs": [
    {
     "name": "stdout",
     "output_type": "stream",
     "text": [
      "The H.C.M. is 3\n"
     ]
    }
   ],
   "source": [
    "def compute_hcf(x, y):\n",
    "    if x > y:\n",
    "        smaller = y\n",
    "    else:\n",
    "        smaller = y\n",
    "        \n",
    "    for ele in range(1, smaller + 1):\n",
    "        if((x % ele == 0) and (y % ele == 0)):\n",
    "            hcf = ele\n",
    "    return hcf\n",
    "\n",
    "    print(f'The HCF of {x_term}, {y_term} is {hcf}')\n",
    "\n",
    "\n",
    "num1 = 3\n",
    "num2 = 6\n",
    "\n",
    "print(\"The H.C.M. is\", compute_hcf(num1, num2))"
   ]
  },
  {
   "cell_type": "markdown",
   "id": "a284d43e",
   "metadata": {},
   "source": [
    "#### 3. Write a Python Program to Convert Decimal to Binary, Octal and Hexadecimal?\n",
    "#### Ans."
   ]
  },
  {
   "cell_type": "code",
   "execution_count": 3,
   "id": "0d2998cf",
   "metadata": {},
   "outputs": [
    {
     "name": "stdout",
     "output_type": "stream",
     "text": [
      "Enter a Number: 17\n",
      "Binary Number : 0b10001\n",
      "Octa Number : 0o21\n",
      "Hexa Number : 0x11\n"
     ]
    }
   ],
   "source": [
    "def decimal_to_binary(number):\n",
    "    return bin(number)\n",
    "\n",
    "def decimal_to_octa(number):\n",
    "    return oct(number)\n",
    "\n",
    "def decimal_to_hexa(number):\n",
    "    return hex(number)\n",
    "\n",
    "\n",
    "n = int(input('Enter a Number: '))\n",
    "\n",
    "print(f'Binary Number : {decimal_to_binary(n)}')\n",
    "print(f'Octa Number : {decimal_to_octa(n)}')    \n",
    "print(f'Hexa Number : {decimal_to_hexa(n)}')    "
   ]
  },
  {
   "cell_type": "markdown",
   "id": "a7c045f8",
   "metadata": {},
   "source": [
    "#### 4. Write a Python Program To Find ASCII value of a character?\n",
    "#### Ans."
   ]
  },
  {
   "cell_type": "code",
   "execution_count": 4,
   "id": "8d9068fe",
   "metadata": {},
   "outputs": [
    {
     "name": "stdout",
     "output_type": "stream",
     "text": [
      "ASCII Character of a is: 97\n",
      "ASCII Character of A is: 65\n"
     ]
    }
   ],
   "source": [
    "def char_to_ascii(char):\n",
    "    if len(char) != 1:\n",
    "        print('Please Enter a Single Character')\n",
    "    else:\n",
    "        n = ord(char)\n",
    "    return n\n",
    " \n",
    "c = 'a'\n",
    "print(f'ASCII Character of {c} is: {char_to_ascii(c)}')\n",
    "\n",
    "c = 'A'\n",
    "print(f'ASCII Character of {c} is: {char_to_ascii(c)}')"
   ]
  },
  {
   "cell_type": "markdown",
   "id": "89dfea5f",
   "metadata": {},
   "source": [
    "#### 5. Write a Python Program to Make a Simple Calculator with 4 basic mathematical operations?\n",
    "#### Ans."
   ]
  },
  {
   "cell_type": "code",
   "execution_count": 5,
   "id": "bed12dd4",
   "metadata": {},
   "outputs": [
    {
     "name": "stdout",
     "output_type": "stream",
     "text": [
      "Select a Arithmetic Operation:         \n",
      "1. (+) Addition        \n",
      "2. (-) Subtraction        \n",
      "2. (*) Multiplication        \n",
      "4. (/) Division        \n",
      "3. (0) Stop\n",
      "\n",
      "\n",
      "Enter an arithmetic operation : *\n",
      "\n",
      "Enter the 1st number: 3\n",
      "Enter the 2nd number: 4\n",
      "3 * 4 = 12\n",
      "\n",
      "Enter an arithmetic operation : 0\n",
      "\n",
      "Program Stopped successfully.\n"
     ]
    }
   ],
   "source": [
    "import operator\n",
    "\n",
    "\n",
    "operator_dict = { \"+\": operator.add, \"-\": operator.sub, \"*\":operator.mul, \"/\":operator.truediv } \n",
    "\n",
    "\n",
    "print('Select a Arithmetic Operation: \\\n",
    "        \\n1. (+) Addition\\\n",
    "        \\n2. (-) Subtraction\\\n",
    "        \\n2. (*) Multiplication\\\n",
    "        \\n4. (/) Division\\\n",
    "        \\n3. (0) Stop\\n')\n",
    "\n",
    "# Creating the logic to do the arithmetic operations\n",
    "while True:\n",
    "    operator = input('\\nEnter an arithmetic operation : ')\n",
    "    if operator == '0':\n",
    "        print(\"\\nProgram Stopped successfully.\")\n",
    "        break\n",
    "        \n",
    "    elif operator in ['+','-','*','/']:\n",
    "        num_1 = int(input('\\nEnter the 1st number: '))\n",
    "        num_2 = int(input('Enter the 2nd number: '))\n",
    "        print(f\"{num_1} {operator} {num_2} = {operator_dict[operator](num_1, num_2)}\")\n",
    "        \n",
    "    else:\n",
    "        print(\"Please enter a valid operator.\")\n"
   ]
  },
  {
   "cell_type": "code",
   "execution_count": null,
   "id": "b09e7405",
   "metadata": {},
   "outputs": [],
   "source": []
  }
 ],
 "metadata": {
  "kernelspec": {
   "display_name": "Python 3 (ipykernel)",
   "language": "python",
   "name": "python3"
  },
  "language_info": {
   "codemirror_mode": {
    "name": "ipython",
    "version": 3
   },
   "file_extension": ".py",
   "mimetype": "text/x-python",
   "name": "python",
   "nbconvert_exporter": "python",
   "pygments_lexer": "ipython3",
   "version": "3.10.5"
  }
 },
 "nbformat": 4,
 "nbformat_minor": 5
}
