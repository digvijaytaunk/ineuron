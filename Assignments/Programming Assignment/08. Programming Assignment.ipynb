{
 "cells": [
  {
   "cell_type": "markdown",
   "id": "f4f7cfc4",
   "metadata": {},
   "source": [
    "# Programming Assignment - 8"
   ]
  },
  {
   "cell_type": "markdown",
   "id": "a03c67af",
   "metadata": {},
   "source": [
    "#### 1. Write a Python Program to Add Two Matrices?\n",
    "#### Ans.\n"
   ]
  },
  {
   "cell_type": "code",
   "execution_count": 1,
   "id": "0f5c0673",
   "metadata": {
    "scrolled": true
   },
   "outputs": [
    {
     "name": "stdout",
     "output_type": "stream",
     "text": [
      "[[12, 14, 16], [18, 20, 22], [24, 26, 28]]\n"
     ]
    }
   ],
   "source": [
    "x = [\n",
    "    [1, 2, 3],\n",
    "    [4, 5, 6],\n",
    "    [7, 8, 9]]\n",
    "\n",
    "y = [\n",
    "    [11, 12, 13],\n",
    "    [14, 15, 16],\n",
    "    [17 ,18, 19]]\n",
    "\n",
    "\n",
    "\n",
    "def add_matrix(m1, m2):\n",
    "    r = [[0,0,0], [0,0,0], [0,0,0]]\n",
    "    \n",
    "    for row in range(len(m1)):\n",
    "        for col in range(len(m1[0])):\n",
    "            r[row][col] = m1[row][col] + m2[row][col]\n",
    "            \n",
    "    return r\n",
    "\n",
    "print(add_matrix(x, y))"
   ]
  },
  {
   "cell_type": "markdown",
   "id": "32801de1",
   "metadata": {},
   "source": [
    "#### 2. Write a Python Program to Multiply Two Matrices?\n",
    "#### Ans.\n"
   ]
  },
  {
   "cell_type": "code",
   "execution_count": 2,
   "id": "6bdf2e80",
   "metadata": {},
   "outputs": [
    {
     "name": "stdout",
     "output_type": "stream",
     "text": [
      "[[90, 96, 102], [216, 231, 246], [342, 366, 390]]\n"
     ]
    }
   ],
   "source": [
    "x = [\n",
    "    [1, 2, 3],\n",
    "    [4, 5, 6],\n",
    "    [7, 8, 9]]\n",
    "\n",
    "y = [\n",
    "    [11, 12, 13],\n",
    "    [14, 15, 16],\n",
    "    [17 ,18, 19]]\n",
    "\n",
    "\n",
    "\n",
    "def multiply_matrix(m1, m2):\n",
    "    r = [[0, 0, 0], [0, 0, 0], [0, 0, 0]]\n",
    "\n",
    "    for i in range(len(m1)):\n",
    "        for j in range(len(m2[0])):\n",
    "            for k in range(len(m2)):\n",
    "                ele1 = m1[i][k]\n",
    "                ele2 = m2[k][j]\n",
    "                r[i][j] += m1[i][k] * m2[k][j]\n",
    "    return r\n",
    "\n",
    "print(multiply_matrix(x, y))"
   ]
  },
  {
   "cell_type": "markdown",
   "id": "a284d43e",
   "metadata": {},
   "source": [
    "#### 3. Write a Python Program to Transpose a Matrix?\n",
    "#### Ans."
   ]
  },
  {
   "cell_type": "code",
   "execution_count": 3,
   "id": "0d2998cf",
   "metadata": {},
   "outputs": [
    {
     "name": "stdout",
     "output_type": "stream",
     "text": [
      "[[11, 14, 17], [12, 15, 18], [13, 16, 19]]\n"
     ]
    }
   ],
   "source": [
    "m1 = [\n",
    "    [11, 12, 13],\n",
    "    [14, 15, 16],\n",
    "    [17 ,18, 19]]\n",
    "\n",
    "\n",
    "\n",
    "def transpose_matrix(m):\n",
    "    r = [[0, 0, 0], [0, 0, 0], [0, 0, 0]]\n",
    "    \n",
    "    for i in range(len(m)):\n",
    "        for j in range(len(m[0])):\n",
    "            r[j][i] = m[i][j]\n",
    "            \n",
    "    return r\n",
    "\n",
    "print(transpose_matrix(m1))"
   ]
  },
  {
   "cell_type": "markdown",
   "id": "a7c045f8",
   "metadata": {},
   "source": [
    "#### 4. Write a Python Program to Sort Words in Alphabetic Order?\n",
    "#### Ans."
   ]
  },
  {
   "cell_type": "code",
   "execution_count": 4,
   "id": "8d9068fe",
   "metadata": {},
   "outputs": [
    {
     "name": "stdout",
     "output_type": "stream",
     "text": [
      "['is', 'some', 'sort', 'text', 'this', 'to']\n"
     ]
    }
   ],
   "source": [
    "def sort_text(text):\n",
    "    return sorted(text.split(' '))\n",
    "\n",
    "\n",
    "print(sort_text(\"this is some text to sort\"))"
   ]
  },
  {
   "cell_type": "markdown",
   "id": "89dfea5f",
   "metadata": {},
   "source": [
    "#### 5. Write a Python Program to Remove Punctuation From a String?\n",
    "#### Ans."
   ]
  },
  {
   "cell_type": "code",
   "execution_count": 5,
   "id": "bed12dd4",
   "metadata": {},
   "outputs": [
    {
     "data": {
      "text/plain": [
       "'Hello My name is Digvijay Taunk Whats your name'"
      ]
     },
     "execution_count": 5,
     "metadata": {},
     "output_type": "execute_result"
    }
   ],
   "source": [
    "def punctuation_remover(text):\n",
    "    punctuations = '''!()-[]{};:'\"\\,<>./?@#$%^&*_~'''\n",
    "    return ''.join([c for c in text if c not in punctuations])\n",
    "    \n",
    "\n",
    "punctuation_remover(\"Hello!, My name is 'Digvijay Taunk'. What's your name?\")"
   ]
  },
  {
   "cell_type": "code",
   "execution_count": null,
   "id": "f4490770",
   "metadata": {},
   "outputs": [],
   "source": []
  }
 ],
 "metadata": {
  "kernelspec": {
   "display_name": "Python 3 (ipykernel)",
   "language": "python",
   "name": "python3"
  },
  "language_info": {
   "codemirror_mode": {
    "name": "ipython",
    "version": 3
   },
   "file_extension": ".py",
   "mimetype": "text/x-python",
   "name": "python",
   "nbconvert_exporter": "python",
   "pygments_lexer": "ipython3",
   "version": "3.10.0"
  }
 },
 "nbformat": 4,
 "nbformat_minor": 5
}
