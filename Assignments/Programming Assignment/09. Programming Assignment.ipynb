{
 "cells": [
  {
   "cell_type": "markdown",
   "id": "f4f7cfc4",
   "metadata": {},
   "source": [
    "# Programming Assignment - 9"
   ]
  },
  {
   "cell_type": "markdown",
   "id": "a03c67af",
   "metadata": {},
   "source": [
    "#### 1. Write a Python program to check if the given number is a Disarium Number?\n",
    "#### Ans.\n",
    "\n"
   ]
  },
  {
   "cell_type": "code",
   "execution_count": 1,
   "id": "0f5c0673",
   "metadata": {
    "scrolled": true
   },
   "outputs": [
    {
     "name": "stdout",
     "output_type": "stream",
     "text": [
      "True\n",
      "False\n",
      "True\n"
     ]
    }
   ],
   "source": [
    "# A disarium number is a number in which the sum of the digits to the power of their respective position \n",
    "# is equal to the number itself (position is counted from left to right starting from 1)\n",
    "\n",
    "def is_disarium(num):\n",
    "    s = 0\n",
    "    for idx, n in enumerate(str(num)):\n",
    "        s += int(n)**(idx + 1)\n",
    "        \n",
    "    return s == num\n",
    "        \n",
    "\n",
    "print(is_disarium(135))\n",
    "print(is_disarium(177))\n",
    "print(is_disarium(89))"
   ]
  },
  {
   "cell_type": "markdown",
   "id": "32801de1",
   "metadata": {},
   "source": [
    "#### 2. Write a Python program to print all disarium numbers between 1 to 100?\n",
    "#### Ans.\n"
   ]
  },
  {
   "cell_type": "code",
   "execution_count": 2,
   "id": "6bdf2e80",
   "metadata": {},
   "outputs": [
    {
     "name": "stdout",
     "output_type": "stream",
     "text": [
      "[0, 1, 2, 3, 4, 5, 6, 7, 8, 9, 89]\n"
     ]
    }
   ],
   "source": [
    "def disarium_between(upper_bound):\n",
    "    return [i for i in range(upper_bound) if is_disarium(i)]\n",
    "\n",
    "print(disarium_between(100))"
   ]
  },
  {
   "cell_type": "markdown",
   "id": "a284d43e",
   "metadata": {},
   "source": [
    "#### 3. Write a Python program to check if the given number is Happy Number?\n",
    "#### Ans."
   ]
  },
  {
   "cell_type": "code",
   "execution_count": 3,
   "id": "0d2998cf",
   "metadata": {},
   "outputs": [
    {
     "name": "stdout",
     "output_type": "stream",
     "text": [
      "True\n",
      "False\n",
      "True\n",
      "False\n"
     ]
    }
   ],
   "source": [
    "# The happy number is a number, where starting with any positive integers replace the number\n",
    "# by the sum of squares of its digits, this process will be repeated until it becomes 1, \n",
    "# otherwise it will loop endlessly in a cycle.\n",
    "\n",
    "def is_happy_number(num):\n",
    "    visited = set()\n",
    "    while True:\n",
    "        if num != 1 and num not in visited:\n",
    "            visited.add(num)\n",
    "            squared_sum = 0\n",
    "            \n",
    "            for n in range(len(str(num))):\n",
    "                squared_sum += int(str(num)[n])**2\n",
    "\n",
    "            num = int(squared_sum)\n",
    "            \n",
    "        if num in visited:\n",
    "            return False\n",
    "        \n",
    "        if num == 1 :\n",
    "            return True\n",
    "        \n",
    "\n",
    "print(is_happy_number(7))    \n",
    "print(is_happy_number(14))\n",
    "print(is_happy_number(82))\n",
    "print(is_happy_number(83))"
   ]
  },
  {
   "cell_type": "markdown",
   "id": "a7c045f8",
   "metadata": {},
   "source": [
    "#### 4. Write a Python program to print all happy numbers between 1 and 100?\n",
    "#### Ans."
   ]
  },
  {
   "cell_type": "code",
   "execution_count": 4,
   "id": "3c07c8de",
   "metadata": {},
   "outputs": [
    {
     "name": "stdout",
     "output_type": "stream",
     "text": [
      "[1, 7, 10, 13, 19, 23, 28, 31, 32, 44, 49, 68, 70, 79, 82, 86, 91, 94, 97]\n"
     ]
    }
   ],
   "source": [
    "def happy_range(upper_bound):\n",
    "    return [i for i in range(1, upper_bound) if is_happy_number(i)]\n",
    "    \n",
    "print(happy_range(100))"
   ]
  },
  {
   "cell_type": "markdown",
   "id": "89dfea5f",
   "metadata": {},
   "source": [
    "#### 5. Write a Python program to determine whether the given number is a Harshad Number?\n",
    "#### Ans."
   ]
  },
  {
   "cell_type": "code",
   "execution_count": 5,
   "id": "bed12dd4",
   "metadata": {},
   "outputs": [
    {
     "name": "stdout",
     "output_type": "stream",
     "text": [
      "True\n",
      "True\n"
     ]
    }
   ],
   "source": [
    "# If a number is divisible by the sum of its digits, then it will be known as a Harshad Number.\n",
    "\n",
    "from functools import reduce\n",
    "def is_harshad(num):\n",
    "    s = reduce(lambda x,y: int(x) + int(y), str(num))\n",
    "    return num % s == 0\n",
    "\n",
    "print(is_harshad(156))\n",
    "print(is_harshad(156))"
   ]
  },
  {
   "cell_type": "markdown",
   "id": "1ace999c",
   "metadata": {},
   "source": [
    "#### 5. Write a Python program to print all pronic numbers between 1 and 100?\n",
    "#### Ans."
   ]
  },
  {
   "cell_type": "code",
   "execution_count": 6,
   "id": "fe1c1d5a",
   "metadata": {},
   "outputs": [
    {
     "name": "stdout",
     "output_type": "stream",
     "text": [
      "[2, 6, 12, 20, 30, 42, 56, 72, 90]\n"
     ]
    }
   ],
   "source": [
    "#The pronic number is a product of two consecutive integers of the form: n(n+1).\n",
    "\n",
    "#For example:\n",
    "# 6 = 2(2+1)= n(n+1),\n",
    "# 72 =8(8+1) = n(n+1)\n",
    "\n",
    "def PronicNumbers(limit):\n",
    "    return [i*(i+1) for i in range(1, limit) if i*(i+1) <= limit]\n",
    "\n",
    "                   \n",
    "print(PronicNumbers(100))"
   ]
  },
  {
   "cell_type": "code",
   "execution_count": null,
   "id": "7e13c79e",
   "metadata": {},
   "outputs": [],
   "source": []
  }
 ],
 "metadata": {
  "kernelspec": {
   "display_name": "Python 3 (ipykernel)",
   "language": "python",
   "name": "python3"
  },
  "language_info": {
   "codemirror_mode": {
    "name": "ipython",
    "version": 3
   },
   "file_extension": ".py",
   "mimetype": "text/x-python",
   "name": "python",
   "nbconvert_exporter": "python",
   "pygments_lexer": "ipython3",
   "version": "3.10.0"
  }
 },
 "nbformat": 4,
 "nbformat_minor": 5
}
