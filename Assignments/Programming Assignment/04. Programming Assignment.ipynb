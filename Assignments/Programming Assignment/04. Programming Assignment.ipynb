{
 "cells": [
  {
   "cell_type": "markdown",
   "id": "f4f7cfc4",
   "metadata": {},
   "source": [
    "# Programming Assignment - 4"
   ]
  },
  {
   "cell_type": "markdown",
   "id": "a03c67af",
   "metadata": {},
   "source": [
    "#### 1. Write a Python Program to Find the Factorial of a Number?\n",
    "#### Ans."
   ]
  },
  {
   "cell_type": "code",
   "execution_count": 1,
   "id": "0f5c0673",
   "metadata": {},
   "outputs": [
    {
     "name": "stdout",
     "output_type": "stream",
     "text": [
      "Enter number to find its factorial - 6\n",
      "The Factorial of 6 is 720\n"
     ]
    }
   ],
   "source": [
    "num = int(input('Enter number to find its factorial - '))\n",
    "\n",
    "def factorial(num):\n",
    "    if (num == 0):\n",
    "        return 1\n",
    "    else:\n",
    "        return num * factorial(num-1)\n",
    "    \n",
    "\n",
    "result = factorial(num)\n",
    "\n",
    "print(f'The Factorial of {num} is {result}')"
   ]
  },
  {
   "cell_type": "markdown",
   "id": "32801de1",
   "metadata": {},
   "source": [
    "#### 2. Write a Python Program to Display the multiplication Table?\n",
    "#### Ans.\n"
   ]
  },
  {
   "cell_type": "code",
   "execution_count": 2,
   "id": "6bdf2e80",
   "metadata": {},
   "outputs": [
    {
     "name": "stdout",
     "output_type": "stream",
     "text": [
      "Enter the number to see the table: 7\n",
      "Enter number upto which multiplication is to be done - 12\n",
      "\n",
      "Table 7 upto 12 is: \n",
      "\n",
      "7 X 1 = 7\n",
      "7 X 2 = 14\n",
      "7 X 3 = 21\n",
      "7 X 4 = 28\n",
      "7 X 5 = 35\n",
      "7 X 6 = 42\n",
      "7 X 7 = 49\n",
      "7 X 8 = 56\n",
      "7 X 9 = 63\n",
      "7 X 10 = 70\n",
      "7 X 11 = 77\n",
      "7 X 12 = 84\n"
     ]
    }
   ],
   "source": [
    "x = int(input(\"Enter the number to see the table: \")) \n",
    "y = int(input(\"Enter number upto which multiplication is to be done - \")) \n",
    "\n",
    "print(f\"\\nTable {x} upto {y} is: \\n\")\n",
    "\n",
    "for i in range(1,y+1):    \n",
    "    print(x,\"X\",i,\"=\",i*x)"
   ]
  },
  {
   "cell_type": "markdown",
   "id": "a284d43e",
   "metadata": {},
   "source": [
    "#### 3. Write a Python Program to Print the Fibonacci sequence?\n",
    "#### Ans."
   ]
  },
  {
   "cell_type": "code",
   "execution_count": 3,
   "id": "0d2998cf",
   "metadata": {},
   "outputs": [
    {
     "name": "stdout",
     "output_type": "stream",
     "text": [
      "Enter the no you want in fibonacci series - 12\n",
      "\n",
      "Fibonacci series upto 12 terms is: \n",
      "[0, 1, 1, 2, 3, 5, 8, 13, 21, 34, 55, 89]\n"
     ]
    }
   ],
   "source": [
    "# Fibonacci series is addition of previous no.- 0, 1, 1, 2, 3, 5, 8, 13, 21 etc.\n",
    "import pyinputplus as pyip\n",
    "\n",
    "n_terms = pyip.inputInt(prompt = \"Enter the no you want in fibonacci series - \")\n",
    "\n",
    "def fibonacci(n):\n",
    "    if n <= 1:\n",
    "        return n\n",
    "    else:\n",
    "        return(fibonacci(n-1) + fibonacci(n-2))\n",
    "\n",
    "series = []\n",
    "if n_terms <= 0:\n",
    "    print(\"Please enter a positive integer.\")\n",
    "else:\n",
    "    print(f\"\\nFibonacci series upto {n_terms} terms is: \")\n",
    "    for i in range(n_terms):\n",
    "        series.append(fibonacci(i))\n",
    "        \n",
    "print(series)"
   ]
  },
  {
   "cell_type": "markdown",
   "id": "a7c045f8",
   "metadata": {},
   "source": [
    "#### 4. Write a Python Program to Check Armstrong Number?\n",
    "#### Ans."
   ]
  },
  {
   "cell_type": "code",
   "execution_count": 4,
   "id": "8d9068fe",
   "metadata": {},
   "outputs": [
    {
     "name": "stdout",
     "output_type": "stream",
     "text": [
      "123 is not an Armstrong number\n",
      "True\n"
     ]
    }
   ],
   "source": [
    "\"\"\"\n",
    "An Armstrong number of three digits is an integer such that \n",
    "the sum of the cubes of its digits is equal to the number itself. \n",
    "For example, 371 is an Armstrong number since 3**3 + 7**3 + 1**3 = 371. \n",
    "\n",
    "\"\"\"\n",
    "\n",
    "def checkArmstrong(num):\n",
    "    sum = 0\n",
    "    for n in str(num):\n",
    "        sum += int(n)**3\n",
    "    \n",
    "    if sum == num:\n",
    "        return True\n",
    "    \n",
    "    return False\n",
    "\n",
    "\n",
    "if checkArmstrong(123):\n",
    "    print(f'123 is an Armstrong number')\n",
    "else:\n",
    "    print(f'123 is not an Armstrong number')\n",
    "\n",
    "print(checkArmstrong(371))"
   ]
  },
  {
   "cell_type": "markdown",
   "id": "89dfea5f",
   "metadata": {},
   "source": [
    "#### 5. Write a Python Program to Find Armstrong Number in an Interval?\n",
    "#### Ans."
   ]
  },
  {
   "cell_type": "code",
   "execution_count": 5,
   "id": "bed12dd4",
   "metadata": {},
   "outputs": [
    {
     "name": "stdout",
     "output_type": "stream",
     "text": [
      "Enter start range - 1\n",
      "Enter end range - 1000\n",
      "[1, 153, 370, 371, 407]\n"
     ]
    }
   ],
   "source": [
    "start = pyip.inputInt(prompt = \"Enter start range - \")\n",
    "end = pyip.inputInt(prompt = \"Enter end range - \")\n",
    "\n",
    "series = []\n",
    "for i in range(start, end+1):\n",
    "    if checkArmstrong(i):\n",
    "        series.append(i)\n",
    "\n",
    "print(series)"
   ]
  },
  {
   "cell_type": "markdown",
   "id": "cf0e5204",
   "metadata": {},
   "source": [
    "#### 5. Write a Python Program to Find the Sum of Natural Numbers?\n",
    "#### Ans."
   ]
  },
  {
   "cell_type": "code",
   "execution_count": 6,
   "id": "37252457",
   "metadata": {},
   "outputs": [
    {
     "name": "stdout",
     "output_type": "stream",
     "text": [
      "Enter number: 10\n",
      "Sum of first 10 natural numbers is 55\n"
     ]
    }
   ],
   "source": [
    "def sumOfNaturalNumbers(n):\n",
    "    return n*((n+1)/2)\n",
    "   \n",
    "\n",
    "num = int(input('Enter number: '))\n",
    "sum = sumOfNaturalNumbers(num)\n",
    "print(f'Sum of first {num} natural numbers is {int(sum)}')"
   ]
  },
  {
   "cell_type": "code",
   "execution_count": null,
   "id": "b09e7405",
   "metadata": {},
   "outputs": [],
   "source": []
  }
 ],
 "metadata": {
  "kernelspec": {
   "display_name": "Python 3 (ipykernel)",
   "language": "python",
   "name": "python3"
  },
  "language_info": {
   "codemirror_mode": {
    "name": "ipython",
    "version": 3
   },
   "file_extension": ".py",
   "mimetype": "text/x-python",
   "name": "python",
   "nbconvert_exporter": "python",
   "pygments_lexer": "ipython3",
   "version": "3.10.5"
  }
 },
 "nbformat": 4,
 "nbformat_minor": 5
}
