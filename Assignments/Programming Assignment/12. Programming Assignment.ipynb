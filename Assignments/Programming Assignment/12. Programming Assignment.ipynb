{
 "cells": [
  {
   "cell_type": "markdown",
   "id": "f4f7cfc4",
   "metadata": {},
   "source": [
    "# Programming Assignment - 12"
   ]
  },
  {
   "cell_type": "markdown",
   "id": "a03c67af",
   "metadata": {},
   "source": [
    "#### 1. Write a Python program to Extract Unique values dictionary values?\n",
    "#### Ans.\n"
   ]
  },
  {
   "cell_type": "code",
   "execution_count": 1,
   "id": "0f5c0673",
   "metadata": {
    "scrolled": true
   },
   "outputs": [
    {
     "name": "stdout",
     "output_type": "stream",
     "text": [
      "['Japan', 'India', 'Spain', 'Germany', 'Norway']\n"
     ]
    }
   ],
   "source": [
    "def get_unique_dict_values(dic):\n",
    "    return list(set(dic.values()))\n",
    "    \n",
    "    \n",
    "dic = {1:'Germany',2:'Norway',3:'India',4:'Japan',5:'Norway',6:'India',7:'Spain', 8:'Norway'}\n",
    "print(get_unique_dict_values(dic)) "
   ]
  },
  {
   "cell_type": "markdown",
   "id": "32801de1",
   "metadata": {},
   "source": [
    "#### 2. Write a Python program to find the sum of all items in a dictionary?\n",
    "#### Ans.\n"
   ]
  },
  {
   "cell_type": "code",
   "execution_count": 2,
   "id": "6bdf2e80",
   "metadata": {},
   "outputs": [
    {
     "name": "stdout",
     "output_type": "stream",
     "text": [
      "50\n"
     ]
    }
   ],
   "source": [
    "def sum_dict_values(dic):\n",
    "    return sum(dic.values())\n",
    "\n",
    "\n",
    "dic = {1:10, 2:20, 3:20}\n",
    "print(sum_dict_values(dic)) "
   ]
  },
  {
   "cell_type": "markdown",
   "id": "a284d43e",
   "metadata": {},
   "source": [
    "#### 3. Write a Python program to Merging two Dictionaries?\n",
    "#### Ans."
   ]
  },
  {
   "cell_type": "code",
   "execution_count": 3,
   "id": "0d2998cf",
   "metadata": {},
   "outputs": [
    {
     "name": "stdout",
     "output_type": "stream",
     "text": [
      "{'FSDS': 'Krish Naik', 'WEB': 'Hitesh', 'block_chain': 'Navin'}\n"
     ]
    }
   ],
   "source": [
    "def merge_dict(dict_1, dict_2):\n",
    "    dict_1.update(dict_2)\n",
    "    return dict_1\n",
    "\n",
    "\n",
    "\n",
    "\n",
    "courses = {'FSDS' : 'Krish Naik', 'WEB' : 'Hitesh'}\n",
    "new_course = {'block_chain' : 'Navin'}\n",
    "print(merge_dict(courses, new_course))"
   ]
  },
  {
   "cell_type": "markdown",
   "id": "a7c045f8",
   "metadata": {},
   "source": [
    "#### 4. Write a Python program to convert key-values list to flat dictionary?\n",
    "#### Ans."
   ]
  },
  {
   "cell_type": "code",
   "execution_count": 4,
   "id": "3c07c8de",
   "metadata": {},
   "outputs": [
    {
     "name": "stdout",
     "output_type": "stream",
     "text": [
      "{'a': 10, 'b': 20, 'c': 30}\n"
     ]
    }
   ],
   "source": [
    "def list_to_dict(lis):\n",
    "    return dict(lis)\n",
    "\n",
    "\n",
    "li = [('a',10),('b',20),('c',30)]\n",
    "print(list_to_dict(li))"
   ]
  },
  {
   "cell_type": "markdown",
   "id": "89dfea5f",
   "metadata": {},
   "source": [
    "#### 5. Write a Python program to insertion at the beginning in OrderedDict?\n",
    "#### Ans."
   ]
  },
  {
   "cell_type": "code",
   "execution_count": 5,
   "id": "bed12dd4",
   "metadata": {},
   "outputs": [
    {
     "name": "stdout",
     "output_type": "stream",
     "text": [
      "OrderedDict([('block_chain', 'Navin'), ('FSDS', 'Krish Naik'), ('WEB', 'Hitesh')])\n"
     ]
    }
   ],
   "source": [
    "from collections import OrderedDict\n",
    "\n",
    "def insert_in_orered_dict(dic, dic_to_insert):\n",
    "    dic.update(dic_to_insert) \n",
    "    dic.move_to_end(list(dic_to_insert.keys())[0], last=False)\n",
    "    return dic\n",
    "\n",
    "dict_1 = OrderedDict({'FSDS' : 'Krish Naik', 'WEB' : 'Hitesh'})\n",
    "dict_2 = {'block_chain' : 'Navin'}\n",
    "print(insert_in_orered_dict(dict_1, dict_2))"
   ]
  },
  {
   "cell_type": "markdown",
   "id": "1ace999c",
   "metadata": {},
   "source": [
    "#### 6. Write a Python program to check order of character in string using OrderedDict()?\n",
    "#### Ans."
   ]
  },
  {
   "cell_type": "code",
   "execution_count": 6,
   "id": "fe1c1d5a",
   "metadata": {},
   "outputs": [
    {
     "name": "stdout",
     "output_type": "stream",
     "text": [
      "{'Block_chain': 'Navin', 'FSDS': 'Krish Naik', 'WEB': 'Hitesh'}\n"
     ]
    }
   ],
   "source": [
    "from collections import OrderedDict\n",
    "\n",
    "def sorted_ordered_dict(dic):\n",
    "    return dict(sorted(dic.items(), key=lambda item: item[1], reverse=True))\n",
    "\n",
    "dict_1 = {'FSDS' : 'Krish Naik', 'WEB' : 'Hitesh', 'Block_chain' : 'Navin'}\n",
    "print(sorted_ordered_dict(dict_1))"
   ]
  },
  {
   "cell_type": "markdown",
   "id": "d1f2e952",
   "metadata": {},
   "source": [
    "#### 7. Write a Python program to sort Python Dictionaries by Key or Value?\n",
    "#### Ans."
   ]
  },
  {
   "cell_type": "code",
   "execution_count": 7,
   "id": "3bd1bb7a",
   "metadata": {},
   "outputs": [
    {
     "name": "stdout",
     "output_type": "stream",
     "text": [
      "{'Block_chain': 'Navin', 'FSDS': 'Krish Naik', 'WEB': 'Hitesh'}\n",
      "{'WEB': 'Hitesh', 'FSDS': 'Krish Naik', 'Block_chain': 'Navin'}\n"
     ]
    }
   ],
   "source": [
    "def sort_dict(dic, sort_by):\n",
    "    if sort_by == 'key':\n",
    "        return dict(sorted(dic.items(), key=lambda x:x[0], reverse=False))\n",
    "        \n",
    "    if sort_by == 'value':\n",
    "        return dict(sorted(dic.items(), key=lambda x:x[1], reverse=False))\n",
    "        \n",
    "        \n",
    "        \n",
    "dict_1 = {'FSDS' : 'Krish Naik', 'WEB' : 'Hitesh', 'Block_chain' : 'Navin'}\n",
    "print(sort_dict(dict_1, 'key'))\n",
    "print(sort_dict(dict_1, 'value'))"
   ]
  },
  {
   "cell_type": "code",
   "execution_count": null,
   "id": "00448428",
   "metadata": {},
   "outputs": [],
   "source": []
  }
 ],
 "metadata": {
  "kernelspec": {
   "display_name": "Python 3 (ipykernel)",
   "language": "python",
   "name": "python3"
  },
  "language_info": {
   "codemirror_mode": {
    "name": "ipython",
    "version": 3
   },
   "file_extension": ".py",
   "mimetype": "text/x-python",
   "name": "python",
   "nbconvert_exporter": "python",
   "pygments_lexer": "ipython3",
   "version": "3.10.0"
  }
 },
 "nbformat": 4,
 "nbformat_minor": 5
}
