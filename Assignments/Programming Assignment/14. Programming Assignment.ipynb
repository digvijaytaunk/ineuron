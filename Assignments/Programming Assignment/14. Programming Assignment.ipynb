{
 "cells": [
  {
   "cell_type": "markdown",
   "id": "f4f7cfc4",
   "metadata": {},
   "source": [
    "# Programming Assignment - 14"
   ]
  },
  {
   "cell_type": "markdown",
   "id": "a03c67af",
   "metadata": {},
   "source": [
    "#### Question 1. \n",
    "\n",
    "Define a class with a generator which can iterate the numbers, which are divisible by 7, between a given range 0 and n.\n",
    "\n",
    "#### Ans.\n"
   ]
  },
  {
   "cell_type": "code",
   "execution_count": 1,
   "id": "0f5c0673",
   "metadata": {
    "scrolled": true
   },
   "outputs": [
    {
     "name": "stdout",
     "output_type": "stream",
     "text": [
      "[0, 7, 14, 21, 28, 35, 42, 49, 56, 63, 70, 77, 84, 91, 98]\n"
     ]
    }
   ],
   "source": [
    "class GeneratorMod:\n",
    "    def __init__(self,num):\n",
    "        self._num = num\n",
    "        \n",
    "    def get_numbers(self):\n",
    "        yield [ele for ele in range(0,self._num + 1) if ele % 7 == 0]\n",
    "\n",
    "                \n",
    "\n",
    "obj = GeneratorMod(100)\n",
    "for n in obj.get_numbers():\n",
    "    print(n)"
   ]
  },
  {
   "cell_type": "markdown",
   "id": "32801de1",
   "metadata": {},
   "source": [
    "#### Question 2. \n",
    "Write a program to compute the frequency of the words from the input. The output should output after sorting the key alphanumerically.\n",
    "\n",
    "Suppose the following input is supplied to the program:\n",
    "\n",
    "New to Python or choosing between Python 2 and Python 3? Read Python 2 or Python 3.\n",
    "Then, the output should be:\n",
    "\n",
    "2:2\n",
    "\n",
    "3.:1\n",
    "\n",
    "3?:1\n",
    "\n",
    "New:1\n",
    "\n",
    "Python:5\n",
    "\n",
    "Read:1\n",
    "\n",
    "and:1\n",
    "\n",
    "between:1\n",
    "\n",
    "choosing:1\n",
    "\n",
    "or:2\n",
    "\n",
    "to:1\n",
    "\n",
    "#### Ans.\n"
   ]
  },
  {
   "cell_type": "code",
   "execution_count": 2,
   "id": "6bdf2e80",
   "metadata": {},
   "outputs": [
    {
     "name": "stdout",
     "output_type": "stream",
     "text": [
      "{'2': 2, '3.': 1, '3?': 1, 'New': 1, 'Python': 5, 'Read': 1, 'and': 1, 'between': 1, 'choosing': 1, 'or': 2, 'to': 1}\n"
     ]
    }
   ],
   "source": [
    "def get_frequency(text):\n",
    "    frequency = {}\n",
    "    for i in text.split(\" \"):\n",
    "        if(frequency.get(i) == None):\n",
    "            frequency[i] = 1\n",
    "        else:\n",
    "            frequency[i] += 1 \n",
    "            \n",
    "    return {i:frequency[i] for i in sorted(frequency)}\n",
    "\n",
    "\n",
    "        \n",
    "s = 'New to Python or choosing between Python 2 and Python 3? Read Python 2 or Python 3.'     \n",
    "print(get_frequency(s))"
   ]
  },
  {
   "cell_type": "markdown",
   "id": "a284d43e",
   "metadata": {},
   "source": [
    "#### Question 3. \n",
    "Define a class Person and its two child classes: Male and Female. All classes have a method &quot;getGender&quot; which can print &quot;Male&quot; for Male class and &quot;Female&quot; for Female class.\n",
    "\n",
    "#### Ans."
   ]
  },
  {
   "cell_type": "code",
   "execution_count": 3,
   "id": "0d2998cf",
   "metadata": {},
   "outputs": [
    {
     "name": "stdout",
     "output_type": "stream",
     "text": [
      "Male\n",
      "Female\n"
     ]
    }
   ],
   "source": [
    "class Person():\n",
    "    def getGender():\n",
    "        raise NotImplementedError\n",
    "    \n",
    "class Male(Person):\n",
    "    def getGender():\n",
    "        return \"Male\"\n",
    "        \n",
    "class Female(Person):\n",
    "    def getGender():\n",
    "        return \"Female\"\n",
    "\n",
    "print(Male.getGender())\n",
    "print(Female.getGender())"
   ]
  },
  {
   "cell_type": "markdown",
   "id": "a7c045f8",
   "metadata": {},
   "source": [
    "#### Question 4. \n",
    "Please write a program to generate all sentences where subject is in [&quot;I&quot;, &quot;You&quot;] and verb is in [&quot;Play&quot;, &quot;Love&quot;] and the object is in [&quot;Hockey&quot;,&quot;Football&quot;].\n",
    "\n",
    "#### Ans."
   ]
  },
  {
   "cell_type": "code",
   "execution_count": 4,
   "id": "3c07c8de",
   "metadata": {},
   "outputs": [
    {
     "data": {
      "text/plain": [
       "['I Play Hockey',\n",
       " 'I Play Football',\n",
       " 'I Love Hockey',\n",
       " 'I Love Football',\n",
       " 'You Play Hockey',\n",
       " 'You Play Football',\n",
       " 'You Love Hockey',\n",
       " 'You Love Football']"
      ]
     },
     "execution_count": 4,
     "metadata": {},
     "output_type": "execute_result"
    }
   ],
   "source": [
    "from itertools import product \n",
    "\n",
    "def generateSentences():\n",
    "    subject = ['I','You']\n",
    "    verb = ['Play','Love']\n",
    "    obj = ['Hockey','Football']\n",
    "    \n",
    "    out = []\n",
    "    sentences = list(product(subject, verb, obj))\n",
    " \n",
    "    for sentence in sentences:\n",
    "        out.append(' '.join(w for w in sentence))\n",
    "\n",
    "    return out\n",
    "\n",
    "                \n",
    "generateSentences()"
   ]
  },
  {
   "cell_type": "markdown",
   "id": "89dfea5f",
   "metadata": {},
   "source": [
    "#### Question 5. \n",
    "Please write a program to compress and decompress the string &quot;hello world!hello world!hello world!hello world!&quot;.\n",
    "#### Ans."
   ]
  },
  {
   "cell_type": "code",
   "execution_count": 5,
   "id": "bed12dd4",
   "metadata": {},
   "outputs": [
    {
     "name": "stdout",
     "output_type": "stream",
     "text": [
      "b'\\x1f\\x8b\\x08\\x008\\x91(c\\x02\\xff\\xcbH\\xcd\\xc9\\xc9W(\\xcf/\\xcaIQ\\xcc \\x82\\r\\x00\\xd3\\xe6\\xcf\\xae0\\x00\\x00\\x00'\n",
      "b'hello world!hello world!hello world!hello world!'\n"
     ]
    }
   ],
   "source": [
    "import gzip\n",
    "s = b'hello world!hello world!hello world!hello world!'\n",
    "\n",
    "s = gzip.compress(s)\n",
    "print(s)\n",
    "\n",
    "\n",
    "t = gzip.decompress(s)\n",
    "print(t)"
   ]
  },
  {
   "cell_type": "markdown",
   "id": "1ace999c",
   "metadata": {},
   "source": [
    "#### Question 6. \n",
    "Please write a binary search function which searches an item in a sorted list. The function should return the index of element to be searched in the list.\n",
    "\n",
    "#### Ans."
   ]
  },
  {
   "cell_type": "code",
   "execution_count": 6,
   "id": "fe1c1d5a",
   "metadata": {},
   "outputs": [
    {
     "name": "stdout",
     "output_type": "stream",
     "text": [
      "2\n",
      "Input Element not in the list\n"
     ]
    }
   ],
   "source": [
    "def binary_search(lst, num):\n",
    "    \n",
    "    low_idx = 0\n",
    "    high_idx = len(lst) - 1\n",
    "    \n",
    "    while low_idx <= high_idx:\n",
    "        \n",
    "        mid_idx = high_idx + low_idx // 2\n",
    "        \n",
    "        if lst[mid_idx] < num:\n",
    "            low_idx = mid_idx + 1\n",
    "            \n",
    "        elif lst[mid_idx] > num:\n",
    "            high_idx = mid_idx - 1\n",
    "            \n",
    "        else:\n",
    "            return mid_idx\n",
    "    else:\n",
    "        return 'Input Element not in the list'\n",
    "\n",
    "sorted_list = [1,2,3,4,5,6,7,8,9,10]\n",
    "\n",
    "print(binary_search(sorted_list,3))\n",
    "print(binary_search(sorted_list,100))"
   ]
  },
  {
   "cell_type": "code",
   "execution_count": null,
   "id": "fe41d2ba",
   "metadata": {},
   "outputs": [],
   "source": []
  }
 ],
 "metadata": {
  "kernelspec": {
   "display_name": "Python 3 (ipykernel)",
   "language": "python",
   "name": "python3"
  },
  "language_info": {
   "codemirror_mode": {
    "name": "ipython",
    "version": 3
   },
   "file_extension": ".py",
   "mimetype": "text/x-python",
   "name": "python",
   "nbconvert_exporter": "python",
   "pygments_lexer": "ipython3",
   "version": "3.10.5"
  }
 },
 "nbformat": 4,
 "nbformat_minor": 5
}
