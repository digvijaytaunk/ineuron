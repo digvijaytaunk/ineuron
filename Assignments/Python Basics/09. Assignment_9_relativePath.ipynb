{
 "cells": [
  {
   "cell_type": "markdown",
   "id": "bee7b0c7",
   "metadata": {},
   "source": [
    "# Assignment - 9\n",
    "\n",
    "#### 1. To what does a relative path refer?\n",
    "\n",
    "#### Ans.\n",
    "\n",
    "A relative path refers to a location that is relative to a current directory.\n",
    "\n",
    "F.ex. for the file `\"C:\\bacon\\eggs\\spam.txt\"` the `eggs\\spam.txt`\n",
    "\n",
    "\n",
    "#### 2. What does an absolute path start with your operating system?\n",
    "\n",
    "#### Ans.\n",
    "\n",
    "In Windows - `C:\\`\n",
    "\n",
    "For linux/Mac - `/`\n",
    "\n",
    "\n",
    "#### 3. What do the functions os.getcwd() and os.chdir() do?\n",
    "\n",
    "#### Ans.\n",
    "\n",
    "`os.getcwd()` - Returns the path of current working directory.\n",
    "\n",
    "`os.chdir()` - Changes the current working directory to the given path. Takes `path` argument.\n",
    "\n"
   ]
  },
  {
   "cell_type": "code",
   "execution_count": null,
   "id": "1ddcc59a",
   "metadata": {},
   "outputs": [],
   "source": [
    "import os\n",
    "os.getcwd()\n",
    "os.chdir(\"new\\path\")"
   ]
  },
  {
   "cell_type": "markdown",
   "id": "4c267107",
   "metadata": {},
   "source": [
    "#### 4. What are the . and .. folders?\n",
    "\n",
    "#### Ans.\n",
    "\n",
    "Single dot `(.)` translate into the current directory and \n",
    "\n",
    "double-dot `(..)` translate into the parent directory. It is are used for moving up in the hierarchy.\n",
    "\n",
    "\n",
    "#### 5. In C:\\bacon\\eggs\\spam.txt, which part is the dir name, and which part is the base name?\n",
    "\n",
    "#### Ans.\n",
    "For the given path `C:\\bacon\\eggs` is the dir name, `spam.txt` is the base name."
   ]
  },
  {
   "cell_type": "code",
   "execution_count": 6,
   "id": "ceb6a19b",
   "metadata": {},
   "outputs": [
    {
     "name": "stdout",
     "output_type": "stream",
     "text": [
      "C:\\bacon\\eggs\n",
      "spam.txt\n"
     ]
    }
   ],
   "source": [
    "import os\n",
    "path = r\"C:\\bacon\\eggs\\spam.txt\"\n",
    "\n",
    "print(os.path.dirname(path))\n",
    "print(os.path.basename(path))"
   ]
  },
  {
   "cell_type": "markdown",
   "id": "31529ac3",
   "metadata": {},
   "source": [
    "#### 6. What are the three “mode” arguments that can be passed to the open() function?\n",
    "\n",
    "#### Ans.\n",
    "\n",
    "The 3 modes in which any file can be open using `open()` are \n",
    "\n",
    "`r` - for readonly mode. To read the content of the file.\n",
    "\n",
    "`w` - for write mode. It creates a new file if does not exists other wise overides the content of the existing file.\n",
    "\n",
    "`a` - append model. It appends the data at the end of the file.\n",
    "\n",
    "\n",
    "\n",
    "#### 7. What happens if an existing file is opened in write mode?\n",
    "\n",
    "#### Ans.\n",
    "\n",
    "The new data which is going to be written in that file will override the existing data if any.\n",
    "\n",
    "\n",
    "#### 8. How do you tell the difference between read() and readlines()?\n",
    "\n",
    "#### Ans.\n",
    "\n",
    "`read()` function returns all the content of file at once whereas `readlines()` function returns the content line by line seperated by line break.\n",
    "\n",
    "#### 9. What data structure does a shelf value resemble?\n",
    "\n",
    "#### Ans.\n",
    "\n",
    "A shelf value resembles a dictionary value; it has keys and values, along with keys() and values() methods that work similarly to the dictionary methods of the same names."
   ]
  }
 ],
 "metadata": {
  "kernelspec": {
   "display_name": "Python 3 (ipykernel)",
   "language": "python",
   "name": "python3"
  },
  "language_info": {
   "codemirror_mode": {
    "name": "ipython",
    "version": 3
   },
   "file_extension": ".py",
   "mimetype": "text/x-python",
   "name": "python",
   "nbconvert_exporter": "python",
   "pygments_lexer": "ipython3",
   "version": "3.10.0"
  }
 },
 "nbformat": 4,
 "nbformat_minor": 5
}
