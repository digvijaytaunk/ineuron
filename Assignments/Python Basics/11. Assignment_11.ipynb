{
 "cells": [
  {
   "cell_type": "markdown",
   "id": "bee7b0c7",
   "metadata": {},
   "source": [
    "# Assignment - 11\n",
    "\n",
    "\n",
    "\n",
    "#### 1. Create an assert statement that throws an AssertionError if the variable spam is a negative integer.\n",
    "\n",
    "#### Ans."
   ]
  },
  {
   "cell_type": "code",
   "execution_count": 9,
   "id": "8e7ade17",
   "metadata": {},
   "outputs": [
    {
     "ename": "AssertionError",
     "evalue": "Value should be greater than on equal to 0",
     "output_type": "error",
     "traceback": [
      "\u001b[1;31m---------------------------------------------------------------------------\u001b[0m",
      "\u001b[1;31mAssertionError\u001b[0m                            Traceback (most recent call last)",
      "Input \u001b[1;32mIn [9]\u001b[0m, in \u001b[0;36m<cell line: 2>\u001b[1;34m()\u001b[0m\n\u001b[0;32m      1\u001b[0m spam \u001b[38;5;241m=\u001b[39m \u001b[38;5;241m-\u001b[39m\u001b[38;5;241m5\u001b[39m\n\u001b[1;32m----> 2\u001b[0m \u001b[38;5;28;01massert\u001b[39;00m spam \u001b[38;5;241m>\u001b[39m\u001b[38;5;241m=\u001b[39m \u001b[38;5;241m0\u001b[39m, \u001b[38;5;124m'\u001b[39m\u001b[38;5;124mValue should be greater than on equal to 0\u001b[39m\u001b[38;5;124m'\u001b[39m\n",
      "\u001b[1;31mAssertionError\u001b[0m: Value should be greater than on equal to 0"
     ]
    }
   ],
   "source": [
    "spam = -5\n",
    "assert spam >= 0, 'Value should be greater than on equal to 0'"
   ]
  },
  {
   "cell_type": "markdown",
   "id": "a4d8326f",
   "metadata": {},
   "source": [
    "#### 2. Write an assert statement that triggers an AssertionError if the variables eggs and bacon contain strings that are the same as each other, even if their cases are different (that is, &#39;hello&#39; and &#39;hello&#39; are considered the same, and &#39;goodbye&#39; and &#39;GOODbye&#39; are also considered the same).\n",
    "\n",
    "#### Ans.\n"
   ]
  },
  {
   "cell_type": "code",
   "execution_count": 15,
   "id": "a5eaf5be",
   "metadata": {},
   "outputs": [
    {
     "ename": "AssertionError",
     "evalue": "Values should not be same",
     "output_type": "error",
     "traceback": [
      "\u001b[1;31m---------------------------------------------------------------------------\u001b[0m",
      "\u001b[1;31mAssertionError\u001b[0m                            Traceback (most recent call last)",
      "Input \u001b[1;32mIn [15]\u001b[0m, in \u001b[0;36m<cell line: 3>\u001b[1;34m()\u001b[0m\n\u001b[0;32m      1\u001b[0m egg \u001b[38;5;241m=\u001b[39m \u001b[38;5;124m'\u001b[39m\u001b[38;5;124mhello\u001b[39m\u001b[38;5;124m'\u001b[39m\n\u001b[0;32m      2\u001b[0m bacon \u001b[38;5;241m=\u001b[39m \u001b[38;5;124m'\u001b[39m\u001b[38;5;124mHello\u001b[39m\u001b[38;5;124m'\u001b[39m\n\u001b[1;32m----> 3\u001b[0m \u001b[38;5;28;01massert\u001b[39;00m egg\u001b[38;5;241m.\u001b[39mlower() \u001b[38;5;241m!=\u001b[39m bacon\u001b[38;5;241m.\u001b[39mlower(), \u001b[38;5;124m'\u001b[39m\u001b[38;5;124mValues should not be same\u001b[39m\u001b[38;5;124m'\u001b[39m\n",
      "\u001b[1;31mAssertionError\u001b[0m: Values should not be same"
     ]
    }
   ],
   "source": [
    "egg = 'hello'\n",
    "bacon = 'Hello'\n",
    "assert egg.lower() != bacon.lower(), 'Values should not be same'"
   ]
  },
  {
   "cell_type": "markdown",
   "id": "6be1ded6",
   "metadata": {},
   "source": [
    "#### 3.  Create an assert statement that throws an AssertionError every time.\n",
    "\n",
    "#### Ans."
   ]
  },
  {
   "cell_type": "code",
   "execution_count": 12,
   "id": "b9d3efbd",
   "metadata": {},
   "outputs": [
    {
     "ename": "AssertionError",
     "evalue": "this throws error every time",
     "output_type": "error",
     "traceback": [
      "\u001b[1;31m---------------------------------------------------------------------------\u001b[0m",
      "\u001b[1;31mAssertionError\u001b[0m                            Traceback (most recent call last)",
      "Input \u001b[1;32mIn [12]\u001b[0m, in \u001b[0;36m<cell line: 1>\u001b[1;34m()\u001b[0m\n\u001b[1;32m----> 1\u001b[0m \u001b[38;5;28;01massert\u001b[39;00m \u001b[38;5;28;01mFalse\u001b[39;00m, \u001b[38;5;124m'\u001b[39m\u001b[38;5;124mthis throws error every time\u001b[39m\u001b[38;5;124m'\u001b[39m\n",
      "\u001b[1;31mAssertionError\u001b[0m: this throws error every time"
     ]
    }
   ],
   "source": [
    "assert False, 'this throws assertion error every time'"
   ]
  },
  {
   "cell_type": "markdown",
   "id": "5976d6a7",
   "metadata": {},
   "source": [
    "#### 4. What are the two lines that must be present in your software in order to call logging.debug()?\n",
    "\n",
    "#### Ans."
   ]
  },
  {
   "cell_type": "code",
   "execution_count": null,
   "id": "b46b1bff",
   "metadata": {},
   "outputs": [],
   "source": [
    "import logging\n",
    "logging.basicConfig(filename=\"AppLog.log\", level=logging.INFO)"
   ]
  },
  {
   "cell_type": "markdown",
   "id": "32384e5e",
   "metadata": {},
   "source": [
    "#### 5. What are the two lines that your program must have in order to have logging.debug() send a logging message to a file named programLog.txt?\n",
    "#### Ans."
   ]
  },
  {
   "cell_type": "code",
   "execution_count": null,
   "id": "0fe85adf",
   "metadata": {},
   "outputs": [],
   "source": [
    "import logging\n",
    "logging.basicConfig(filename = 'programLog.txt',level=logging.DEBUG, format='%(asctime)s - %(levelname)s - %(message)s')"
   ]
  },
  {
   "cell_type": "markdown",
   "id": "9a39f075",
   "metadata": {},
   "source": [
    "\n",
    "#### 6. What are the five levels of logging?\n",
    "\n",
    "#### Ans."
   ]
  },
  {
   "cell_type": "code",
   "execution_count": null,
   "id": "03338697",
   "metadata": {},
   "outputs": [],
   "source": [
    "# DEBUG\n",
    "# INFO\n",
    "# Warning\n",
    "# Error\n",
    "# Critical"
   ]
  },
  {
   "cell_type": "markdown",
   "id": "62631847",
   "metadata": {},
   "source": [
    "#### 7. What line of code would you add to your software to disable all logging messages?\n",
    "\n",
    "#### Ans.\n",
    "\n",
    "`logging.disable = True`"
   ]
  },
  {
   "cell_type": "markdown",
   "id": "708f7160",
   "metadata": {},
   "source": [
    "#### 8.Why is using logging messages better than using print() to display the same message?\n",
    "\n",
    "#### Ans.\n",
    "\n",
    "In production environment, all the debuging/log can be disable by setting an environment variable if required whereas in case of print statement the code must be edited to remove the logging.\n",
    "\n",
    "\n",
    "#### 9. What are the differences between the Step Over, Step In, and Step Out buttons in the debugger?\n",
    "\n",
    "#### Ans.\n",
    "\n",
    "`Step Into` - A method is about to be invoked, and you want to debug into the code of that method, so the next step is to go into that method and continue debugging step-by-step.\n",
    "\n",
    "`Step Over` - A method is about to be invoked, but you're not interested in debugging this particular invocation, so you want the debugger to execute that method completely as one entire step.\n",
    "\n",
    " `Step Out` - Finish off executing the callee's code and stop when execution returns to the caller\n",
    " \n",
    "\n",
    "#### 10.After you click Continue, when will the debugger stop ?\n",
    "\n",
    "#### Ans.\n",
    "\n",
    "`Continue` - Execute up until the next breakpoint or untill the program ends.\n",
    "\n",
    "\n",
    "\n",
    "#### 11. What is the concept of a breakpoint?\n",
    "\n",
    "#### Ans.\n",
    "\n",
    "If execution reaches a particular line of code, you want the debugger to temporarily pause execution there, so you can decide what to do."
   ]
  }
 ],
 "metadata": {
  "kernelspec": {
   "display_name": "Python 3 (ipykernel)",
   "language": "python",
   "name": "python3"
  },
  "language_info": {
   "codemirror_mode": {
    "name": "ipython",
    "version": 3
   },
   "file_extension": ".py",
   "mimetype": "text/x-python",
   "name": "python",
   "nbconvert_exporter": "python",
   "pygments_lexer": "ipython3",
   "version": "3.10.0"
  }
 },
 "nbformat": 4,
 "nbformat_minor": 5
}
