{
 "cells": [
  {
   "cell_type": "markdown",
   "id": "47bd9326",
   "metadata": {},
   "source": [
    "# Assignment 20"
   ]
  },
  {
   "cell_type": "markdown",
   "id": "5e5fa788",
   "metadata": {},
   "source": [
    "#### 1. Set the variable test1 to the string &#39;This is a test of the emergency text system,&#39; and save test1 to a file named test.txt.\n",
    "#### Ans."
   ]
  },
  {
   "cell_type": "code",
   "execution_count": 1,
   "id": "1e8b7498",
   "metadata": {},
   "outputs": [
    {
     "name": "stdout",
     "output_type": "stream",
     "text": [
      "This is a test of the emergency text system,\n"
     ]
    }
   ],
   "source": [
    "test1 = 'This is a test of the emergency text system,'\n",
    "print(test1)\n",
    "\n",
    "f = open('test.txt','w')\n",
    "f.write(test1)\n",
    "f.close()"
   ]
  },
  {
   "cell_type": "markdown",
   "id": "e1a88c94",
   "metadata": {},
   "source": [
    "#### 2. Read the contents of the file test.txt into the variable test2. Is there a difference between test 1 and test 2?\n",
    "#### Ans."
   ]
  },
  {
   "cell_type": "code",
   "execution_count": 2,
   "id": "cf7839e9",
   "metadata": {},
   "outputs": [
    {
     "name": "stdout",
     "output_type": "stream",
     "text": [
      "This is a test of the emergency text system,\n",
      "both text content are same\n"
     ]
    }
   ],
   "source": [
    "with open('test.txt','r') as f:\n",
    "    test2 = f.read()\n",
    "print(test2)\n",
    "if test1 == test2:\n",
    "    print('both text content are same')\n",
    "else:\n",
    "    print('both text content are different')"
   ]
  },
  {
   "cell_type": "markdown",
   "id": "ffa33c4f",
   "metadata": {},
   "source": [
    "#### 3. Create a CSV file called books.csv by using these lines: \n",
    "\n",
    "`title, author,year`\n",
    "\n",
    "`The Weirdstone of Brisingamen, Alan Garner, 1960`\n",
    "\n",
    "`Perdido Street Station, China Miéville, 2000`\n",
    "\n",
    "`Thud!, Terry Pratchett, 2005`\n",
    "\n",
    "`The Spellman Files, Lisa Lutz, 2007`\n",
    "\n",
    "`Small Gods, Terry Pratchett, 1992`\n",
    "\n",
    "#### Ans."
   ]
  },
  {
   "cell_type": "code",
   "execution_count": 3,
   "id": "bb2d61b6",
   "metadata": {},
   "outputs": [],
   "source": [
    "content = '''title,author,year\n",
    "The Weirdstone of Brisingamen,Alan Garner,1960\n",
    "Perdido Street Station,China Miéville,2000\n",
    "Thud!,Terry Pratchett,2005\n",
    "The Spellman Files,Lisa Lutz,2007\n",
    "Small Gods,Terry Pratchett,1992'''\n",
    "\n",
    "# Here we need to pass the encoding parameter and set it's value to utf-8 as here we are trying to write a .csv file\n",
    "with open('books.csv','w', encoding=\"utf-8\") as f:\n",
    "    f.write(content)"
   ]
  },
  {
   "cell_type": "markdown",
   "id": "8f08cdc1",
   "metadata": {},
   "source": [
    "#### 4. Use the sqlite3 module to create a SQLite database called books.db, and a table called books with these fields: title (text), author (text), and year (integer).\n",
    "#### Ans."
   ]
  },
  {
   "cell_type": "code",
   "execution_count": 4,
   "id": "97edf39e",
   "metadata": {},
   "outputs": [],
   "source": [
    "import sqlite3\n",
    "\n",
    "db = sqlite3.connect('books.db')\n",
    "cursor = db.cursor()\n",
    "cursor.execute(\"CREATE TABLE books (title text, author text, year int)\")\n",
    "db.commit()\n",
    "db.close()"
   ]
  },
  {
   "cell_type": "markdown",
   "id": "c716ec55",
   "metadata": {},
   "source": [
    "#### 5. Read books.csv and insert its data into the book table.\n",
    "#### Ans."
   ]
  },
  {
   "cell_type": "code",
   "execution_count": 5,
   "id": "1ec48daf",
   "metadata": {},
   "outputs": [],
   "source": [
    "import sqlite3\n",
    "import csv\n",
    "\n",
    "try:\n",
    "    conn = sqlite3.connect(\"books.db\")\n",
    "    cursor = conn.cursor()\n",
    "    with open(\"books.csv\",\"r\") as file:\n",
    "        books = csv.DictReader(file)\n",
    "        for book in books:\n",
    "            cursor.execute(\"INSERT INTO books VALUES (?,?,?)\",(book['title'],book['author'],book['year']))\n",
    "    conn.commit()\n",
    "    \n",
    "except Exception as e:\n",
    "    print(f'Failed to add data into database')\n",
    "\n",
    "finally:\n",
    "    conn.close()"
   ]
  },
  {
   "cell_type": "markdown",
   "id": "191513f0",
   "metadata": {},
   "source": [
    "#### 6. Select and print the title column from the book table in alphabetical order.\n",
    "#### Ans."
   ]
  },
  {
   "cell_type": "code",
   "execution_count": 6,
   "id": "1864e413",
   "metadata": {},
   "outputs": [
    {
     "name": "stdout",
     "output_type": "stream",
     "text": [
      "Perdido Street Station\n",
      "Small Gods\n",
      "The Spellman Files\n",
      "The Weirdstone of Brisingamen\n",
      "Thud!\n"
     ]
    }
   ],
   "source": [
    "import sqlite3\n",
    "\n",
    "try:\n",
    "    conn = sqlite3.connect('books.db')\n",
    "    cursor = conn.cursor()\n",
    "    output = cursor.execute(\"SELECT title FROM books ORDER BY title ASC\")\n",
    "    for ele in output:\n",
    "        print(ele[0])\n",
    "except Exception as e:\n",
    "    print(f'Failed to fetch data from database')\n"
   ]
  },
  {
   "cell_type": "markdown",
   "id": "b6a7346a",
   "metadata": {},
   "source": [
    "#### 7. From the book table, select and print all columns in the order of publication.\n",
    "#### Ans."
   ]
  },
  {
   "cell_type": "code",
   "execution_count": 7,
   "id": "98f8c785",
   "metadata": {},
   "outputs": [
    {
     "name": "stdout",
     "output_type": "stream",
     "text": [
      "('The Weirdstone of Brisingamen', 'Alan Garner', 1960)\n",
      "('Small Gods', 'Terry Pratchett', 1992)\n",
      "('Perdido Street Station', 'China MiÃ©ville', 2000)\n",
      "('Thud!', 'Terry Pratchett', 2005)\n",
      "('The Spellman Files', 'Lisa Lutz', 2007)\n"
     ]
    }
   ],
   "source": [
    "import sqlite3\n",
    "\n",
    "try:\n",
    "    conn = sqlite3.connect('books.db')\n",
    "    cursor = conn.cursor()\n",
    "    ouput = cursor.execute(\"SELECT * FROM books ORDER BY year\")\n",
    "    for record in ouput:\n",
    "        print(record)\n",
    "except Exception as e:\n",
    "    print(f'Failed to fetch data from database')\n",
    "finally:\n",
    "    conn.close()"
   ]
  },
  {
   "cell_type": "markdown",
   "id": "8d9d4c5f",
   "metadata": {},
   "source": [
    "#### 8. Use the sqlalchemy module to connect to the sqlite3 database books.db that you just made in exercise 6.\n",
    "#### Ans."
   ]
  },
  {
   "cell_type": "code",
   "execution_count": 8,
   "id": "3fa88eb5",
   "metadata": {},
   "outputs": [
    {
     "data": {
      "text/plain": [
       "Engine(sqlite:///books.db)"
      ]
     },
     "execution_count": 8,
     "metadata": {},
     "output_type": "execute_result"
    }
   ],
   "source": [
    "import sqlalchemy\n",
    "engine = sqlalchemy.create_engine('sqlite:///books.db')\n",
    "engine"
   ]
  },
  {
   "cell_type": "markdown",
   "id": "3b890da5",
   "metadata": {},
   "source": [
    "#### 9. Install the Redis server and the Python redis library (pip install redis) on your computer. Create a Redis hash called test with the fields count (1) and name (&#39;Fester Bestertester&#39;). Print all the fields for test.\n",
    "#### Ans."
   ]
  },
  {
   "cell_type": "code",
   "execution_count": 9,
   "id": "dd16b7bc",
   "metadata": {},
   "outputs": [],
   "source": [
    "# Install redis server for windows on local PC by following steps in the below link\n",
    "\n",
    "# https://stackoverflow.com/questions/6476945/how-do-i-run-redis-on-windows\n",
    "# https://github.com/microsoftarchive/redis/releases\n"
   ]
  },
  {
   "cell_type": "code",
   "execution_count": 10,
   "id": "a980d5a0",
   "metadata": {},
   "outputs": [
    {
     "data": {
      "text/plain": [
       "{b'count': b'1', b'name': b'Fester Bestertester'}"
      ]
     },
     "execution_count": 10,
     "metadata": {},
     "output_type": "execute_result"
    }
   ],
   "source": [
    "import redis\n",
    "conn = redis.StrictRedis(host='localhost', port=6379, db=0)\n",
    "conn.hset('test','count', 1)\n",
    "conn.hset('test','name','Fester Bestertester')\n",
    "conn.hgetall('test')"
   ]
  },
  {
   "cell_type": "markdown",
   "id": "5ddf5aa4",
   "metadata": {},
   "source": [
    "#### 10. Increment the count field of test and print it.\n",
    "#### Ans."
   ]
  },
  {
   "cell_type": "code",
   "execution_count": 11,
   "id": "ac9649e0",
   "metadata": {},
   "outputs": [
    {
     "data": {
      "text/plain": [
       "{b'count': b'2', b'name': b'Fester Bestertester'}"
      ]
     },
     "execution_count": 11,
     "metadata": {},
     "output_type": "execute_result"
    }
   ],
   "source": [
    "conn.hincrby('test', 'count', 1)\n",
    "conn.hgetall('test')"
   ]
  },
  {
   "cell_type": "code",
   "execution_count": null,
   "id": "26c5b198",
   "metadata": {},
   "outputs": [],
   "source": []
  }
 ],
 "metadata": {
  "kernelspec": {
   "display_name": "Python 3 (ipykernel)",
   "language": "python",
   "name": "python3"
  },
  "language_info": {
   "codemirror_mode": {
    "name": "ipython",
    "version": 3
   },
   "file_extension": ".py",
   "mimetype": "text/x-python",
   "name": "python",
   "nbconvert_exporter": "python",
   "pygments_lexer": "ipython3",
   "version": "3.10.0"
  }
 },
 "nbformat": 4,
 "nbformat_minor": 5
}
