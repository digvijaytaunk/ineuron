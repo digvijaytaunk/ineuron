{
 "cells": [
  {
   "cell_type": "markdown",
   "id": "23282931",
   "metadata": {},
   "source": [
    "# Assignment 13"
   ]
  },
  {
   "cell_type": "markdown",
   "id": "62756fae",
   "metadata": {},
   "source": [
    "#### 1. What advantages do Excel spreadsheets have over CSV spreadsheets?\n",
    "\n",
    "#### Ans. \n",
    "\n",
    "Advantages of excel files:\n",
    "\n",
    "1. The native excel file is more superior than csv in terms of capability of storing different data like, images, linked objects, etc.\n",
    "\n",
    "2. It can perform VBA coding, functions, formula computation. \n",
    "3. It can store formating, data visualization options.\n",
    "4. Can be password protected.\n",
    "5. It is easier for user to read large excel.\n",
    "\n",
    "\n",
    "#### 2.What do you pass to csv.reader() and csv.writer() to create reader and writer objects?\n",
    "\n",
    "#### Ans. \n",
    "\n",
    "The definition of a `csv.reader()` function is\n",
    "\n",
    "`csv.reader(csvfile, dialect='excel', **fmtparams)`\n",
    "\n",
    "where,\n",
    "\n",
    "`csvfile`: It can be any object which supports the iterator protocol and returns a string each time its __next__() method is called.  file objects and list objects are both suitable\n",
    "\n",
    "`dialect` (optional): used to define a set of parameters specific to a particular CSV dialect. It may be an instance of a subclass of the Dialect class or one of the strings returned by the list_dialects() function\n",
    "\n",
    "\n",
    "`**fmtparams` (optional): keyword arguments can be given to override individual formatting parameters in the current dialect.\n",
    "\n",
    "\n",
    "#### 3. What modes do File objects for reader and writer objects need to be opened in?\n",
    "\n",
    "#### Ans. \n",
    "\n",
    "For reader object, modes are:\n",
    "\n",
    "- `r`: Open a file for reading (default).\n",
    "\n",
    "- `rb`: Opens a file for reading only in binary format.\n",
    "\n",
    "- `r+`: Opens a file for both reading and writing.\n",
    "\n",
    "For writer object, modes are:\n",
    "\n",
    "- `w`: Opens a file for writing only. Overwrites the file if the file exists. If the file does not exist, creates a new file for writing.\n",
    "\n",
    "- `w+`: Opens a file for both writing and reading.\n",
    "\n",
    "- `wb+`: Opens a file for both writing and reading in binary format.\n",
    "\n",
    "- `a`: Opens a file for appending. The file pointer is at the end of the file if the file exists. That is, the file is in the append mode. If the file does not exist, it creates a new file for writing.\n",
    "\n",
    "- `a+`: Opens a file for both appending and reading.\n",
    "\n",
    "- `ab`: Opens a file for appending in binary format.\n",
    "\n",
    "- `ab+`: Opens a file for both appending and reading in binary format.\n",
    "\n",
    "- `x`: open for exclusive creation, failing if the file already exists.\n",
    "\n",
    "\n",
    "#### 4. What method takes a list argument and writes it to a CSV file?\n",
    "\n",
    "#### Ans. \n",
    "\n",
    "`csv.writer` class provides `writerows()` method which takes  list of arguments to write multiple rows at a time.\n",
    "\n",
    "\n",
    "#### 5. What do the keyword arguments delimiter and line terminator do?\n",
    "\n",
    "#### Ans. \n",
    "\n",
    "The `delimiter` is the character that seperates each fields or cells on a row. The delimiter for a CSV file is a comma by default. \n",
    "\n",
    "The `line terminator` is the character that comes at the end of a row to seperate each record. By default, the line terminator is a newline.\n",
    "\n",
    "\n",
    "#### 6. What function takes a string of JSON data and returns a Python data structure?\n",
    "\n",
    "#### Ans. \n",
    "\n",
    "A built in module in python called `json` is used to read stringified json. It provides `load()` function whihch takes a json in string format and convert it into json object."
   ]
  },
  {
   "cell_type": "code",
   "execution_count": 1,
   "id": "50272aa5",
   "metadata": {},
   "outputs": [
    {
     "name": "stdout",
     "output_type": "stream",
     "text": [
      "<class 'str'>\n",
      "<class 'dict'>\n",
      "{'Name': 'Digvijay', 'Age': '15'}\n"
     ]
    }
   ],
   "source": [
    "import json\n",
    "\n",
    "# Creating a json data string\n",
    "str ='{\"Name\": \"Digvijay\", \"Age\": \"15\"}'\n",
    "print(type(str))\n",
    "\n",
    "obj = json.loads(str)\n",
    "\n",
    "print(type(obj))\n",
    "print(obj)"
   ]
  },
  {
   "cell_type": "markdown",
   "id": "b64fb714",
   "metadata": {},
   "source": [
    "#### 7. What function takes a Python data structure and returns a string of JSON data?\n",
    "\n",
    "#### Ans. \n",
    "\n",
    "In `json` module, the `dump()` function is used to conver json object into string."
   ]
  },
  {
   "cell_type": "code",
   "execution_count": 2,
   "id": "f09302e0",
   "metadata": {},
   "outputs": [
    {
     "name": "stdout",
     "output_type": "stream",
     "text": [
      "<class 'dict'>\n",
      "<class 'str'>\n"
     ]
    },
    {
     "data": {
      "text/plain": [
       "'{\"Name\": \"Digvijay\", \"Age\": \"15\"}'"
      ]
     },
     "execution_count": 2,
     "metadata": {},
     "output_type": "execute_result"
    }
   ],
   "source": [
    "print(type(obj))\n",
    "\n",
    "new_str = json.dumps(obj)\n",
    "\n",
    "print(type(new_str))\n",
    "new_str"
   ]
  },
  {
   "cell_type": "code",
   "execution_count": null,
   "id": "e5d72d78",
   "metadata": {},
   "outputs": [],
   "source": []
  }
 ],
 "metadata": {
  "kernelspec": {
   "display_name": "Python 3 (ipykernel)",
   "language": "python",
   "name": "python3"
  },
  "language_info": {
   "codemirror_mode": {
    "name": "ipython",
    "version": 3
   },
   "file_extension": ".py",
   "mimetype": "text/x-python",
   "name": "python",
   "nbconvert_exporter": "python",
   "pygments_lexer": "ipython3",
   "version": "3.10.0"
  }
 },
 "nbformat": 4,
 "nbformat_minor": 5
}
