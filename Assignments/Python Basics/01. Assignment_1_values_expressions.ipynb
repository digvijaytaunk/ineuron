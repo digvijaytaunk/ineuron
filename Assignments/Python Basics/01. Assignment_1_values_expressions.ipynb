{
 "cells": [
  {
   "cell_type": "markdown",
   "id": "f4f7cfc4",
   "metadata": {},
   "source": [
    "# Assignment - 1"
   ]
  },
  {
   "cell_type": "markdown",
   "id": "a03c67af",
   "metadata": {},
   "source": [
    "#### 1. In the below elements which of them are values or an expression? eg:- values can be integer or string and expressions will be mathematical operators.\n",
    "\n",
    "`*, ‘hello’, -87.8, -, /, +, 6`\n",
    "\n",
    "#### Ans. \n",
    "\n",
    "Expressions are : `*, -, /, +`\n",
    "\n",
    "Values are : `‘hello’, -87.8, 6`\n",
    "\n",
    "\n",
    "#### 2. What is the difference between string and variable?\n",
    "\n",
    "#### Ans. \n",
    "\n",
    "String is a datatype which represents the text or characters f.ex. `“This is a string”. `\n",
    "\n",
    "Variables – Variables are use to store any value of any datatype. F.ex. `name =  “Digvijay”`.  Here name is a variable which store the value of type string and the value is `“Digvijay”`\n",
    "\n",
    "\n",
    "##### 3. Describe three different data types.\n",
    "\n",
    "#### Ans. \n",
    "\n",
    "`String`, `integer`, `Boolean` \n",
    "\n",
    "#### 4. What is an expression made up of? What do all expressions do?\n",
    "\n",
    "#### Ans. \n",
    "Expressions contains two or more values with a operator in between them to evaluate to return a result. F.ex `2*4=8`\n",
    "\n",
    "##### 5. This assignment statements, like spam = 10. What is the difference between an expression and a statement?\n",
    "#### Ans. \n",
    "In the given statement the value is being stored in the variable `spam`. Statement is a line which performs certain action/task. Whereas an expression on execution always returns a result of that line.\n",
    "\n",
    "##### 6. After running the following code, what does the variable bacon contain?\n",
    "`bacon = 22` \n",
    "`bacon + 1`\n",
    "#### Ans. \n",
    "`22`, first line is an assignment statement which sets value of `bacon` to `22`, next line is an expression which adds `1` to bacon (which is `22`) but this does not change the value of `bacon`. Hence `bacon` remains `22`. \n",
    "\n",
    "##### 7. What should the values of the following two terms be?\n",
    "`'spam' + 'spamspam'`\n",
    "`'spam' * 3`\n",
    "#### Ans. \n",
    "Both return the same result. The first concatenates the `‘spam’` to `‘spamspam’` Which return `‘spamspamspam’`. The second concatenates the `spam` 3 times which also returns `‘spamspamspam’`.\n",
    "\n",
    "##### 8. Why is eggs a valid variable name while 100 is invalid?\n",
    "#### Ans. \n",
    "Variable name always starts with a character. `100` is a value and starts with numeric.\n",
    "\n",
    "##### 9. What three functions can be used to get the integer, floating-point number, or string version of a value?\n",
    "#### Ans. \n",
    "`Int()` – parse to integer value, \n",
    "\n",
    "`float()` – parse to floating point number, \n",
    "\n",
    "`str()` – to parse to string.\n",
    "\n",
    "##### 10. Why does this expression cause an error? How can you fix it?\n",
    "`'I have eaten ' + 99 + ' burritos.'`\n",
    "#### Ans. \n",
    "`99` is an integer and cannot concatenate with string. To fix that, `99` must be converted to string using `str()` function. \n",
    "\n",
    "`'I have eaten ' + str(99) + ' burritos.'`\n",
    "\n"
   ]
  },
  {
   "cell_type": "code",
   "execution_count": null,
   "id": "7202ec01",
   "metadata": {},
   "outputs": [],
   "source": []
  }
 ],
 "metadata": {
  "kernelspec": {
   "display_name": "Python 3 (ipykernel)",
   "language": "python",
   "name": "python3"
  },
  "language_info": {
   "codemirror_mode": {
    "name": "ipython",
    "version": 3
   },
   "file_extension": ".py",
   "mimetype": "text/x-python",
   "name": "python",
   "nbconvert_exporter": "python",
   "pygments_lexer": "ipython3",
   "version": "3.10.0"
  }
 },
 "nbformat": 4,
 "nbformat_minor": 5
}
