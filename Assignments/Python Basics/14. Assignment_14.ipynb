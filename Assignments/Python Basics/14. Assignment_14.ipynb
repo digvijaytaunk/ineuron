{
 "cells": [
  {
   "cell_type": "markdown",
   "id": "ad7f8ddf",
   "metadata": {},
   "source": [
    "# Assignment - 14"
   ]
  },
  {
   "cell_type": "markdown",
   "id": "8f402270",
   "metadata": {},
   "source": [
    "#### 1. What does RGBA stand for?\n",
    "\n",
    "#### Ans. \n",
    "\n",
    "An `RGB` color value represents `RED`, `GREEN`, and `BLUE` light sources.\n",
    "`RGBA` color value is an extension of `RGB` with an Alpha channel (opacity).\n",
    "\n",
    "\n",
    "#### 2. From the Pillow module, how do you get the RGBA value of any images?\n",
    "\n",
    "#### Ans.\n",
    "\n",
    "`ImageColor.getcolor()` gives `rgba` value of any image.\n",
    "\n",
    "\n",
    "#### 3. What is a box tuple, and how does it work?\n",
    "\n",
    "#### Ans.\n",
    "\n",
    "`box tuple` 4-tuple defining the left, upper, right, and lower pixel coordinate. `(left_start, upper_start, right_stop, lower_stop)`\n",
    "\n",
    "Returns a rectangular region as (left, upper, right, lower)-tuple\n",
    "\n",
    "\n",
    "#### 4. Use your image and load in notebook then, How can you find out the width and height of an Image object?\n",
    "\n",
    "#### Ans."
   ]
  },
  {
   "cell_type": "code",
   "execution_count": 2,
   "id": "91315ca7",
   "metadata": {},
   "outputs": [
    {
     "name": "stdout",
     "output_type": "stream",
     "text": [
      "Width, Height -> 842,595\n",
      "Width, Height -> 842,595\n"
     ]
    }
   ],
   "source": [
    "from PIL import Image\n",
    "\n",
    "img = Image.open('invitation.jpg')\n",
    "width, height = img.size\n",
    "\n",
    "print(f'Width, Height - {img.width},{img.height}')\n",
    "print(f'Width, Height - {width},{height}') "
   ]
  },
  {
   "cell_type": "markdown",
   "id": "2676a8d3",
   "metadata": {},
   "source": [
    "#### 5. What method would you call to get Image object for a 100×100 image, excluding the lower-left quarter of it?\n",
    "\n",
    "#### Ans."
   ]
  },
  {
   "cell_type": "code",
   "execution_count": 20,
   "id": "8601c41e",
   "metadata": {},
   "outputs": [],
   "source": [
    "img = Image.open(r'invitation.jpg')\n",
    "width, height = img.size\n",
    "new_img = img.crop((width-100,0,width,100))\n",
    "new_img.show()"
   ]
  },
  {
   "cell_type": "markdown",
   "id": "a601075d",
   "metadata": {},
   "source": [
    "#### 6. After making changes to an Image object, how could you save it as an image file?\n",
    "\n",
    "#### Ans."
   ]
  },
  {
   "cell_type": "code",
   "execution_count": null,
   "id": "c47da454",
   "metadata": {},
   "outputs": [],
   "source": [
    "new_img.save(r'pic2.jpg')"
   ]
  },
  {
   "cell_type": "markdown",
   "id": "2741939d",
   "metadata": {},
   "source": [
    "#### 7. What module contains Pillow’s shape-drawing code?\n",
    "\n",
    "#### Ans.\n",
    "\n",
    "Pillow's `ImageDraw` module contains Shape drawing methods.\n",
    "\n",
    "\n",
    "#### 8. Image objects do not have drawing methods. What kind of object does? How do you get this kind of object?\n",
    "\n",
    "#### Ans.\n",
    "\n",
    "`ImageDraw` objects have drawing methods such as `point()`, `line()`, and `rectangle()`. imageDraw is returned by passing the Image object to the `ImageDraw.Draw()` function."
   ]
  }
 ],
 "metadata": {
  "kernelspec": {
   "display_name": "Python 3 (ipykernel)",
   "language": "python",
   "name": "python3"
  },
  "language_info": {
   "codemirror_mode": {
    "name": "ipython",
    "version": 3
   },
   "file_extension": ".py",
   "mimetype": "text/x-python",
   "name": "python",
   "nbconvert_exporter": "python",
   "pygments_lexer": "ipython3",
   "version": "3.10.0"
  }
 },
 "nbformat": 4,
 "nbformat_minor": 5
}
