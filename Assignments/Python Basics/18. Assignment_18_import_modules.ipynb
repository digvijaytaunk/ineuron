{
 "cells": [
  {
   "cell_type": "markdown",
   "id": "5019d28d",
   "metadata": {},
   "source": [
    "# Assignment - 18"
   ]
  },
  {
   "cell_type": "markdown",
   "id": "9a96d4a0",
   "metadata": {},
   "source": [
    "#### 1. Create a zoo.py file first. Define the hours() function, which prints the string &#39;Open 9-5 daily&#39;. Then, use the interactive interpreter to import the zoo module and call its hours() function.\n",
    "#### Ans."
   ]
  },
  {
   "cell_type": "code",
   "execution_count": 1,
   "id": "5afd783a",
   "metadata": {},
   "outputs": [
    {
     "name": "stdout",
     "output_type": "stream",
     "text": [
      "def hours():\n",
      "    print(\"Open 9-5 daily\")\n",
      "\n"
     ]
    }
   ],
   "source": [
    "with open('zoo.py', 'r') as f:\n",
    "    print(f.read())"
   ]
  },
  {
   "cell_type": "code",
   "execution_count": 2,
   "id": "8c4fd4c0",
   "metadata": {},
   "outputs": [
    {
     "name": "stdout",
     "output_type": "stream",
     "text": [
      "Open 9-5 daily\n"
     ]
    }
   ],
   "source": [
    "import zoo\n",
    "\n",
    "zoo.hours()"
   ]
  },
  {
   "cell_type": "markdown",
   "id": "b70b88e1",
   "metadata": {},
   "source": [
    "#### 2. In the interactive interpreter, import the zoo module as menagerie and call its hours() function.\n",
    "#### Ans."
   ]
  },
  {
   "cell_type": "code",
   "execution_count": 3,
   "id": "581f770b",
   "metadata": {},
   "outputs": [
    {
     "name": "stdout",
     "output_type": "stream",
     "text": [
      "Open 9-5 daily\n"
     ]
    }
   ],
   "source": [
    "import zoo as menagerie\n",
    "menagerie.hours()"
   ]
  },
  {
   "cell_type": "markdown",
   "id": "5fb8b1e8",
   "metadata": {},
   "source": [
    "#### 3. Using the interpreter, explicitly import and call the hours() function from zoo.\n",
    "#### Ans."
   ]
  },
  {
   "cell_type": "code",
   "execution_count": 4,
   "id": "4dc500ce",
   "metadata": {},
   "outputs": [
    {
     "name": "stdout",
     "output_type": "stream",
     "text": [
      "Open 9-5 daily\n"
     ]
    }
   ],
   "source": [
    "from zoo import hours\n",
    "hours()"
   ]
  },
  {
   "cell_type": "markdown",
   "id": "bafe331f",
   "metadata": {},
   "source": [
    "#### 4. Import the hours() function as info and call it.\n",
    "#### Ans."
   ]
  },
  {
   "cell_type": "code",
   "execution_count": 5,
   "id": "3d52dc91",
   "metadata": {},
   "outputs": [
    {
     "name": "stdout",
     "output_type": "stream",
     "text": [
      "Open 9-5 daily\n"
     ]
    }
   ],
   "source": [
    "from zoo import hours as info\n",
    "info()"
   ]
  },
  {
   "cell_type": "markdown",
   "id": "2ea1afdc",
   "metadata": {},
   "source": [
    "#### 5. Create a plain dictionary with the key-value pairs &#39;a&#39;: 1, &#39;b&#39;: 2, and &#39;c&#39;: 3, and print it out.\n",
    "#### Ans."
   ]
  },
  {
   "cell_type": "code",
   "execution_count": 6,
   "id": "8619ee4b",
   "metadata": {},
   "outputs": [
    {
     "name": "stdout",
     "output_type": "stream",
     "text": [
      "{'a': 1, 'b': 2, 'c': 3}\n"
     ]
    }
   ],
   "source": [
    "dic = {'a':1,'b':2,'c':3}\n",
    "\n",
    "print(dic)"
   ]
  },
  {
   "cell_type": "markdown",
   "id": "ab3eff3c",
   "metadata": {},
   "source": [
    "#### 6.Make an OrderedDict called fancy from the same pairs listed in 5 and print it. Did it print in the same order as plain?\n",
    "#### Ans."
   ]
  },
  {
   "cell_type": "code",
   "execution_count": 7,
   "id": "dc405983",
   "metadata": {},
   "outputs": [
    {
     "name": "stdout",
     "output_type": "stream",
     "text": [
      "Plain dictionary:  {'a': 1, 'b': 2, 'c': 3}\n",
      "Ordered dictionary:  OrderedDict([('a', 1), ('b', 2), ('c', 3)])\n"
     ]
    }
   ],
   "source": [
    "# import OrderedDict\n",
    "from collections import OrderedDict\n",
    "\n",
    "# Creating the dictionary using same key value pairs\n",
    "fancy = OrderedDict(dic)\n",
    "\n",
    "# Printing both the dictionaries\n",
    "print(\"Plain dictionary: \",dic)\n",
    "print(\"Ordered dictionary: \",fancy)"
   ]
  },
  {
   "cell_type": "markdown",
   "id": "43f6afa6",
   "metadata": {},
   "source": [
    "Ordered Dictionary converts normal dictionary into list of tuple containing key & value pair. Since Tuple is immutable, it cannot be changed and list is ordered, which makes this as representation of ordered dictionary."
   ]
  },
  {
   "cell_type": "markdown",
   "id": "9cc9f8be",
   "metadata": {},
   "source": [
    "#### 7. Make a default dictionary called dict_of_lists and pass it the argument list. Make the list dict_of_lists[&#39;a&#39;] and append the value &#39;something for a&#39; to it in one assignment. Print dict_of_lists[&#39;a&#39;].\n",
    "#### Ans."
   ]
  },
  {
   "cell_type": "code",
   "execution_count": 8,
   "id": "bd2e0cce",
   "metadata": {},
   "outputs": [
    {
     "name": "stdout",
     "output_type": "stream",
     "text": [
      "['something for a']\n"
     ]
    }
   ],
   "source": [
    "from collections import defaultdict\n",
    "\n",
    "dict_of_lists = defaultdict(list)\n",
    "dict_of_lists['a'].append('something for a')\n",
    "\n",
    "print(dict_of_lists['a'])"
   ]
  },
  {
   "cell_type": "code",
   "execution_count": null,
   "id": "07a29476",
   "metadata": {},
   "outputs": [],
   "source": []
  }
 ],
 "metadata": {
  "kernelspec": {
   "display_name": "Python 3 (ipykernel)",
   "language": "python",
   "name": "python3"
  },
  "language_info": {
   "codemirror_mode": {
    "name": "ipython",
    "version": 3
   },
   "file_extension": ".py",
   "mimetype": "text/x-python",
   "name": "python",
   "nbconvert_exporter": "python",
   "pygments_lexer": "ipython3",
   "version": "3.10.0"
  }
 },
 "nbformat": 4,
 "nbformat_minor": 5
}
