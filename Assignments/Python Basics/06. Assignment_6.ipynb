{
 "cells": [
  {
   "cell_type": "markdown",
   "id": "d8cdb8e0",
   "metadata": {},
   "source": [
    "# Assignment - 6"
   ]
  },
  {
   "cell_type": "markdown",
   "id": "c9aaa097",
   "metadata": {},
   "source": [
    "#### 1. What are escape characters, and how do you use them?\n",
    "\n",
    "##### Ans. \n",
    "\n",
    "Escape characters are the combination of chracters to print characters which have other purpose if written directly in code. Backslash character `\\` is used to escape a single character. F.ex. `\\t`, `\\n`\n",
    "\n",
    "\n",
    "#### 2. What do the escape characters n and t stand for?\n",
    "\n",
    "##### Ans. \n",
    "\n",
    "`\\n` - newline, \n",
    "\n",
    "`\\t` - tab\n",
    "\n",
    "\n",
    "#### 3. What is the way to include backslash characters in a string?\n",
    "\n",
    "##### Ans. \n",
    "\n",
    "double backslash together `\\\\`\n",
    "\n",
    "\n",
    "#### 4. The string &quot;Howl&#39;s Moving Castle&quot; is a correct value. Why isn&#39;t the single quote character in the\n",
    "word Howl&#39;s not escaped a problem?\n",
    "\n",
    "##### Ans. \n",
    "\n",
    "`\"Howl's Moving Castle\"` is written inside double quote\n",
    "\n",
    "\n",
    "#### 5. How do you write a string of newlines if you don&#39;t want to use the n character?\n",
    "\n",
    "##### Ans. "
   ]
  },
  {
   "cell_type": "code",
   "execution_count": 24,
   "id": "0efc81b2",
   "metadata": {},
   "outputs": [
    {
     "name": "stdout",
     "output_type": "stream",
     "text": [
      "This\n",
      "is \n",
      "a multiline\n",
      "string\n",
      "\n"
     ]
    }
   ],
   "source": [
    "st = '''This\n",
    "is \n",
    "a multiline\n",
    "string\n",
    "'''\n",
    "\n",
    "print(st)"
   ]
  },
  {
   "cell_type": "markdown",
   "id": "65cd3c3b",
   "metadata": {},
   "source": [
    "#### 6. What are the values of the given expressions?\n",
    "\n",
    "&#39;Hello, world!&#39;[1]\n",
    "\n",
    "&#39;Hello, world!&#39;[0:5]\n",
    "\n",
    "&#39;Hello, world!&#39;[:5]\n",
    "\n",
    "&#39;Hello, world!&#39;[3:]\n",
    "\n",
    "##### Ans. \n",
    "\n",
    "'Hello, world!'[1] = `'e'`\n",
    "\n",
    "'Hello, world!'[0:5] = `'Hello'`\n",
    "\n",
    "'Hello, world!'[:5]  = `'Hello'`\n",
    "\n",
    "'Hello, world!'[3:] = `'lo, world!'`\n",
    "\n",
    "\n",
    "\n",
    "#### 7. What are the values of the following expressions?\n",
    "\n",
    "##### Ans. \n",
    "\n",
    "`'Hello'.upper()` Return `HELLO`\n",
    "\n",
    "&#39;Hello&#39;.upper().isupper() Return `True` \n",
    "\n",
    "&#39;Hello&#39;.upper().lower()  Returns `hello`\n",
    "\n",
    "\n",
    "\n",
    "#### 8. What are the values of the following expressions?\n",
    "\n",
    "##### Ans. \n",
    "\n",
    "&#39;Remember, remember, the fifth of July.&#39;.split() Returns `['Remember,', 'remember,', 'the', 'fifth', 'of', 'July.']`\n",
    "\n",
    "&#39;-&#39;.join(&#39;There can only one.&#39;.split()) Returns `'There-can-only-one.'`\n",
    "\n",
    "\n",
    "\n",
    "\n",
    "#### 9. What are the methods for right-justifying, left-justifying, and centering a string?\n",
    "\n",
    "##### Ans. \n",
    "\n",
    "right-justifying - `.rjust()`\n",
    "\n",
    "left-justifying - `.ljust()` \n",
    "\n",
    "centering - `.center()`\n",
    "\n",
    "\n",
    "#### 10. What is the best way to remove whitespace characters from the start or end?\n",
    "\n",
    "##### Ans. \n",
    "\n",
    "`strip()` function removes the unwanted spaces from both start and end. There are 2 more functions to clean spaces from either start or end, i.e. `.rstrip()` to remove only on right side & `.lstrip()` to remove from left.  \n"
   ]
  },
  {
   "cell_type": "code",
   "execution_count": null,
   "id": "dbd76f92",
   "metadata": {},
   "outputs": [],
   "source": []
  }
 ],
 "metadata": {
  "kernelspec": {
   "display_name": "Python 3 (ipykernel)",
   "language": "python",
   "name": "python3"
  },
  "language_info": {
   "codemirror_mode": {
    "name": "ipython",
    "version": 3
   },
   "file_extension": ".py",
   "mimetype": "text/x-python",
   "name": "python",
   "nbconvert_exporter": "python",
   "pygments_lexer": "ipython3",
   "version": "3.10.0"
  }
 },
 "nbformat": 4,
 "nbformat_minor": 5
}
