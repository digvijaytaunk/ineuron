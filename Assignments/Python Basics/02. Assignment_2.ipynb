{
 "cells": [
  {
   "cell_type": "markdown",
   "id": "b760ab73",
   "metadata": {},
   "source": [
    "# Assignment - 2"
   ]
  },
  {
   "cell_type": "markdown",
   "id": "8dec04b8",
   "metadata": {},
   "source": [
    "##### 1.What are the two values of the Boolean data type? How do you write them?\n",
    "\n",
    "#### Ans. \n",
    "`True` & `False`\n",
    "\n",
    "\n",
    "##### 2. What are the three different types of Boolean operators?\n",
    "\n",
    "#### Ans. \n",
    "`and`, `or`, `not`.\n",
    "\n",
    "\n",
    "##### 3. Make a list of each Boolean operator's truth tables (i.e. every possible combination of Boolean values for the operator and what it evaluate).\n",
    "\n",
    "#### Ans.\n",
    "\n",
    "| Value 1 | Operator | Value 2 | Result |\n",
    "| --- | --- | --- | --- |\n",
    "|True | Or | True |True |\n",
    "|True | Or | False | True |\n",
    "|False | Or\t| True | True |\n",
    "|False | Or | False | False |\n",
    "|True | and\t| True |True |\n",
    "|True |and| False | False |\n",
    "|False | and | True | False |\n",
    "|False | and | False | False |\n",
    "\n",
    "\n",
    "\n",
    "\n",
    "\n",
    "| Operator | Value 1 | Result |\n",
    "| --- | --- | --- |\n",
    "|not | True | False |\n",
    "|not | False | True |\n",
    "\n",
    "\n",
    "##### 4. What are the values of the following expressions?\n",
    "\n",
    "#### Ans.\n",
    "\n",
    "`(5 > 4) and (3 == 5)` returns `False`\n",
    "\n",
    "`not (5 > 4)` returns `False`\n",
    "\n",
    "`(5 > 4) or (3 == 5)` returns `True`\n",
    "\n",
    "`not ((5 > 4) or (3 == 5))` returns `False`\n",
    "\n",
    "`(True and True) and (True == False)` returns `False`\n",
    "\n",
    "`(not False) or (not True)` returns `True`\n",
    "\n",
    "\n",
    "##### 5. What are the six comparison operators?\n",
    "\n",
    "#### Ans. \n",
    "`==`, `!=`, `<`, `>`, `<=`, `>=`\n",
    "\n",
    "\n",
    "##### 6. How do you tell the difference between the equal to and assignment operators? Describe a condition and when you would use one.\n",
    "\n",
    "#### Ans. \n",
    "Single equal sign `=` is an assignment operator, which is used to assign a value to any variable.\n",
    "Double equal sign `==` is a Boolean operator which is used to compare the equality relation between 2 values or variables."
   ]
  },
  {
   "cell_type": "markdown",
   "id": "300c8194",
   "metadata": {},
   "source": [
    "##### 7. Identify the three blocks in this code:\n",
    "#### Ans."
   ]
  },
  {
   "cell_type": "code",
   "execution_count": 1,
   "id": "3a28306b",
   "metadata": {},
   "outputs": [
    {
     "name": "stdout",
     "output_type": "stream",
     "text": [
      "ham\n",
      "spam\n",
      "spam\n"
     ]
    }
   ],
   "source": [
    "spam = 0\n",
    "if spam == 10:\n",
    "    print('eggs')\n",
    "if spam > 5:\n",
    "    print('bacon')\n",
    "else:\n",
    "    print('ham')\n",
    "print('spam')\n",
    "print('spam')"
   ]
  },
  {
   "cell_type": "markdown",
   "id": "118671fb",
   "metadata": {},
   "source": [
    "#### Ans. \n",
    "\n",
    "First block is the main block containing all the 9 lines (Can be sometimes called as compun block). \n",
    "\n",
    "Second is first if block to print 'egg'. \n",
    "\n",
    "\n",
    "And Third is if and else block to print either 'bacon' or 'ham'."
   ]
  },
  {
   "cell_type": "markdown",
   "id": "62fe5df7",
   "metadata": {},
   "source": [
    "##### 8. Write code that prints Hello if 1 is stored in spam, prints Howdy if 2 is stored in spam, and prints Greetings! if anything else is stored in spam.\n",
    "\n",
    "#### Ans. "
   ]
  },
  {
   "cell_type": "code",
   "execution_count": 4,
   "id": "7961853b",
   "metadata": {},
   "outputs": [
    {
     "name": "stdout",
     "output_type": "stream",
     "text": [
      "Hello\n",
      "Howdy\n",
      "Greetings!\n"
     ]
    }
   ],
   "source": [
    "def spam_check(spam):\n",
    "    if(spam==1):\n",
    "        print('Hello')\n",
    "    elif (spam==2):\n",
    "        print('Howdy')\n",
    "    else:\n",
    "        print('Greetings!') \n",
    "\n",
    "spam_check(1)\n",
    "spam_check(2)\n",
    "spam_check(3)"
   ]
  },
  {
   "cell_type": "markdown",
   "id": "fe8bd87e",
   "metadata": {},
   "source": [
    "##### 9.If your programme is stuck in an endless loop, what keys you’ll press?\n",
    "#### Ans. \n",
    "`Crtl + C`\n",
    "\n",
    "\n",
    "##### 10. How can you tell the difference between break and continue?\n",
    "#### Ans. \n",
    "In a loop block, if the condition is met and rest of the code is not necessary to execute, in that case the execution of that loop can be stop/terminated by using `break` keyword an exit the loop. \n",
    "\n",
    "Whereas in a loop if a certain condition is met and it is not required to execute the rest of the code, `continue` keyword skip the code after it and continue executing the rest of the loop.\n",
    "\n",
    "\n",
    "##### 11. In a for loop, what is the difference between range(10), range(0, 10), and range(0, 10, 1)?\n",
    "\n",
    "#### Ans. \n",
    "`Range()` funtion takes an integer argument as an upper bound and generates the list of numbers. Optionally it can take start and end bound to generate the list of number between the lower and upper bound. Also it can take the third argument as a step size to increment other than 1. The upper bound is always exclusive."
   ]
  },
  {
   "cell_type": "markdown",
   "id": "97152fc5",
   "metadata": {},
   "source": [
    "##### 12. Write a short program that prints the numbers 1 to 10 using a for loop. Then write an equivalent program that prints the numbers 1 to 10 using a while loop.\n",
    "\n",
    "#### Ans."
   ]
  },
  {
   "cell_type": "code",
   "execution_count": 6,
   "id": "b5ba4f81",
   "metadata": {},
   "outputs": [
    {
     "name": "stdout",
     "output_type": "stream",
     "text": [
      "1\n",
      "2\n",
      "3\n",
      "4\n",
      "5\n",
      "6\n",
      "7\n",
      "8\n",
      "9\n",
      "10\n"
     ]
    }
   ],
   "source": [
    "# For loop\n",
    "x = range(1, 11)\n",
    "for n in x:\n",
    "  print(n)"
   ]
  },
  {
   "cell_type": "code",
   "execution_count": 7,
   "id": "5ac9df23",
   "metadata": {},
   "outputs": [
    {
     "name": "stdout",
     "output_type": "stream",
     "text": [
      "1\n",
      "2\n",
      "3\n",
      "4\n",
      "5\n",
      "6\n",
      "7\n",
      "8\n",
      "9\n",
      "10\n"
     ]
    }
   ],
   "source": [
    "# Ans. While Loop\n",
    "x=1\n",
    "while (x<=10):\n",
    "    print(x)\n",
    "    x+=1"
   ]
  },
  {
   "cell_type": "markdown",
   "id": "ba9a99ea",
   "metadata": {},
   "source": [
    "##### 13. If you had a function named bacon() inside a module named spam, how would you call it after importing spam?\n",
    "\n",
    "#### Ans."
   ]
  },
  {
   "cell_type": "markdown",
   "id": "a8ec5daa",
   "metadata": {},
   "source": [
    "`import spam\n",
    "spam.bacon()`"
   ]
  }
 ],
 "metadata": {
  "kernelspec": {
   "display_name": "Python 3 (ipykernel)",
   "language": "python",
   "name": "python3"
  },
  "language_info": {
   "codemirror_mode": {
    "name": "ipython",
    "version": 3
   },
   "file_extension": ".py",
   "mimetype": "text/x-python",
   "name": "python",
   "nbconvert_exporter": "python",
   "pygments_lexer": "ipython3",
   "version": "3.10.0"
  }
 },
 "nbformat": 4,
 "nbformat_minor": 5
}
