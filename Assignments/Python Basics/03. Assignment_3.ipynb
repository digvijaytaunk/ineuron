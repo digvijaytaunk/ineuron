{
 "cells": [
  {
   "cell_type": "markdown",
   "id": "bf382dd7",
   "metadata": {},
   "source": [
    "#  Assignment - 3"
   ]
  },
  {
   "cell_type": "markdown",
   "id": "e8e3fe24",
   "metadata": {},
   "source": [
    "##### 1.\tWhy are functions advantageous to have in your programs?\n",
    "\n",
    "#### Ans. \n",
    "To make program short and code reusable and easy to test.\n",
    "\n",
    "\n",
    "##### 2.\tWhen does the code in a function run: when it's specified or when it's called?\n",
    "\n",
    "#### Ans.\n",
    "\n",
    "When the function is called, the code inside the function is executed.\n",
    "\n",
    "\n",
    "##### 3.\tWhat statement creates a function?\n",
    "\n",
    "#### Ans. \n",
    "`def function_name():\n",
    "     pass`\n",
    "        \n",
    "        \n",
    "#### 4.\tWhat is the difference between a function and a function call?\n",
    "\n",
    "#### Ans \n",
    "Function is a sequence of statement to perform a certain action/task. Function call is the statement in the program to execute that function. \n",
    "\n",
    "\n",
    "##### 5.\tHow many global scopes are there in a Python program? How many local scopes?\n",
    "\n",
    "#### Ans. \n",
    "There is only 1 Global scope in python program which is accessible to all the functions and blocks in the program. Local scope of variable depends upon where it is defined inside the function body. In case of nested function it depends upon where you are in the code at run time.  \n",
    "\n",
    "\n",
    "##### 6.\tWhat happens to variables in a local scope when the function call returns?\n",
    "\n",
    "#### Ans. \n",
    "It is cleared from the memory and can no longer be accessible outside the function.\n",
    "\n",
    "\n",
    "##### 7.\tWhat is the concept of a return value? Is it possible to have a return value in an expression?\n",
    "\n",
    "#### Ans. \n",
    "A function is used to perform a certain task and it is expected to give result after the function is called. Return value is always a value and can never be an expression. A pure function will always return the same result each time it is called with the same argument.\n",
    "\n",
    "\n",
    "##### 8.\tIf a function does not have a return statement, what is the return value of a call to that function?\n",
    "\n",
    "#### Ans. \n",
    "Return `None` value.\n",
    "\n",
    "\n",
    "##### 9.\tHow do you make a function variable refer to the global variable?\n",
    "\n",
    "#### Ans. \n",
    "By using `global` keyword.\n",
    "\n",
    "\n",
    "##### 10.\tWhat is the data type of None?\n",
    "\n",
    "#### Ans. \n",
    "`None` is a `NoneType` of Object."
   ]
  },
  {
   "cell_type": "code",
   "execution_count": 1,
   "id": "541dde91",
   "metadata": {},
   "outputs": [
    {
     "data": {
      "text/plain": [
       "NoneType"
      ]
     },
     "execution_count": 1,
     "metadata": {},
     "output_type": "execute_result"
    }
   ],
   "source": [
    "type(None)"
   ]
  },
  {
   "cell_type": "markdown",
   "id": "a1a7a4ef",
   "metadata": {},
   "source": [
    "##### 11.\tWhat does the sentence import areallyourpetsnamederic do?\n",
    "\n",
    "#### Ans. \n",
    "It imports a function and provide access to call `areallyourpetsnamederic` in the python module.\n",
    "\n",
    "\n",
    "##### 12.\tIf you had a bacon() feature in a spam module, what would you call it after importing spam?\n",
    "\n",
    "#### Ans \n",
    "`spam.bacon()`\n",
    "\n",
    "\n",
    "##### 13.\tWhat can you do to save a programme from crashing if it encounters an error?\n",
    "\n",
    "#### Ans. \n",
    "Use the method of exception handling by using try except block.\n",
    "\n",
    "\n",
    "#### 14.\tWhat is the purpose of the try clause? What is the purpose of the except clause?\n",
    "\n",
    "#### Ans. \n",
    "The statement which is expected to crash the app, that is written inside the `try` block and in case of exception the code inside the `except:` block is executed.\n",
    "\n"
   ]
  },
  {
   "cell_type": "code",
   "execution_count": null,
   "id": "6aef5031",
   "metadata": {},
   "outputs": [],
   "source": []
  }
 ],
 "metadata": {
  "kernelspec": {
   "display_name": "Python 3 (ipykernel)",
   "language": "python",
   "name": "python3"
  },
  "language_info": {
   "codemirror_mode": {
    "name": "ipython",
    "version": 3
   },
   "file_extension": ".py",
   "mimetype": "text/x-python",
   "name": "python",
   "nbconvert_exporter": "python",
   "pygments_lexer": "ipython3",
   "version": "3.10.0"
  }
 },
 "nbformat": 4,
 "nbformat_minor": 5
}
