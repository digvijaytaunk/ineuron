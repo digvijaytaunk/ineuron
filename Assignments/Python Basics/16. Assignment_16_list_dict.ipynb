{
 "cells": [
  {
   "cell_type": "markdown",
   "id": "87122021",
   "metadata": {},
   "source": [
    "# Assignment - 16"
   ]
  },
  {
   "cell_type": "markdown",
   "id": "7dca3feb",
   "metadata": {},
   "source": [
    "#### 1. Create a list called years_list, starting with the year of your birth, and each year thereafter until the year of your fifth birthday. For example, if you were born in 1980. the list would be years_list = [1980, 1981, 1982, 1983, 1984, 1985].\n",
    "\n",
    "#### Ans. "
   ]
  },
  {
   "cell_type": "code",
   "execution_count": 1,
   "id": "9d0e8a3f",
   "metadata": {},
   "outputs": [
    {
     "name": "stdout",
     "output_type": "stream",
     "text": [
      "Enter you year of birth - 1984\n"
     ]
    },
    {
     "data": {
      "text/plain": [
       "[1984, 1985, 1986, 1987, 1988, 1989]"
      ]
     },
     "execution_count": 1,
     "metadata": {},
     "output_type": "execute_result"
    }
   ],
   "source": [
    "birth_year = int(input(\"Enter you year of birth - \"))\n",
    "years_list = [year for year in range(birth_year, birth_year+6)]\n",
    "years_list"
   ]
  },
  {
   "cell_type": "markdown",
   "id": "1a242709",
   "metadata": {},
   "source": [
    "#### 2. In which year in years_list was your third birthday? Remember, you were 0 years of age for your first year.\n",
    "#### Ans. "
   ]
  },
  {
   "cell_type": "code",
   "execution_count": 2,
   "id": "eac1ea48",
   "metadata": {},
   "outputs": [
    {
     "name": "stdout",
     "output_type": "stream",
     "text": [
      "Third birthday was in year 1987\n"
     ]
    }
   ],
   "source": [
    "print('Third birthday was in year {0}'.format(years_list[3]))"
   ]
  },
  {
   "cell_type": "markdown",
   "id": "70b9d1e3",
   "metadata": {},
   "source": [
    "#### 3.In the years list, which year were you the oldest?\n",
    "#### Ans. "
   ]
  },
  {
   "cell_type": "code",
   "execution_count": 3,
   "id": "5a8e922f",
   "metadata": {},
   "outputs": [
    {
     "name": "stdout",
     "output_type": "stream",
     "text": [
      "I was oldest in year  1989\n"
     ]
    }
   ],
   "source": [
    "print('I was oldest in year ', years_list[-1])"
   ]
  },
  {
   "cell_type": "markdown",
   "id": "ea6fb10a",
   "metadata": {},
   "source": [
    "#### 4. Make a list called things with these three strings as elements: &quot;mozzarella&quot;, &quot;cinderella&quot;, &quot;salmonella&quot;.\n",
    "#### Ans. "
   ]
  },
  {
   "cell_type": "code",
   "execution_count": 4,
   "id": "30121366",
   "metadata": {},
   "outputs": [
    {
     "data": {
      "text/plain": [
       "['mozzarella', 'cinderella', 'salmonella']"
      ]
     },
     "execution_count": 4,
     "metadata": {},
     "output_type": "execute_result"
    }
   ],
   "source": [
    "things = [\"mozzarella\", \"cinderella\", \"salmonella\"]\n",
    "things"
   ]
  },
  {
   "cell_type": "markdown",
   "id": "7816ab1c",
   "metadata": {},
   "source": [
    "#### 5. Capitalize the element in things that refers to a person and then print the list. Did it change the element in the list?\n",
    "#### Ans. "
   ]
  },
  {
   "cell_type": "code",
   "execution_count": 5,
   "id": "c57c4d89",
   "metadata": {},
   "outputs": [
    {
     "data": {
      "text/plain": [
       "['mozzarella', 'Cinderella', 'salmonella']"
      ]
     },
     "execution_count": 5,
     "metadata": {},
     "output_type": "execute_result"
    }
   ],
   "source": [
    "# the element 'cinderella' refers to a person.\n",
    "for idx, ele in enumerate(things):\n",
    "    if ele=='cinderella':\n",
    "        things[idx] = ele.capitalize()\n",
    "\n",
    "things\n",
    "# yes, it mutated the list & update the element."
   ]
  },
  {
   "cell_type": "markdown",
   "id": "39fdff34",
   "metadata": {},
   "source": [
    "#### 6. Make a surprise list with the elements &quot;Groucho,&quot; &quot;Chico,&quot; and &quot;Harpo.&quot;\n",
    "#### Ans. \n"
   ]
  },
  {
   "cell_type": "code",
   "execution_count": 6,
   "id": "75774261",
   "metadata": {},
   "outputs": [
    {
     "data": {
      "text/plain": [
       "['Groucho', 'Chico', 'Harpo']"
      ]
     },
     "execution_count": 6,
     "metadata": {},
     "output_type": "execute_result"
    }
   ],
   "source": [
    "surprise = ['Groucho', 'Chico', 'Harpo']\n",
    "surprise"
   ]
  },
  {
   "cell_type": "markdown",
   "id": "abc4ba36",
   "metadata": {},
   "source": [
    "#### 7. Lowercase the last element of the surprise list, reverse it, and then capitalize it.\n",
    "#### Ans. \n"
   ]
  },
  {
   "cell_type": "code",
   "execution_count": 7,
   "id": "bd1b9d2f",
   "metadata": {},
   "outputs": [
    {
     "name": "stdout",
     "output_type": "stream",
     "text": [
      "Last element is  harpo\n",
      "reversed last element is  oprah\n",
      "capitlized last element is  Oprah\n"
     ]
    }
   ],
   "source": [
    "#lower case last element\n",
    "last_ele = surprise[-1].lower()\n",
    "print('Last element is ', last_ele)\n",
    "\n",
    "#reverse last element\n",
    "lst_rev = last_ele[: :-1]\n",
    "print('reversed last element is ', lst_rev)\n",
    "\n",
    "#capitalize\n",
    "print('capitlized last element is ', lst_rev.capitalize())"
   ]
  },
  {
   "cell_type": "markdown",
   "id": "fce55453",
   "metadata": {},
   "source": [
    "#### 8. Make an English-to-French dictionary called e2f and print it. Here are your starter words: dog is chien, cat is chat, and walrus is morse.\n",
    "#### Ans. "
   ]
  },
  {
   "cell_type": "code",
   "execution_count": 8,
   "id": "f338a274",
   "metadata": {},
   "outputs": [
    {
     "data": {
      "text/plain": [
       "{'dog': 'chien', 'cat': 'chat', 'walrus': 'morse'}"
      ]
     },
     "execution_count": 8,
     "metadata": {},
     "output_type": "execute_result"
    }
   ],
   "source": [
    "e2f = {'dog': 'chien', 'cat': 'chat', 'walrus': 'morse' }\n",
    "e2f"
   ]
  },
  {
   "cell_type": "markdown",
   "id": "0ce71b96",
   "metadata": {},
   "source": [
    "#### 9. Write the French word for walrus in your three-word dictionary e2f.\n",
    "#### Ans. "
   ]
  },
  {
   "cell_type": "code",
   "execution_count": 9,
   "id": "22fd48ea",
   "metadata": {},
   "outputs": [
    {
     "data": {
      "text/plain": [
       "'morse'"
      ]
     },
     "execution_count": 9,
     "metadata": {},
     "output_type": "execute_result"
    }
   ],
   "source": [
    "e2f['walrus']"
   ]
  },
  {
   "cell_type": "markdown",
   "id": "6f4343ab",
   "metadata": {},
   "source": [
    "#### 10. Make a French-to-English dictionary called f2e from e2f. Use the items method.\n",
    "#### Ans. "
   ]
  },
  {
   "cell_type": "code",
   "execution_count": 10,
   "id": "bf4685ce",
   "metadata": {},
   "outputs": [
    {
     "data": {
      "text/plain": [
       "{'chien': 'dog', 'chat': 'cat', 'morse': 'walrus'}"
      ]
     },
     "execution_count": 10,
     "metadata": {},
     "output_type": "execute_result"
    }
   ],
   "source": [
    "f2e = dict([(v, k) for k, v in e2f.items()])\n",
    "f2e"
   ]
  },
  {
   "cell_type": "markdown",
   "id": "79203c42",
   "metadata": {},
   "source": [
    "#### 11. Print the English version of the French word chien using f2e.\n",
    "#### Ans. \n"
   ]
  },
  {
   "cell_type": "code",
   "execution_count": 11,
   "id": "4c76eea0",
   "metadata": {},
   "outputs": [
    {
     "data": {
      "text/plain": [
       "'dog'"
      ]
     },
     "execution_count": 11,
     "metadata": {},
     "output_type": "execute_result"
    }
   ],
   "source": [
    "f2e['chien']"
   ]
  },
  {
   "cell_type": "markdown",
   "id": "b093bb40",
   "metadata": {},
   "source": [
    "#### 12. Make and print a set of English words from the keys in e2f.\n",
    "#### Ans. \n"
   ]
  },
  {
   "cell_type": "code",
   "execution_count": 12,
   "id": "db5d4c83",
   "metadata": {},
   "outputs": [
    {
     "data": {
      "text/plain": [
       "{'cat', 'dog', 'walrus'}"
      ]
     },
     "execution_count": 12,
     "metadata": {},
     "output_type": "execute_result"
    }
   ],
   "source": [
    "set(e2f.keys())"
   ]
  },
  {
   "cell_type": "markdown",
   "id": "faae0441",
   "metadata": {},
   "source": [
    "#### 13. Make a multilevel dictionary called life. Use these strings for the topmost keys: &#39;animals&#39;, &#39;plants&#39;, and &#39;other&#39;. Make the &#39;animals&#39; key refer to another dictionary with the keys &#39;cats&#39;, &#39;octopi&#39;, and &#39;emus&#39;. Make the &#39;cats&#39; key refer to a list of strings with the values &#39;Henri&#39;, &#39;Grumpy&#39;, and &#39;Lucy&#39;. Make all the other keys refer to empty dictionaries.\n",
    "#### Ans. \n"
   ]
  },
  {
   "cell_type": "code",
   "execution_count": 13,
   "id": "441b3838",
   "metadata": {},
   "outputs": [],
   "source": [
    "life = {\n",
    "        'animals': {'cats': ['Henri', 'Grumpy', 'Lucy'], \n",
    "                   'octopi':{}, \n",
    "                   'emus':{}}, \n",
    "        'plants': {}, \n",
    "        'other':{}\n",
    "}\n"
   ]
  },
  {
   "cell_type": "markdown",
   "id": "7cd0380f",
   "metadata": {},
   "source": [
    "#### 14. Print the top-level keys of life.\n",
    "#### Ans. \n"
   ]
  },
  {
   "cell_type": "code",
   "execution_count": 14,
   "id": "8161e56a",
   "metadata": {},
   "outputs": [
    {
     "data": {
      "text/plain": [
       "dict_keys(['animals', 'plants', 'other'])"
      ]
     },
     "execution_count": 14,
     "metadata": {},
     "output_type": "execute_result"
    }
   ],
   "source": [
    "life.keys()"
   ]
  },
  {
   "cell_type": "markdown",
   "id": "c05188a3",
   "metadata": {},
   "source": [
    "#### 15. Print the keys for life[&#39;animals&#39;].\n",
    "#### Ans. \n"
   ]
  },
  {
   "cell_type": "code",
   "execution_count": 15,
   "id": "7d625199",
   "metadata": {},
   "outputs": [
    {
     "data": {
      "text/plain": [
       "dict_keys(['cats', 'octopi', 'emus'])"
      ]
     },
     "execution_count": 15,
     "metadata": {},
     "output_type": "execute_result"
    }
   ],
   "source": [
    "life['animals'].keys()"
   ]
  },
  {
   "cell_type": "markdown",
   "id": "e7ee5cf7",
   "metadata": {},
   "source": [
    "#### 16. Print the values for life[&#39;animals&#39;][&#39;cats&#39;]\n",
    "#### Ans."
   ]
  },
  {
   "cell_type": "code",
   "execution_count": 16,
   "id": "1c960464",
   "metadata": {},
   "outputs": [
    {
     "data": {
      "text/plain": [
       "['Henri', 'Grumpy', 'Lucy']"
      ]
     },
     "execution_count": 16,
     "metadata": {},
     "output_type": "execute_result"
    }
   ],
   "source": [
    "life['animals']['cats']"
   ]
  },
  {
   "cell_type": "code",
   "execution_count": null,
   "id": "ca217c28",
   "metadata": {},
   "outputs": [],
   "source": []
  }
 ],
 "metadata": {
  "kernelspec": {
   "display_name": "Python 3 (ipykernel)",
   "language": "python",
   "name": "python3"
  },
  "language_info": {
   "codemirror_mode": {
    "name": "ipython",
    "version": 3
   },
   "file_extension": ".py",
   "mimetype": "text/x-python",
   "name": "python",
   "nbconvert_exporter": "python",
   "pygments_lexer": "ipython3",
   "version": "3.10.0"
  }
 },
 "nbformat": 4,
 "nbformat_minor": 5
}
