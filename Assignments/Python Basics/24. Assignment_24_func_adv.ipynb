{
 "cells": [
  {
   "cell_type": "markdown",
   "id": "9fe7902c",
   "metadata": {},
   "source": [
    "# Assignment 24"
   ]
  },
  {
   "cell_type": "markdown",
   "id": "ce34ba5f",
   "metadata": {},
   "source": [
    "#### 1. What is the relationship between def statements and lambda expressions ?\n",
    "#### Ans."
   ]
  },
  {
   "cell_type": "markdown",
   "id": "48f2c4ec",
   "metadata": {},
   "source": [
    "`def` statement is use to define a function, whereas lambda expressions are anonymous functions, which are not re-used and created to execute once without allocation space in memory.\n",
    "\n",
    "A lambda function is a small anonymous function.\n",
    "A lambda function can take any number of arguments, but can only have one expression."
   ]
  },
  {
   "cell_type": "markdown",
   "id": "bd6cf97b",
   "metadata": {},
   "source": [
    "#### 2. What is the benefit of lambda?\n",
    "#### Ans."
   ]
  },
  {
   "cell_type": "markdown",
   "id": "03b8a874",
   "metadata": {},
   "source": [
    "The power of lambda is better shown when you use them as an anonymous function inside another function. Use lambda functions when an anonymous function is required for a short period of time."
   ]
  },
  {
   "cell_type": "markdown",
   "id": "53425bec",
   "metadata": {},
   "source": [
    "#### 3. Compare and contrast map, filter, and reduce.\n",
    "#### Ans."
   ]
  },
  {
   "cell_type": "markdown",
   "id": "c5d4c3f2",
   "metadata": {},
   "source": [
    "`map()`: It returns a map object(which is an iterator) of the results after applying the given function to each item of a given iterable (list, tuple etc.)\n",
    "`filter()`: The `filter()` method filters the given sequence with the help of a function that tests each element in the sequence to be true or not.\n",
    "reduce(): The `reduce(fun,seq)` function is used to apply a particular function passed in its argument to all of the list elements mentioned in the sequence passed along. This function is defined in “functools” module."
   ]
  },
  {
   "cell_type": "markdown",
   "id": "51fae681",
   "metadata": {},
   "source": [
    "#### 4. What are function annotations, and how are they used?\n",
    "#### Ans."
   ]
  },
  {
   "cell_type": "markdown",
   "id": "2b645258",
   "metadata": {},
   "source": [
    "Function annotations are arbitrary python expressions that are associated with various part of functions. These expressions are evaluated at compile time and have no life in python’s runtime environment. Python does not attach any meaning to these annotations. They take life when interpreted by third party libraries, for example, mypy.\n",
    "\n",
    "`[def foo(a:”int”, b:”float”=5.0)  -> ”int”]`"
   ]
  },
  {
   "cell_type": "markdown",
   "id": "2359d8cf",
   "metadata": {},
   "source": [
    "#### 5. What are recursive functions, and how are they used?\n",
    "#### Ans."
   ]
  },
  {
   "cell_type": "markdown",
   "id": "f390dec2",
   "metadata": {},
   "source": [
    "Recursion is the process of defining something in terms of itself. The term Recursion can be defined as the process of defining something in terms of itself. In simple words, it is a process in which a function calls itself directly or indirectly."
   ]
  },
  {
   "cell_type": "code",
   "execution_count": 1,
   "id": "3cfa1fe2",
   "metadata": {},
   "outputs": [
    {
     "name": "stdout",
     "output_type": "stream",
     "text": [
      "Fibonacci series:\n",
      "0\n",
      "1\n",
      "1\n",
      "2\n",
      "3\n",
      "5\n",
      "8\n",
      "13\n",
      "21\n",
      "34\n"
     ]
    }
   ],
   "source": [
    "# Recursive function\n",
    "def recursive_fibonacci(n):\n",
    "  if n <= 1:\n",
    "      return n\n",
    "  else:\n",
    "      return(recursive_fibonacci(n-1) + recursive_fibonacci(n-2))\n",
    " \n",
    "n_terms = 10\n",
    " \n",
    "# check if the number of terms is valid\n",
    "if n_terms <= 0:\n",
    "  print(\"Invalid input ! Please input a positive value\")\n",
    "else:\n",
    "  print(\"Fibonacci series:\")\n",
    "for i in range(n_terms):\n",
    "    print(recursive_fibonacci(i))"
   ]
  },
  {
   "cell_type": "markdown",
   "id": "bb84768c",
   "metadata": {},
   "source": [
    "#### 6. What are some general design guidelines for coding functions?\n",
    "#### Ans."
   ]
  },
  {
   "cell_type": "markdown",
   "id": "15a689e2",
   "metadata": {},
   "source": [
    "Some of the general design guidelines for coding functions are:\n",
    "\n",
    "Use 4 spaces instead of tabs.\n",
    "Maximum line length is 120 symbols.\n",
    "2 blank lines between classes and functions.\n",
    "1 blank line within class between class methods.\n",
    "No blank line following a def line.\n",
    "No whitespace inside parentheses, brackets, or braces.\n",
    "\n",
    "Safe: It can be used without causing harm.\n",
    "Secure: It can't be hacked.\n",
    "Reliable: It functions as it should, every time.\n",
    "Testable: It can be tested at the code level.\n",
    "Maintainable: It can be maintained, even as your codebase grows.\n",
    "Follow PEP-8, a document that provides guidelines and best practices on how to write Python code"
   ]
  },
  {
   "cell_type": "markdown",
   "id": "95676015",
   "metadata": {},
   "source": [
    "#### 7. Name three or more ways that functions can communicate results to a caller.\n",
    "#### Ans."
   ]
  },
  {
   "cell_type": "markdown",
   "id": "7dbccf57",
   "metadata": {},
   "source": [
    "Some of the ways in which a function can communicate with the calling function is:\n",
    "\n",
    "`print`, `return`, `yield`"
   ]
  },
  {
   "cell_type": "code",
   "execution_count": null,
   "id": "ed80dd44",
   "metadata": {},
   "outputs": [],
   "source": []
  }
 ],
 "metadata": {
  "kernelspec": {
   "display_name": "Python 3 (ipykernel)",
   "language": "python",
   "name": "python3"
  },
  "language_info": {
   "codemirror_mode": {
    "name": "ipython",
    "version": 3
   },
   "file_extension": ".py",
   "mimetype": "text/x-python",
   "name": "python",
   "nbconvert_exporter": "python",
   "pygments_lexer": "ipython3",
   "version": "3.10.0"
  }
 },
 "nbformat": 4,
 "nbformat_minor": 5
}
