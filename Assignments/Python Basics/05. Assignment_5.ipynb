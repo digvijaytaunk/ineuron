{
 "cells": [
  {
   "cell_type": "markdown",
   "id": "759fed8f",
   "metadata": {},
   "source": [
    "# Assignment - 5"
   ]
  },
  {
   "cell_type": "markdown",
   "id": "0a6733e1",
   "metadata": {},
   "source": [
    "##### 1. What does an empty dictionary&#39;s code look like?\n",
    "#### Ans. \n",
    "`d = dict()`\n",
    "\n",
    "\n",
    "##### 2. What is the value of a dictionary value with the key &#39;foo&#39; and the value 42?\n",
    "\n",
    "#### Ans. "
   ]
  },
  {
   "cell_type": "code",
   "execution_count": null,
   "id": "5994bccb",
   "metadata": {},
   "outputs": [],
   "source": [
    "d = {'foo': 42}"
   ]
  },
  {
   "cell_type": "markdown",
   "id": "ce146753",
   "metadata": {},
   "source": [
    "##### 3. What is the most significant distinction between a dictionary and a list?\n",
    "\n",
    "#### Ans. \n",
    "dictionary is an unordered list of key and value pair whereas the list is ordered list contains 1 object as 1 element.\n",
    "\n",
    "##### 4. What happens if you try to access spam[&#39;foo&#39;] if spam is {&#39;bar&#39;: 100}?\n",
    "\n",
    "#### Ans. \n",
    "throw a `key not found` error\n",
    "\n",
    "\n",
    "##### 5. If a dictionary is stored in spam, what is the difference between the expressions &#39;cat&#39; in spam and &#39;cat&#39; in spam.keys()?\n",
    "\n",
    "#### Ans. \n",
    "`spam.keys()` returns a list and `in` operator in `'cat' in spam.keys()` expression checks the containment of elemetn in that list, whereas `'cat in spam` expression searches the key in the dictionary.\n",
    "\n",
    "##### 6. If a dictionary is stored in spam, what is the difference between the expressions &#39;cat&#39; in spam and &#39;cat&#39; in spam.values()?\n",
    "\n",
    "#### Ans. \n",
    "Expression `'cat' in spam.values()` search the `'cat'` in the list of all the values of the dictionary. Whereas by default `'cat' in spam` search the 'cat' in all the `keys`.\n",
    "\n",
    "\n",
    "##### 7. What is a shortcut for the following code?\n",
    "if &#39;color&#39; not in spam:\n",
    "spam[&#39;color&#39;] = &#39;black&#39;\n",
    "\n",
    "#### Ans. \n",
    "Use `spam.setdefault()` function which adds a new key vlue pair if key is not present."
   ]
  },
  {
   "cell_type": "code",
   "execution_count": 3,
   "id": "cbd452d6",
   "metadata": {},
   "outputs": [
    {
     "data": {
      "text/plain": [
       "{'k1': '1', 'color': 'black'}"
      ]
     },
     "execution_count": 3,
     "metadata": {},
     "output_type": "execute_result"
    }
   ],
   "source": [
    "spam = {'k1': '1'}\n",
    "spam.setdefault('color', 'black')\n",
    "spam"
   ]
  },
  {
   "cell_type": "markdown",
   "id": "993c3860",
   "metadata": {},
   "source": [
    "8. How do you &quot;pretty print&quot; dictionary values using which module and function?"
   ]
  },
  {
   "cell_type": "code",
   "execution_count": 15,
   "id": "ffe829fb",
   "metadata": {},
   "outputs": [
    {
     "name": "stdout",
     "output_type": "stream",
     "text": [
      "{\n",
      "    \"k1\": \"1\",\n",
      "    \"color\": \"black\"\n",
      "}\n"
     ]
    }
   ],
   "source": [
    "import json\n",
    "print(json.dumps(spam, indent=4))"
   ]
  }
 ],
 "metadata": {
  "kernelspec": {
   "display_name": "Python 3 (ipykernel)",
   "language": "python",
   "name": "python3"
  },
  "language_info": {
   "codemirror_mode": {
    "name": "ipython",
    "version": 3
   },
   "file_extension": ".py",
   "mimetype": "text/x-python",
   "name": "python",
   "nbconvert_exporter": "python",
   "pygments_lexer": "ipython3",
   "version": "3.10.0"
  }
 },
 "nbformat": 4,
 "nbformat_minor": 5
}
