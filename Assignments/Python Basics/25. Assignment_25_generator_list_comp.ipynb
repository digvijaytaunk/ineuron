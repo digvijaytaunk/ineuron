{
 "cells": [
  {
   "cell_type": "markdown",
   "id": "9fe7902c",
   "metadata": {},
   "source": [
    "# Assignment 25"
   ]
  },
  {
   "cell_type": "markdown",
   "id": "ce34ba5f",
   "metadata": {},
   "source": [
    "#### 1.  What is the difference between enclosing a list comprehension in square brackets and parentheses?\n",
    "#### Ans."
   ]
  },
  {
   "cell_type": "markdown",
   "id": "85114c27",
   "metadata": {},
   "source": [
    "Enclosing a list comprehension in square brackets - Returns a List object\n",
    "Enclosing in parentheses - Returns a generator  object"
   ]
  },
  {
   "cell_type": "code",
   "execution_count": 1,
   "id": "b6b6bb37",
   "metadata": {},
   "outputs": [
    {
     "name": "stdout",
     "output_type": "stream",
     "text": [
      "[0, 1, 2, 3, 4, 5, 6, 7, 8, 9]\n",
      "<class 'list'>\n",
      "[0, 1, 2, 3, 4, 5, 6, 7, 8, 9]\n",
      "<class 'generator'>\n"
     ]
    }
   ],
   "source": [
    "l_comp = [i for i in range(10)]\n",
    "print(l_comp)\n",
    "print(type(l_comp))\n",
    "\n",
    "\n",
    "gen = (i for i in range(10))\n",
    "print(list(gen))\n",
    "print(type(gen))"
   ]
  },
  {
   "cell_type": "markdown",
   "id": "bd6cf97b",
   "metadata": {},
   "source": [
    "#### 2. What is the relationship between generators and iterators?\n",
    "#### Ans."
   ]
  },
  {
   "cell_type": "markdown",
   "id": "89b2d97f",
   "metadata": {},
   "source": [
    "**Generator-Function** : A type of function that is memory efficient and can be used like an iterator object. A generator-function is defined like a normal function, but whenever it needs to generate a value, it does so with the yield keyword rather than return. If the body of a def contains yield, the function automatically becomes a generator function.\n",
    "\n",
    "**__iter(iterable)__** method that is called for the initialization of an iterator. This returns an iterator object\n",
    "**next ( __next__ in Python 3)** The next method returns the next value for the iterable. When we use a for loop to traverse any iterable object, internally it uses the iter() method to get an iterator object which further uses next() method to iterate over. This method raises a StopIteration to signal the end of the iteration."
   ]
  },
  {
   "cell_type": "code",
   "execution_count": 2,
   "id": "1cbb0838",
   "metadata": {},
   "outputs": [
    {
     "name": "stdout",
     "output_type": "stream",
     "text": [
      "1\n",
      "2\n",
      "3\n"
     ]
    }
   ],
   "source": [
    "# Generator\n",
    "def simpleGeneratorFun():\n",
    "    yield 1            \n",
    "    yield 2            \n",
    "    yield 3            \n",
    "   \n",
    "# Driver code to check above generator function\n",
    "for value in simpleGeneratorFun(): \n",
    "    print(value)"
   ]
  },
  {
   "cell_type": "code",
   "execution_count": 3,
   "id": "f2d3f630",
   "metadata": {},
   "outputs": [
    {
     "name": "stdout",
     "output_type": "stream",
     "text": [
      "D\n",
      "i\n",
      "g\n",
      "i\n",
      "v\n",
      "j\n",
      "a\n",
      "y\n"
     ]
    }
   ],
   "source": [
    "# iterators\n",
    "iterable_value = 'Digivjay'\n",
    "iterable_obj = iter(iterable_value)\n",
    " \n",
    "while True:\n",
    "    try:\n",
    " \n",
    "        # Iterate by calling next\n",
    "        item = next(iterable_obj)\n",
    "        print(item)\n",
    "    except StopIteration:\n",
    " \n",
    "        # exception will happen when iteration will over\n",
    "        break"
   ]
  },
  {
   "cell_type": "markdown",
   "id": "53425bec",
   "metadata": {},
   "source": [
    "#### 3. What are the signs that a function is a generator function?\n",
    "#### Ans."
   ]
  },
  {
   "cell_type": "markdown",
   "id": "12fc0067",
   "metadata": {},
   "source": [
    "In generator function, `yield` keyword is used. A generator function will always return an iterable object called generator."
   ]
  },
  {
   "cell_type": "markdown",
   "id": "51fae681",
   "metadata": {},
   "source": [
    "#### 4. What is the purpose of a yield statement?\n",
    "#### Ans."
   ]
  },
  {
   "cell_type": "markdown",
   "id": "9813ea24",
   "metadata": {},
   "source": [
    "The `yield` keyword will turn any expression that is given with it into a generator object and return it to the caller. Therefore, you must iterate over the generator object if you wish to obtain the values stored there."
   ]
  },
  {
   "cell_type": "markdown",
   "id": "2359d8cf",
   "metadata": {},
   "source": [
    "#### 5. What is the relationship between map calls and list comprehensions? Make a comparison and contrast between the two.\n",
    "#### Ans."
   ]
  },
  {
   "cell_type": "markdown",
   "id": "23501239",
   "metadata": {},
   "source": [
    "Map VS List Comprehension\n",
    "* List comprehension is more concise and easier to read as compared to map.\n",
    "* List comprehension allows filtering. In map, we have no such facility. For example, to print all even numbers in range of 100, we can write \n",
    "\n",
    "`[n for n in range(100) if n%2 == 0]`. There is no alternate for it in map\n",
    "* List comprehension are used when a list of results is required as map only returns a map object and does not return any list.\n",
    "* List comprehension is faster than map when we need to evaluate expressions that are too long or complicated to express\n",
    "* Map is faster in case of calling an already defined function (as no lambda is required)."
   ]
  },
  {
   "cell_type": "code",
   "execution_count": null,
   "id": "810ba9c3",
   "metadata": {},
   "outputs": [],
   "source": []
  }
 ],
 "metadata": {
  "kernelspec": {
   "display_name": "Python 3 (ipykernel)",
   "language": "python",
   "name": "python3"
  },
  "language_info": {
   "codemirror_mode": {
    "name": "ipython",
    "version": 3
   },
   "file_extension": ".py",
   "mimetype": "text/x-python",
   "name": "python",
   "nbconvert_exporter": "python",
   "pygments_lexer": "ipython3",
   "version": "3.10.5"
  }
 },
 "nbformat": 4,
 "nbformat_minor": 5
}
