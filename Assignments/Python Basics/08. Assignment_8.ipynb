{
 "cells": [
  {
   "cell_type": "markdown",
   "id": "3f247421",
   "metadata": {},
   "source": [
    "# Assignment - 8\n",
    "\n",
    "#### 1. Is the Python Standard Library included with PyInputPlus?\n",
    "\n",
    "##### Ans.\n",
    "\n",
    "No, its an external library and needs to install using `pip install PyInputPlus`\n",
    "\n",
    "\n",
    "#### 2. Why is PyInputPlus commonly imported with import pyinputplus as pypi?\n",
    "\n",
    "##### Ans.\n",
    "\n",
    "`pypi` is an aliase assigned to the module name while importing to shorten its name. \n",
    "\n",
    "\n",
    "#### 3. How do you distinguish between inputInt() and inputFloat()?\n",
    "\n",
    "##### Ans.\n",
    "\n",
    "`inputInt()` Prompts the user to enter an integer value. Returns the integer as an int value.\n",
    "\n",
    "`inputFloat()` Prompts the user to enter a floating point number value. Returns the number as a float.\n",
    "\n",
    "Both functions can take optional parametrs like `prompt` to display message while taking input and `min`, `max`, `lessThan`, `greaterThan`, `limit` , for input validation.\n",
    "\n",
    "\n",
    "#### 4. Using PyInputPlus, how do you ensure that the user enters a whole number between 0 and 99?\n",
    "\n",
    "##### Ans.\n",
    "\n",
    "By using `inputint()` function along with additional parameter `min` & `max`. "
   ]
  },
  {
   "cell_type": "code",
   "execution_count": 7,
   "id": "82ac4ad4",
   "metadata": {},
   "outputs": [
    {
     "name": "stdout",
     "output_type": "stream",
     "text": [
      "Enter whole number between 0 & 99 \n",
      "63\n"
     ]
    }
   ],
   "source": [
    "import pyinputplus as pyip\n",
    "\n",
    "wn = pyip.inputInt(prompt=\"Enter whole number between 0 & 99 \\n\", min=0, max=99)"
   ]
  },
  {
   "cell_type": "markdown",
   "id": "ed6f8139",
   "metadata": {},
   "source": [
    "#### 5. What is transferred to the keyword arguments allowRegexes and blockRegexes?\n",
    "\n",
    "##### Ans.\n",
    "\n",
    "Regexes are used to match the pattern of input character. `allowRegexes` & `blockRegexes` will either allow or block user to enter or restrict string based on the regex. Regex pattern are passed to these arguments.\n",
    "\n",
    "\n",
    "#### 6. If a blank input is entered three times, what does inputStr(limit=3) do?\n",
    "\n",
    "##### Ans.\n",
    "\n",
    "It will throw two exceptions `RetryLimitException` & `ValidationException`. `RetryLimitException` because of reaching maximum limit for accepting input. After that it tries to look for `default` and `blank`, `blank` is set to `False` by default so it tries to set None value with causes `ValidationException`.\n",
    "\n",
    "To avoid exception a `default` value must be set and `blank` is set to `False`\n",
    "\n",
    "\n",
    "#### 7. If blank input is entered three times, what does inputStr(limit=3, default=&#39;hello&#39;) do?\n",
    "\n",
    "##### Ans.\n",
    "\n",
    "Because of `default='hello` after blank inputs, instead of raising `RetryLimitException` exception, the function will return hello in response."
   ]
  }
 ],
 "metadata": {
  "kernelspec": {
   "display_name": "Python 3 (ipykernel)",
   "language": "python",
   "name": "python3"
  },
  "language_info": {
   "codemirror_mode": {
    "name": "ipython",
    "version": 3
   },
   "file_extension": ".py",
   "mimetype": "text/x-python",
   "name": "python",
   "nbconvert_exporter": "python",
   "pygments_lexer": "ipython3",
   "version": "3.10.0"
  }
 },
 "nbformat": 4,
 "nbformat_minor": 5
}
