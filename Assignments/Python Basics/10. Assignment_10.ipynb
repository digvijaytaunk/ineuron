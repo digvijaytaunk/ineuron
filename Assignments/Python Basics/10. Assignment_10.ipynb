{
 "cells": [
  {
   "cell_type": "markdown",
   "id": "bee7b0c7",
   "metadata": {},
   "source": [
    "# Assignment - 10\n",
    "\n",
    "\n",
    "\n",
    "#### 1. How do you distinguish between shutil.copy() and shutil.copytree()?\n",
    "\n",
    "#### Ans.\n",
    "\n",
    "**Shutil module** included in Python’s standard utility modules provides many functions of high-level operations on files and collections of files. This module helps in automating process of copying and removal of files and directories.\n",
    "\n",
    "Both methods `shutil.copy()` & `shutil.copytree()` takes 2 parameters, source and destination.\n",
    "\n",
    "`shutil.copy()` method in Python is used to copy the content of source file to destination file or directory.\n",
    "\n",
    "`shutil.copytree()` method recursively copies an entire directory tree rooted at source (src) to the destination directory. The destination directory, named by (dst) must not already exist. \n",
    "\n",
    "\n",
    "#### 2. What function is used to rename files??\n",
    "\n",
    "#### Ans.\n",
    "`os.rename()` function is used to rename the file. It takes 2 arguments `src` for the source file name whose name is to be changed and `dest` is the new name to change to.\n",
    "\n",
    "\n",
    "#### 3. What is the difference between the delete functions in the send2trash and shutil modules?\n",
    "\n",
    "#### Ans.\n",
    "\n",
    "Using send2trash, we can send files to the Trash or Recycle Bin instead of permanently deleting them. This can be called by `send2trash.send2trash()`\n",
    "\n",
    "Shututil provides a function `shutil.rmtree()` to delete directory and all its content. Directory deleted with this funtion cannot be recovered back. \n",
    "\n",
    "\n",
    "#### 4. ZipFile objects have a close() method just like File objects’ close() method. What ZipFile method is equivalent to File objects’ open() method?\n",
    "\n",
    "#### Ans."
   ]
  },
  {
   "cell_type": "code",
   "execution_count": null,
   "id": "e05e0e56",
   "metadata": {},
   "outputs": [],
   "source": [
    "with zipfile.ZipFile('spam.zip', 'w') as zp:\n",
    "    zp.write(r'C:\\temp\\spam.txt')"
   ]
  },
  {
   "cell_type": "markdown",
   "id": "47c7205c",
   "metadata": {},
   "source": [
    "#### 5. Create a programme that searches a folder tree for files with a certain file extension (such as .pdf or .jpg). Copy these files from whatever location they are in to a new folder.\n",
    "\n",
    "#### Ans."
   ]
  },
  {
   "cell_type": "code",
   "execution_count": 2,
   "id": "e953f911",
   "metadata": {},
   "outputs": [],
   "source": [
    "import os\n",
    "import shutil\n",
    "\n",
    "def get_clean_extension(ext):\n",
    "    \"\"\"\n",
    "    Removes . if includes in extension.\n",
    "    \"\"\"\n",
    "    if '.' in ext:\n",
    "        return ext.replace('.', '')\n",
    "    return ext\n",
    "\n",
    "\n",
    "def deep_search_and_copy(src, dest, filters):\n",
    "    \"\"\"\n",
    "    Traverse through the directory structure and copy the files with\n",
    "    specified file extension from source to destination path.\n",
    "    \"\"\"\n",
    "    file_paths = []\n",
    "    cleaned_filter = [get_clean_extension(ext) for ext in filters]\n",
    "\n",
    "    for root, directories, files in os.walk(src):\n",
    "        for filename in files:\n",
    "            ext = filename.split('.')[-1]\n",
    "            if ext in cleaned_filter:\n",
    "                filepath = os.path.join(root, filename)\n",
    "                file_paths.append(filepath)\n",
    "                shutil.copy(filepath, dest)"
   ]
  },
  {
   "cell_type": "code",
   "execution_count": null,
   "id": "60072896",
   "metadata": {},
   "outputs": [],
   "source": [
    "src = r'C:\\temp\\spam'\n",
    "dest = r'D:\\temp\\spam'\n",
    "ext_list = ['pdf', '.jpg']\n",
    "deep_search_and_copy(src, dest, ext_list)"
   ]
  }
 ],
 "metadata": {
  "kernelspec": {
   "display_name": "Python 3 (ipykernel)",
   "language": "python",
   "name": "python3"
  },
  "language_info": {
   "codemirror_mode": {
    "name": "ipython",
    "version": 3
   },
   "file_extension": ".py",
   "mimetype": "text/x-python",
   "name": "python",
   "nbconvert_exporter": "python",
   "pygments_lexer": "ipython3",
   "version": "3.10.0"
  }
 },
 "nbformat": 4,
 "nbformat_minor": 5
}
