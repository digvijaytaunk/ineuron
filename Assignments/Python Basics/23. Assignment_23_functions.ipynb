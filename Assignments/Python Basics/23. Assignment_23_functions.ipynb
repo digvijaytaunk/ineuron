{
 "cells": [
  {
   "cell_type": "markdown",
   "id": "c4e814c0",
   "metadata": {},
   "source": [
    "# Assignment 23"
   ]
  },
  {
   "cell_type": "markdown",
   "id": "dd8d6804",
   "metadata": {},
   "source": [
    "#### 1. What is the result of the code, and why?\n",
    "&gt;&gt;&gt; def func(a, b=6, c=8):\n",
    "print(a, b, c)\n",
    "&gt;&gt;&gt; func(1, 2)\n",
    "#### Ans."
   ]
  },
  {
   "cell_type": "code",
   "execution_count": 1,
   "id": "3b60c414",
   "metadata": {},
   "outputs": [
    {
     "name": "stdout",
     "output_type": "stream",
     "text": [
      "1 2 8\n"
     ]
    }
   ],
   "source": [
    "def func(a, b=6, c=8):  # Function defintion with optional arguments a is input arg, and b & c with default value of 6 & 8 respt.\n",
    "    print(a, b, c) \n",
    "    \n",
    "func(1, 2) # Function call with parameter a=1 & b=2. Not passing third parameter will set c=8 by default"
   ]
  },
  {
   "cell_type": "markdown",
   "id": "1ed194bb",
   "metadata": {},
   "source": [
    "#### 2. What is the result of this code, and why?\n",
    "&gt;&gt;&gt; def func(a, b, c=5):\n",
    "print(a, b, c)\n",
    "&gt;&gt;&gt; func(1, c=3, b=2)\n",
    "#### Ans."
   ]
  },
  {
   "cell_type": "code",
   "execution_count": 2,
   "id": "be5ccdf4",
   "metadata": {},
   "outputs": [
    {
     "name": "stdout",
     "output_type": "stream",
     "text": [
      "1 2 3\n"
     ]
    }
   ],
   "source": [
    "def func(a, b, c=5): # Function defintion with optional arguments a,b as input arg, and c with default value of 58.\n",
    "    print(a, b, c)\n",
    "    \n",
    "func(1, c=3, b=2) # calling function with passing named args will assign c=3 & b=2 set in any order. first arg assigned to a"
   ]
  },
  {
   "cell_type": "markdown",
   "id": "38321413",
   "metadata": {},
   "source": [
    "#### 3. How about this code: what is its result, and why?\n",
    "&gt;&gt;&gt; def func(a, *pargs):\n",
    "print(a, pargs)\n",
    "&gt;&gt;&gt; func(1, 2, 3)\n",
    "#### Ans."
   ]
  },
  {
   "cell_type": "code",
   "execution_count": 3,
   "id": "5e23c11e",
   "metadata": {},
   "outputs": [
    {
     "name": "stdout",
     "output_type": "stream",
     "text": [
      "1 (2, 3)\n"
     ]
    }
   ],
   "source": [
    "def func(a, *pargs): # * marked args are of tuple type and can take any number of variables passed to it. \n",
    "    print(a, pargs)\n",
    "\n",
    "func(1, 2, 3)"
   ]
  },
  {
   "cell_type": "markdown",
   "id": "3b255ac7",
   "metadata": {},
   "source": [
    "#### 4. What does this code print, and why?\n",
    "&gt;&gt;&gt; def func(a, **kargs):\n",
    "print(a, kargs)\n",
    "&gt;&gt;&gt; func(a=1, c=3, b=2)\n",
    "#### Ans."
   ]
  },
  {
   "cell_type": "code",
   "execution_count": 4,
   "id": "e2dabd14",
   "metadata": {},
   "outputs": [
    {
     "name": "stdout",
     "output_type": "stream",
     "text": [
      "1 {'c': 3, 'b': 2}\n"
     ]
    }
   ],
   "source": [
    "def func(a, **kargs): # ** marked args are of dictionary type and can take any number of key & value paired passed to it. \n",
    "    print(a, kargs)\n",
    "    \n",
    "func(a=1, c=3, b=2)"
   ]
  },
  {
   "cell_type": "markdown",
   "id": "866086b5",
   "metadata": {},
   "source": [
    "#### 5. What gets printed by this, and explain?\n",
    "&gt;&gt;&gt; def func(a, b, c=8, d=5): print(a, b, c, d)\n",
    "&gt;&gt;&gt; func(1, *(5, 6))\n",
    "#### Ans."
   ]
  },
  {
   "cell_type": "code",
   "execution_count": 5,
   "id": "38f6dd6f",
   "metadata": {},
   "outputs": [
    {
     "name": "stdout",
     "output_type": "stream",
     "text": [
      "1 5 6 5\n"
     ]
    }
   ],
   "source": [
    "def func(a, b, c=8, d=5): # \n",
    "    print(a, b, c, d)\n",
    "    \n",
    "    \n",
    "func(1, *(5, 6)) # 1 is passed to a, * maked 5 & 6 will be assigned to b & c respt. & default value of d remians 5 "
   ]
  },
  {
   "cell_type": "markdown",
   "id": "cc5e9aa1",
   "metadata": {},
   "source": [
    "\n",
    "\n",
    "#### 6. what is the result of this, and explain?\n",
    "&gt;&gt;&gt; def func(a, b, c): a = 2; b[0] = &#39;x&#39;; c[&#39;a&#39;] = &#39;y&#39;\n",
    "&gt;&gt;&gt; l=1; m=[1]; n={&#39;a&#39;:0}\n",
    "&gt;&gt;&gt; func(l, m, n)\n",
    "\n",
    "&gt;&gt;&gt; l, m, n\n",
    "#### Ans."
   ]
  },
  {
   "cell_type": "code",
   "execution_count": 6,
   "id": "fa666e90",
   "metadata": {},
   "outputs": [
    {
     "data": {
      "text/plain": [
       "(1, ['x'], {'a': 'y'})"
      ]
     },
     "execution_count": 6,
     "metadata": {},
     "output_type": "execute_result"
    }
   ],
   "source": [
    "def func(a, b, c):  # takes 3 arguments\n",
    "    a = 2 # creates new local variable\n",
    "    b[0] = 'x' # takes zeroth element of list passsed in b & reassign value to 'x'\n",
    "    c['a'] = 'y'  # For key 'a' in passed dictionary as a c arg, sets the value to 'y'\n",
    "    \n",
    "    \n",
    "# Initialised values\n",
    "l=1; \n",
    "m=[1]; \n",
    "n={'a':0}\n",
    "\n",
    "# function call passed with above parameters \n",
    "func(l, m, n)\n",
    "l, m, n  # l variable is not changed by func as it creates a local variable inside function."
   ]
  },
  {
   "cell_type": "code",
   "execution_count": null,
   "id": "90e16d09",
   "metadata": {},
   "outputs": [],
   "source": []
  }
 ],
 "metadata": {
  "kernelspec": {
   "display_name": "Python 3 (ipykernel)",
   "language": "python",
   "name": "python3"
  },
  "language_info": {
   "codemirror_mode": {
    "name": "ipython",
    "version": 3
   },
   "file_extension": ".py",
   "mimetype": "text/x-python",
   "name": "python",
   "nbconvert_exporter": "python",
   "pygments_lexer": "ipython3",
   "version": "3.10.0"
  }
 },
 "nbformat": 4,
 "nbformat_minor": 5
}
