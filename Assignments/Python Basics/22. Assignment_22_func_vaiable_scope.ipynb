{
 "cells": [
  {
   "cell_type": "markdown",
   "id": "3202125a",
   "metadata": {},
   "source": [
    "# Assignment 22"
   ]
  },
  {
   "cell_type": "markdown",
   "id": "14be489b",
   "metadata": {},
   "source": [
    "#### 1. What is the result of the code, and explain?\n",
    "\n",
    "&gt;&gt;&gt; X = &#39;iNeuron&#39;\n",
    "&gt;&gt;&gt; def func():\n",
    "print(X)\n",
    "\n",
    "&gt;&gt;&gt; func()\n",
    "\n",
    "#### Ans."
   ]
  },
  {
   "cell_type": "code",
   "execution_count": 1,
   "id": "18704ef3",
   "metadata": {},
   "outputs": [
    {
     "name": "stdout",
     "output_type": "stream",
     "text": [
      "iNeuron\n"
     ]
    }
   ],
   "source": [
    "X = 'iNeuron' # Step -1 Assign oNeuron to X variable\n",
    "\n",
    "# define a funtion to print the passed argument\n",
    "def func():  # Step -3 Run function\n",
    "    print(X) # Step -4 Execute print statement\n",
    "\n",
    "# Step -2 Calling the funtion\n",
    "func()"
   ]
  },
  {
   "cell_type": "markdown",
   "id": "23bc9afb",
   "metadata": {},
   "source": [
    "#### 2. What is the result of the code, and explain?\n",
    "\n",
    "&gt;&gt;&gt; X = &#39;iNeuron&#39;\n",
    "&gt;&gt;&gt; def func():\n",
    "X = &#39;NI!&#39;\n",
    "\n",
    "&gt;&gt;&gt; func()\n",
    "&gt;&gt;&gt; print(X)\n",
    "\n",
    "#### Ans."
   ]
  },
  {
   "cell_type": "code",
   "execution_count": 2,
   "id": "95c64ee4",
   "metadata": {},
   "outputs": [
    {
     "name": "stdout",
     "output_type": "stream",
     "text": [
      "iNeuron\n"
     ]
    }
   ],
   "source": [
    "X = 'iNeuron' # Global variable with value iNeuron\n",
    "\n",
    "def func(): \n",
    "    X = 'NI!' # Function scoped variable assigning value NI\n",
    "    \n",
    "func() # call function func() doesnot change the global X vaiable \n",
    "print(X) # prints the Global X "
   ]
  },
  {
   "cell_type": "markdown",
   "id": "ae67ec7f",
   "metadata": {},
   "source": [
    "#### 3. What does this code print, and why?\n",
    "\n",
    "&gt;&gt;&gt; X = &#39;iNeuron&#39;\n",
    "&gt;&gt;&gt; def func():\n",
    "X = &#39;NI&#39;\n",
    "print(X)\n",
    "\n",
    "&gt;&gt;&gt; func()\n",
    "&gt;&gt;&gt; print(X)\n",
    "#### Ans."
   ]
  },
  {
   "cell_type": "code",
   "execution_count": 3,
   "id": "5d5864c0",
   "metadata": {},
   "outputs": [
    {
     "name": "stdout",
     "output_type": "stream",
     "text": [
      "NI\n",
      "iNeuron\n"
     ]
    }
   ],
   "source": [
    "X = 'iNeuron'  # Global variable with value iNeuron\n",
    "def func(): \n",
    "    X = 'NI' # Function scoped variable assigning value NI\n",
    "    print(X) # Prints Local X variable\n",
    "\n",
    "func() # call function func() which prints the local X vaiable inside the function\n",
    "print(X) #  prints the Global X "
   ]
  },
  {
   "cell_type": "markdown",
   "id": "d6c2bf25",
   "metadata": {},
   "source": [
    "#### 4. What output does this code produce? Why?\n",
    "\n",
    "&gt;&gt;&gt; X = &#39;iNeuron&#39;\n",
    "&gt;&gt;&gt; def func():\n",
    "global X\n",
    "X = &#39;NI&#39;\n",
    "\n",
    "&gt;&gt;&gt; func()\n",
    "&gt;&gt;&gt; print(X)\n",
    "#### Ans."
   ]
  },
  {
   "cell_type": "code",
   "execution_count": 4,
   "id": "715526d7",
   "metadata": {},
   "outputs": [
    {
     "name": "stdout",
     "output_type": "stream",
     "text": [
      "NI\n"
     ]
    }
   ],
   "source": [
    "X = 'iNeuron' # Global variable with value iNeuron\n",
    "\n",
    "def func(): \n",
    "    global X #  Reference global X vaiable\n",
    "    X = 'NI' # Re-assign global X to NI \n",
    "\n",
    "func() # Function call changes the vaalue of Global X \n",
    "print(X) # Prints the new value of global X"
   ]
  },
  {
   "cell_type": "markdown",
   "id": "43bee88b",
   "metadata": {},
   "source": [
    "#### 5. What about this code—what’s the output, and why?\n",
    "\n",
    "&gt;&gt;&gt; X = &#39;iNeuron&#39;\n",
    "&gt;&gt;&gt; def func():\n",
    "X = &#39;NI&#39;\n",
    "def nested():\n",
    "print(X)\n",
    "nested()\n",
    "\n",
    "&gt;&gt;&gt; func()\n",
    "&gt;&gt;&gt; X\n",
    "#### Ans."
   ]
  },
  {
   "cell_type": "code",
   "execution_count": 5,
   "id": "1a11d83a",
   "metadata": {},
   "outputs": [
    {
     "name": "stdout",
     "output_type": "stream",
     "text": [
      "NI\n"
     ]
    },
    {
     "data": {
      "text/plain": [
       "'iNeuron'"
      ]
     },
     "execution_count": 5,
     "metadata": {},
     "output_type": "execute_result"
    }
   ],
   "source": [
    "X = 'iNeuron'  # Global variable with value iNeuron\n",
    "\n",
    "def func(): \n",
    "    X = 'NI' # Function 'func' scoped variable assigning value NI\n",
    "\n",
    "    def nested(): # nested fuction inside func()\n",
    "        print(X)  # prints the 'func' scoped X value which is NI\n",
    "    \n",
    "    nested() # calls nested function to print NI\n",
    "\n",
    "func() # func call prints the local scoped X which is NI\n",
    "X  # prints the global scoped X vaalue = iNeuron"
   ]
  },
  {
   "cell_type": "markdown",
   "id": "e792cb47",
   "metadata": {},
   "source": [
    "#### 6. How about this code: what is its output in Python 3, and explain?\n",
    "\n",
    "&gt;&gt;&gt; def func():\n",
    "X = &#39;NI&#39;\n",
    "def nested():\n",
    "nonlocal X\n",
    "X = &#39;Spam&#39;\n",
    "nested()\n",
    "print(X)\n",
    "\n",
    "&gt;&gt;&gt; func()\n",
    "#### Ans."
   ]
  },
  {
   "cell_type": "code",
   "execution_count": 6,
   "id": "db183098",
   "metadata": {},
   "outputs": [
    {
     "name": "stdout",
     "output_type": "stream",
     "text": [
      "Spam\n"
     ]
    }
   ],
   "source": [
    "def func(): \n",
    "    X = 'NI' \n",
    "    def nested(): \n",
    "        nonlocal X # referes the local variable inside the function\n",
    "        X = 'Spam' # re-assign the value of X to spam\n",
    "        \n",
    "    nested() \n",
    "    print(X) # prints new X value\n",
    "\n",
    "func()"
   ]
  },
  {
   "cell_type": "markdown",
   "id": "c769b480",
   "metadata": {},
   "source": [
    "The `nonlocal` keyword is used to work with variables inside nested functions, where the variable should not belong to the inner function.\n",
    "\n",
    "Use the keyword `nonlocal` to declare that the variable is not local."
   ]
  },
  {
   "cell_type": "code",
   "execution_count": null,
   "id": "2782d366",
   "metadata": {},
   "outputs": [],
   "source": []
  }
 ],
 "metadata": {
  "kernelspec": {
   "display_name": "Python 3 (ipykernel)",
   "language": "python",
   "name": "python3"
  },
  "language_info": {
   "codemirror_mode": {
    "name": "ipython",
    "version": 3
   },
   "file_extension": ".py",
   "mimetype": "text/x-python",
   "name": "python",
   "nbconvert_exporter": "python",
   "pygments_lexer": "ipython3",
   "version": "3.10.0"
  }
 },
 "nbformat": 4,
 "nbformat_minor": 5
}
