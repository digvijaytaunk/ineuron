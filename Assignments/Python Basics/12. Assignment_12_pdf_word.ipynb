{
 "cells": [
  {
   "cell_type": "markdown",
   "id": "5e187162",
   "metadata": {},
   "source": [
    "#### 1. In what modes should the PdfFileReader() and PdfFileWriter() File objects will be opened?\n",
    "\n",
    "#### Ans. \n",
    "\n",
    "` PdfFileReader()` - should be opened in `rb` mode (read binary).\n",
    "\n",
    "`PdfFileWriter()` - should be opened in `wb` mode (write binary)."
   ]
  },
  {
   "cell_type": "markdown",
   "id": "ef106cb2",
   "metadata": {},
   "source": [
    "#### 2. From a PdfFileReader object, how do you get a Page object for page 5?\n",
    "\n",
    "#### Ans. "
   ]
  },
  {
   "cell_type": "code",
   "execution_count": 13,
   "id": "cbb3449f",
   "metadata": {},
   "outputs": [
    {
     "data": {
      "text/plain": [
       "'Memory Requirements                                                                                           441Pooling Layer                                                                                                                442TensorFlow Implementation                                                                                  444CNN Architectures                                                                                                      446LeNet-5                                                                                                                      449AlexNet                                                                                                                      450GoogLeNet                                                                                                                452VGGNet                                                                                                                     456ResNet                                                                                                                        457Xception                                                                                                                    459SENet                                                                                                                         461Implementing a ResNet-34 CNN Using Keras                                                        464Using Pretrained Models From Keras                                                                      465Pretrained Models for Transfer Learning                                                                 467Classification and Localization                                                                                  469Object Detection                                                                                                          471Fully Convolutional Networks (FCNs)                                                                 473Y ou Only Look Once (YOLO)                                                                                475Semantic Segmentation                                                                                               478Exercises                                                                                                                        482\\nx | Table of Contents'"
      ]
     },
     "execution_count": 13,
     "metadata": {},
     "output_type": "execute_result"
    }
   ],
   "source": [
    "from PyPDF2 import PdfFileReader\n",
    "\n",
    "reader = PdfFileReader(\"H:\\ML\\iNeuron\\Datasets\\Hands-On-ML.pdf\")\n",
    "page = reader.getPage(11)\n",
    "text = page.extract_text()\n",
    "text"
   ]
  },
  {
   "cell_type": "markdown",
   "id": "477da120",
   "metadata": {},
   "source": [
    "#### 3. What PdfFileReader variable stores the number of pages in the PDF document?\n",
    "\n",
    "#### Ans. \n",
    "\n",
    "```python\n",
    "file_path = \"H:\\ML\\iNeuron\\Datasets\\Hands-On-ML.pdf\"\n",
    "reader = PdfFileReader(file_path)\n",
    "total_pages = reader.getNumPages()\n",
    "```"
   ]
  },
  {
   "cell_type": "markdown",
   "id": "139a76db",
   "metadata": {},
   "source": [
    "#### 4. If a PdfFileReader object’s PDF is encrypted with the password swordfish, what must you do before you can obtain Page objects from it?\n",
    "\n",
    "#### Ans. \n",
    "\n",
    "`isEncrypted` property returns if the file is encrypted or not.\n",
    "\n",
    "`decrypt()` method reads the password protected file. "
   ]
  },
  {
   "cell_type": "code",
   "execution_count": null,
   "id": "da44f4c7",
   "metadata": {},
   "outputs": [],
   "source": [
    "from PyPDF2 import PdfFileReader\n",
    "\n",
    "reader = PdfFileReader(file_path)\n",
    "\n",
    "if pdf_reader.isEncrypted:\n",
    "    pdf_reader.decrypt(\"swordfish\")  # to check whether the pdf is encrypted or not\n",
    "\n",
    "for page in pdf_reader.pages:\n",
    "    print(page.extractText())    "
   ]
  },
  {
   "cell_type": "markdown",
   "id": "4682486a",
   "metadata": {},
   "source": [
    "#### 5. What methods do you use to rotate a page?\n",
    "\n",
    "#### Ans. \n",
    "\n",
    "`Page.rotateClockWise()` - For Clockwise rotation.\n",
    "\n",
    "`Page.rotateCounterClockWise()` - For Counter Clockwise rotation.\n",
    "\n",
    "Rotation is allowed only in multiple of 90 degrees."
   ]
  },
  {
   "cell_type": "markdown",
   "id": "bafa8ce0",
   "metadata": {},
   "source": [
    "#### 6. What is the difference between a Run object and a Paragraph object?\n",
    "\n",
    "#### Ans. \n",
    "\n",
    "`python-docx` represent any word document in 3 layers - \n",
    "\n",
    "    Document\n",
    "        Paragraph\n",
    "            run objects\n",
    "        \n",
    "Documents contains paragraphs, paragraphs contains one or many runs. Run holds the information related to styling of the text in the paragraph. A run is the object most closely associated with inline content; text, pictures, and other items that are flowed between the block-item boundaries within a paragraph."
   ]
  },
  {
   "cell_type": "markdown",
   "id": "a8d06351",
   "metadata": {},
   "source": [
    "#### 7. How do you obtain a list of Paragraph objects for a Document object that’s stored in a variable named doc?\n",
    "\n",
    "#### Ans. "
   ]
  },
  {
   "cell_type": "code",
   "execution_count": null,
   "id": "4ec3cf58",
   "metadata": {},
   "outputs": [],
   "source": [
    "from docx import Document\n",
    "\n",
    "doc = Document(\"sample_file.docx\")\n",
    "\n",
    "list_of_para = doc.paragraphs\n",
    "\n",
    "for para in doc.paragraphs:\n",
    "    print(para.text)"
   ]
  },
  {
   "cell_type": "markdown",
   "id": "2360a4da",
   "metadata": {},
   "source": [
    "#### 8. What type of object has bold, underline, italic, strike, and outline variables?\n",
    "\n",
    "#### Ans. \n",
    "\n",
    "`Run` object holds all the styling used in the paragraph"
   ]
  },
  {
   "cell_type": "markdown",
   "id": "67bce183",
   "metadata": {},
   "source": [
    "#### 9. What is the difference between False, True, and None for the bold variable?\n",
    "\n",
    "#### Ans. \n",
    "\n",
    "`bold = True` - the style is set to Bold.\n",
    "\n",
    "`bold = False` - the style is not set to Bold.\n",
    "\n",
    "`bold = None` - the bold style is not applicable."
   ]
  },
  {
   "cell_type": "markdown",
   "id": "38338804",
   "metadata": {},
   "source": [
    "#### 10. How do you create a Document object for a new Word document?\n",
    "\n",
    "#### Ans. "
   ]
  },
  {
   "cell_type": "code",
   "execution_count": 2,
   "id": "95124a28",
   "metadata": {},
   "outputs": [],
   "source": [
    "from docx import Document\n",
    "\n",
    "document = Document()\n",
    "\n",
    "document.add_paragraph(\"Some text\")\n",
    "\n",
    "document.save('myDocument.docx')"
   ]
  },
  {
   "cell_type": "markdown",
   "id": "13325725",
   "metadata": {},
   "source": [
    "#### 11. How do you add a paragraph with the text &#39;Hello, there!&#39; to a Document object stored in a variable named doc?\n",
    "\n",
    "#### Ans. "
   ]
  },
  {
   "cell_type": "code",
   "execution_count": null,
   "id": "946811b1",
   "metadata": {},
   "outputs": [],
   "source": [
    "from docx import Document\n",
    "\n",
    "doc = Document()\n",
    "\n",
    "doc.add_paragraph('Hello, there!')\n",
    "\n",
    "doc.save('hello.docx')"
   ]
  },
  {
   "cell_type": "markdown",
   "id": "8149b3d9",
   "metadata": {},
   "source": [
    "#### 12. What integers represent the levels of headings available in Word documents?\n",
    "\n",
    "#### Ans. \n",
    "\n",
    "Body text is divided into sections, each of which starts with a heading. Here’s how to add one:\n",
    "\n",
    "`document.add_heading('The REAL meaning of the universe')`\n",
    "\n",
    "\n",
    "By default, this adds a top-level heading, what appears in Word as `Heading 1`. When you want a heading for a sub-section, just specify the level you want as an integer between 1 and 9:\n",
    "\n",
    "`document.add_heading('The role of dolphins', level=2)`\n",
    "\n",
    "If you specify a level of 0, a “Title” paragraph is added. This can be handy to start a relatively short document that doesn’t have a separate title page."
   ]
  }
 ],
 "metadata": {
  "kernelspec": {
   "display_name": "Python 3 (ipykernel)",
   "language": "python",
   "name": "python3"
  },
  "language_info": {
   "codemirror_mode": {
    "name": "ipython",
    "version": 3
   },
   "file_extension": ".py",
   "mimetype": "text/x-python",
   "name": "python",
   "nbconvert_exporter": "python",
   "pygments_lexer": "ipython3",
   "version": "3.10.0"
  }
 },
 "nbformat": 4,
 "nbformat_minor": 5
}
