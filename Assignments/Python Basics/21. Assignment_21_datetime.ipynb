{
 "cells": [
  {
   "cell_type": "markdown",
   "id": "064b26d7",
   "metadata": {},
   "source": [
    "# Assignment 21"
   ]
  },
  {
   "cell_type": "markdown",
   "id": "811d116a",
   "metadata": {},
   "source": [
    "#### 1. Add the current date to the text file today.txt as a string.\n",
    "#### Ans."
   ]
  },
  {
   "cell_type": "code",
   "execution_count": 1,
   "id": "9c2e853f",
   "metadata": {},
   "outputs": [],
   "source": [
    "from datetime import datetime\n",
    "\n",
    "file = open('today.txt','w')\n",
    "file.write(datetime.now().strftime(\"%d-%m-%Y\"))\n",
    "file.close()"
   ]
  },
  {
   "cell_type": "markdown",
   "id": "0fe8598f",
   "metadata": {},
   "source": [
    "#### 2. Read the text file today.txt into the string today_string\n",
    "#### Ans."
   ]
  },
  {
   "cell_type": "code",
   "execution_count": 2,
   "id": "dae9c065",
   "metadata": {},
   "outputs": [
    {
     "data": {
      "text/plain": [
       "'11-09-2022'"
      ]
     },
     "execution_count": 2,
     "metadata": {},
     "output_type": "execute_result"
    }
   ],
   "source": [
    "file = open('today.txt','r')\n",
    "today_string = file.read()\n",
    "today_string"
   ]
  },
  {
   "cell_type": "markdown",
   "id": "7cba537c",
   "metadata": {},
   "source": [
    "#### 3. Parse the date from today_string.\n",
    "#### Ans."
   ]
  },
  {
   "cell_type": "code",
   "execution_count": 3,
   "id": "cb379329",
   "metadata": {},
   "outputs": [
    {
     "data": {
      "text/plain": [
       "datetime.datetime(2022, 9, 11, 0, 0)"
      ]
     },
     "execution_count": 3,
     "metadata": {},
     "output_type": "execute_result"
    }
   ],
   "source": [
    "parse_date = datetime.strptime(today_string, '%d-%m-%Y')\n",
    "parse_date"
   ]
  },
  {
   "cell_type": "markdown",
   "id": "50d045be",
   "metadata": {},
   "source": [
    "#### 4. List the files in your current directory\n",
    "#### Ans."
   ]
  },
  {
   "cell_type": "code",
   "execution_count": 4,
   "id": "b145060c",
   "metadata": {},
   "outputs": [
    {
     "name": "stdout",
     "output_type": "stream",
     "text": [
      ".ipynb_checkpoints\n",
      "01. Assignment_1.docx\n",
      "01. Assignment_1_values_expressions.ipynb\n",
      "02. Assignment_2_boolean.ipynb\n",
      "03. Assignment_3_functions.ipynb\n",
      "04. Assignment_4_list_tuples.ipynb\n",
      "05. Assignment_5_dict.ipynb\n",
      "06. Assignment_6_string.ipynb\n",
      "07. Assignment_7.ipynb\n",
      "08. Assignment_8_PyInputPlus.ipynb\n",
      "09. Assignment_9_relativePath.ipynb\n",
      "10. Assignment_10_shutil.ipynb\n",
      "11. Assignment_11_assert_log_debug.ipynb\n",
      "12. Assignment_12_pdf_word.ipynb\n",
      "13. Assignment_13_excel_json.ipynb\n",
      "14. Assignment_14_image.ipynb\n",
      "15. Assignment_15_datetime_prime.ipynb\n",
      "16. Assignment_16_list_dict.ipynb\n",
      "17. Assignment_17_forloop_genfunc.ipynb\n",
      "18. Assignment_18_import_modules.ipynb\n",
      "19. Assignment_19_class.ipynb\n",
      "20. Assignment_20_database.ipynb\n",
      "21. Assignment_21_datetime.ipynb\n",
      "22. Assignment_22.ipynb\n",
      "23. Assignment_23_functions.ipynb\n",
      "24. Assignment_24.ipynb\n",
      "25. Assignment_25.ipynb\n",
      "books.csv\n",
      "books.db\n",
      "invitation.jpg\n",
      "pic2.jpg\n",
      "test.txt\n",
      "today.txt\n",
      "Untitled.ipynb\n",
      "zoo.py\n",
      "__pycache__\n"
     ]
    }
   ],
   "source": [
    "import os\n",
    "for filename in os.listdir(os.getcwd()):\n",
    "    print(filename)"
   ]
  },
  {
   "cell_type": "markdown",
   "id": "74098f9b",
   "metadata": {},
   "source": [
    "#### 5. Create a list of all of the files in your parent directory (minimum five files should be available).\n",
    "#### Ans."
   ]
  },
  {
   "cell_type": "code",
   "execution_count": 5,
   "id": "c0170c8a",
   "metadata": {},
   "outputs": [
    {
     "data": {
      "text/plain": [
       "['.ipynb_checkpoints',\n",
       " '01. Assignment_1.docx',\n",
       " '01. Assignment_1_values_expressions.ipynb',\n",
       " '02. Assignment_2_boolean.ipynb',\n",
       " '03. Assignment_3_functions.ipynb',\n",
       " '04. Assignment_4_list_tuples.ipynb',\n",
       " '05. Assignment_5_dict.ipynb',\n",
       " '06. Assignment_6_string.ipynb',\n",
       " '07. Assignment_7.ipynb',\n",
       " '08. Assignment_8_PyInputPlus.ipynb',\n",
       " '09. Assignment_9_relativePath.ipynb',\n",
       " '10. Assignment_10_shutil.ipynb',\n",
       " '11. Assignment_11_assert_log_debug.ipynb',\n",
       " '12. Assignment_12_pdf_word.ipynb',\n",
       " '13. Assignment_13_excel_json.ipynb',\n",
       " '14. Assignment_14_image.ipynb',\n",
       " '15. Assignment_15_datetime_prime.ipynb',\n",
       " '16. Assignment_16_list_dict.ipynb',\n",
       " '17. Assignment_17_forloop_genfunc.ipynb',\n",
       " '18. Assignment_18_import_modules.ipynb',\n",
       " '19. Assignment_19_class.ipynb',\n",
       " '20. Assignment_20_database.ipynb',\n",
       " '21. Assignment_21_datetime.ipynb',\n",
       " '22. Assignment_22.ipynb',\n",
       " '23. Assignment_23_functions.ipynb',\n",
       " '24. Assignment_24.ipynb',\n",
       " '25. Assignment_25.ipynb',\n",
       " 'books.csv',\n",
       " 'books.db',\n",
       " 'invitation.jpg',\n",
       " 'pic2.jpg',\n",
       " 'test.txt',\n",
       " 'today.txt',\n",
       " 'Untitled.ipynb',\n",
       " 'zoo.py',\n",
       " '__pycache__']"
      ]
     },
     "execution_count": 5,
     "metadata": {},
     "output_type": "execute_result"
    }
   ],
   "source": [
    "dir = os.listdir()\n",
    "dir"
   ]
  },
  {
   "cell_type": "markdown",
   "id": "0574e6cb",
   "metadata": {},
   "source": [
    "#### 6. Use multiprocessing to create three separate processes. Make each one wait a random number of seconds between one and five, print the current time, and then exit.\n",
    "#### Ans."
   ]
  },
  {
   "cell_type": "code",
   "execution_count": 6,
   "id": "0f3404ef",
   "metadata": {},
   "outputs": [
    {
     "name": "stdout",
     "output_type": "stream",
     "text": [
      "process_1 Start : 2022-09-11 18:38:42.909025\n",
      "process_1 End : 2022-09-11 18:38:43.919316\n",
      "process_2 Start : 2022-09-11 18:38:43.920316\n",
      "process_2 End : 2022-09-11 18:38:47.926777\n",
      "process_3 Start : 2022-09-11 18:38:47.927729\n",
      "process_3 End : 2022-09-11 18:38:52.936986\n"
     ]
    }
   ],
   "source": [
    "import multiprocessing\n",
    "import time \n",
    "import random\n",
    "import datetime\n",
    "\n",
    "def do_work(thread):\n",
    "    print(f'{thread} Start : {datetime.datetime.now()}')\n",
    "    time.sleep(random.randint(1,5))\n",
    "    print(f'{thread} End : {datetime.datetime.now()}')\n",
    "    \n",
    "   \n",
    "p1 = multiprocessing.Process(target=do_work('process_1'))\n",
    "p2 = multiprocessing.Process(target=do_work('process_2'))\n",
    "p3 = multiprocessing.Process(target=do_work('process_3'))\n",
    "\n",
    "p1.start()\n",
    "p2.start()\n",
    "p3.start()\n",
    "\n",
    "p1.join()\n",
    "p2.join()\n",
    "p3.join()"
   ]
  },
  {
   "cell_type": "markdown",
   "id": "4e76883c",
   "metadata": {},
   "source": [
    "#### 7. Create a date object of your day of birth.\n",
    "#### Ans."
   ]
  },
  {
   "cell_type": "code",
   "execution_count": 7,
   "id": "a398285f",
   "metadata": {},
   "outputs": [
    {
     "data": {
      "text/plain": [
       "datetime.datetime(1984, 10, 13, 0, 0)"
      ]
     },
     "execution_count": 7,
     "metadata": {},
     "output_type": "execute_result"
    }
   ],
   "source": [
    "from datetime import datetime\n",
    "\n",
    "my_dob = datetime.strptime('13/10/1984','%d/%m/%Y')\n",
    "my_dob"
   ]
  },
  {
   "cell_type": "markdown",
   "id": "1e2e372e",
   "metadata": {},
   "source": [
    "#### 8. What day of the week was your day of birth?\n",
    "#### Ans."
   ]
  },
  {
   "cell_type": "code",
   "execution_count": 8,
   "id": "1df16752",
   "metadata": {},
   "outputs": [
    {
     "data": {
      "text/plain": [
       "'Saturday'"
      ]
     },
     "execution_count": 8,
     "metadata": {},
     "output_type": "execute_result"
    }
   ],
   "source": [
    "my_dob = datetime(1984,10,13)\n",
    "my_dob.strftime(\"%A\")"
   ]
  },
  {
   "cell_type": "markdown",
   "id": "395dab4e",
   "metadata": {},
   "source": [
    "#### 9. When will you be (or when were you) 10,000 days old?\n",
    "#### Ans."
   ]
  },
  {
   "cell_type": "code",
   "execution_count": 9,
   "id": "c79135a7",
   "metadata": {},
   "outputs": [
    {
     "name": "stdout",
     "output_type": "stream",
     "text": [
      "I will be 10000 days old on 2012-02-29 00:00:00.\n"
     ]
    }
   ],
   "source": [
    "from datetime import datetime, timedelta\n",
    "\n",
    "future_age = my_dob+timedelta(10000)\n",
    "print(f\"I will be 10000 days old on {future_age}.\")"
   ]
  },
  {
   "cell_type": "code",
   "execution_count": null,
   "id": "2766d1a9",
   "metadata": {},
   "outputs": [],
   "source": []
  }
 ],
 "metadata": {
  "kernelspec": {
   "display_name": "Python 3 (ipykernel)",
   "language": "python",
   "name": "python3"
  },
  "language_info": {
   "codemirror_mode": {
    "name": "ipython",
    "version": 3
   },
   "file_extension": ".py",
   "mimetype": "text/x-python",
   "name": "python",
   "nbconvert_exporter": "python",
   "pygments_lexer": "ipython3",
   "version": "3.10.0"
  }
 },
 "nbformat": 4,
 "nbformat_minor": 5
}
