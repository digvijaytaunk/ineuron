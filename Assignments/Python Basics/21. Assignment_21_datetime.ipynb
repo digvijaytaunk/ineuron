{
 "cells": [
  {
   "cell_type": "markdown",
   "id": "064b26d7",
   "metadata": {},
   "source": [
    "# Assignment 21"
   ]
  },
  {
   "cell_type": "markdown",
   "id": "811d116a",
   "metadata": {},
   "source": [
    "#### 1. Add the current date to the text file today.txt as a string.\n",
    "#### Ans."
   ]
  },
  {
   "cell_type": "code",
   "execution_count": null,
   "id": "9c2e853f",
   "metadata": {},
   "outputs": [],
   "source": []
  },
  {
   "cell_type": "markdown",
   "id": "0fe8598f",
   "metadata": {},
   "source": [
    "#### 2. Read the text file today.txt into the string today_string\n",
    "#### Ans."
   ]
  },
  {
   "cell_type": "code",
   "execution_count": null,
   "id": "dae9c065",
   "metadata": {},
   "outputs": [],
   "source": []
  },
  {
   "cell_type": "markdown",
   "id": "7cba537c",
   "metadata": {},
   "source": [
    "#### 3. Parse the date from today_string.\n",
    "#### Ans."
   ]
  },
  {
   "cell_type": "code",
   "execution_count": null,
   "id": "cb379329",
   "metadata": {},
   "outputs": [],
   "source": []
  },
  {
   "cell_type": "markdown",
   "id": "50d045be",
   "metadata": {},
   "source": [
    "#### 4. List the files in your current directory\n",
    "#### Ans."
   ]
  },
  {
   "cell_type": "code",
   "execution_count": null,
   "id": "583bae19",
   "metadata": {},
   "outputs": [],
   "source": []
  },
  {
   "cell_type": "markdown",
   "id": "74098f9b",
   "metadata": {},
   "source": [
    "#### 5. Create a list of all of the files in your parent directory (minimum five files should be available).\n",
    "#### Ans."
   ]
  },
  {
   "cell_type": "code",
   "execution_count": null,
   "id": "c0170c8a",
   "metadata": {},
   "outputs": [],
   "source": []
  },
  {
   "cell_type": "markdown",
   "id": "0574e6cb",
   "metadata": {},
   "source": [
    "#### 6. Use multiprocessing to create three separate processes. Make each one wait a random number of seconds between one and five, print the current time, and then exit.\n",
    "#### Ans."
   ]
  },
  {
   "cell_type": "code",
   "execution_count": null,
   "id": "0f3404ef",
   "metadata": {},
   "outputs": [],
   "source": []
  },
  {
   "cell_type": "markdown",
   "id": "4e76883c",
   "metadata": {},
   "source": [
    "#### 7. Create a date object of your day of birth.\n",
    "#### Ans."
   ]
  },
  {
   "cell_type": "code",
   "execution_count": null,
   "id": "a398285f",
   "metadata": {},
   "outputs": [],
   "source": []
  },
  {
   "cell_type": "markdown",
   "id": "1e2e372e",
   "metadata": {},
   "source": [
    "#### 8. What day of the week was your day of birth?\n",
    "#### Ans."
   ]
  },
  {
   "cell_type": "code",
   "execution_count": null,
   "id": "1df16752",
   "metadata": {},
   "outputs": [],
   "source": []
  },
  {
   "cell_type": "markdown",
   "id": "395dab4e",
   "metadata": {},
   "source": [
    "#### 9. When will you be (or when were you) 10,000 days old?\n",
    "#### Ans."
   ]
  },
  {
   "cell_type": "code",
   "execution_count": null,
   "id": "c79135a7",
   "metadata": {},
   "outputs": [],
   "source": []
  }
 ],
 "metadata": {
  "kernelspec": {
   "display_name": "Python 3 (ipykernel)",
   "language": "python",
   "name": "python3"
  },
  "language_info": {
   "codemirror_mode": {
    "name": "ipython",
    "version": 3
   },
   "file_extension": ".py",
   "mimetype": "text/x-python",
   "name": "python",
   "nbconvert_exporter": "python",
   "pygments_lexer": "ipython3",
   "version": "3.10.0"
  }
 },
 "nbformat": 4,
 "nbformat_minor": 5
}
